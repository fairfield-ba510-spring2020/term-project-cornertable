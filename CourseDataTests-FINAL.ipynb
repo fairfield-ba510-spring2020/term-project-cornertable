{
 "cells": [
  {
   "cell_type": "markdown",
   "metadata": {},
   "source": [
    "# CourseData Tests"
   ]
  },
  {
   "cell_type": "code",
   "execution_count": 5,
   "metadata": {},
   "outputs": [],
   "source": [
    "%load_ext sql"
   ]
  },
  {
   "cell_type": "code",
   "execution_count": 6,
   "metadata": {},
   "outputs": [
    {
     "data": {
      "text/plain": [
       "'Connected: @CourseData.db'"
      ]
     },
     "execution_count": 6,
     "metadata": {},
     "output_type": "execute_result"
    }
   ],
   "source": [
    "%%sql \n",
    "sqlite:///CourseData.db\n"
   ]
  },
  {
   "cell_type": "markdown",
   "metadata": {},
   "source": [
    "## Domain Integrity Checks"
   ]
  },
  {
   "cell_type": "code",
   "execution_count": 7,
   "metadata": {},
   "outputs": [
    {
     "name": "stdout",
     "output_type": "stream",
     "text": [
      " * sqlite:///CourseData.db\n",
      "Done.\n"
     ]
    },
    {
     "data": {
      "text/html": [
       "<table>\n",
       "    <tr>\n",
       "        <th>type</th>\n",
       "        <th>name</th>\n",
       "        <th>tbl_name</th>\n",
       "        <th>rootpage</th>\n",
       "        <th>sql</th>\n",
       "    </tr>\n",
       "    <tr>\n",
       "        <td>table</td>\n",
       "        <td>PROFESSORS</td>\n",
       "        <td>PROFESSORS</td>\n",
       "        <td>2</td>\n",
       "        <td>CREATE TABLE PROFESSORS (<br>    Professor_id INTEGER PRIMARY KEY,<br>    Name TEXT NOT NULL<br>)</td>\n",
       "    </tr>\n",
       "    <tr>\n",
       "        <td>table</td>\n",
       "        <td>PROGRAMS</td>\n",
       "        <td>PROGRAMS</td>\n",
       "        <td>3</td>\n",
       "        <td>CREATE TABLE PROGRAMS (<br>    Program_id INTEGER PRIMARY KEY,<br>    program_code TEXT NOT NULL,<br>    program_name TEXT NOT NULL<br>)</td>\n",
       "    </tr>\n",
       "    <tr>\n",
       "        <td>table</td>\n",
       "        <td>LOCATIONS</td>\n",
       "        <td>LOCATIONS</td>\n",
       "        <td>4</td>\n",
       "        <td>CREATE TABLE LOCATIONS (<br>    Location_id INTEGER PRIMARY KEY,<br>    location TEXT NOT NULL<br>)</td>\n",
       "    </tr>\n",
       "    <tr>\n",
       "        <td>table</td>\n",
       "        <td>COURSES</td>\n",
       "        <td>COURSES</td>\n",
       "        <td>5</td>\n",
       "        <td>CREATE TABLE COURSES (<br>    Course_id INTEGER PRIMARY KEY, <br>    CatalogYear TEXT NOT NULL,<br>    Catalog_id TEXT NOT NULL,<br>    Course_title TEXT NOT NULL,<br>    Credits TEXT NOT NULL,<br>    Attributes TEXT,<br>    Prereqs TEXT,<br>    Coreqs TEXT,<br>    Description TEXT,<br>    Fee TEXT,<br>    Program_id INTEGER NOT NULL,<br>    FOREIGN KEY (Program_id) REFERENCES PROGRAMS(Program_id)<br>)</td>\n",
       "    </tr>\n",
       "    <tr>\n",
       "        <td>table</td>\n",
       "        <td>COURSE_OFFERINGS</td>\n",
       "        <td>COURSE_OFFERINGS</td>\n",
       "        <td>6</td>\n",
       "        <td>CREATE TABLE COURSE_OFFERINGS (<br>    Offering_id INTEGER PRIMARY KEY,<br>    CatalogYear TEXT,<br>    Term TEXT NOT NULL,<br>    Section TEXT NOT NULL,<br>    Crn TEXT NOT NULL,<br>    Title TEXT NOT NULL,<br>    Credits REAL,<br>    Cap INTEGER NOT NULL,<br>    Actual INTEGER NOT NULL,<br>    Remaining INTEGER NOT NULL,<br>    Timecodes TEXT,<br>    Meetings TEXT,<br>    Course_id INTEGER,<br>    Professor_id INTEGER,<br>    FOREIGN KEY (Professor_id) REFERENCES PROFESSORS(Professor_id)<br>    FOREIGN KEY (Course_id) REFERENCES COURSES(Course_id)<br>)</td>\n",
       "    </tr>\n",
       "    <tr>\n",
       "        <td>table</td>\n",
       "        <td>MEETINGS</td>\n",
       "        <td>MEETINGS</td>\n",
       "        <td>7</td>\n",
       "        <td>CREATE TABLE MEETINGS (<br>    Meetings_id INTEGER PRIMARY KEY,<br>    Day TEXT,<br>    Start TEXT NOT NULL,<br>    End TEXT NOT NULL,<br>    Location_id INTEGER NOT NULL,<br>    Offering_id INTEGER,<br>    FOREIGN KEY (Location_id) REFERENCES LOCATIONS(Location_id),<br>    FOREIGN KEY (Offering_id) REFERENCES COURSE_OFFERINGS(Offering_id)<br>)</td>\n",
       "    </tr>\n",
       "    <tr>\n",
       "        <td>table</td>\n",
       "        <td>CATALOG_YEAR</td>\n",
       "        <td>CATALOG_YEAR</td>\n",
       "        <td>8</td>\n",
       "        <td>CREATE TABLE CATALOG_YEAR (<br>    CatalogYear TEXT,<br>    Term TEXT<br>)</td>\n",
       "    </tr>\n",
       "    <tr>\n",
       "        <td>table</td>\n",
       "        <td>IMPORT_CATALOG_COURSES</td>\n",
       "        <td>IMPORT_CATALOG_COURSES</td>\n",
       "        <td>9</td>\n",
       "        <td>CREATE TABLE &quot;IMPORT_CATALOG_COURSES&quot; (<br>&quot;program_code&quot; TEXT,<br>  &quot;program_name&quot; TEXT,<br>  &quot;catalog_id&quot; TEXT,<br>  &quot;course_title&quot; TEXT,<br>  &quot;credits&quot; TEXT,<br>  &quot;prereqs&quot; TEXT,<br>  &quot;coreqs&quot; TEXT,<br>  &quot;fees&quot; TEXT,<br>  &quot;attributes&quot; TEXT,<br>  &quot;description&quot; TEXT,<br>  &quot;cat_year&quot; TEXT<br>)</td>\n",
       "    </tr>\n",
       "    <tr>\n",
       "        <td>table</td>\n",
       "        <td>IMPORT_COURSE_MEETINGS</td>\n",
       "        <td>IMPORT_COURSE_MEETINGS</td>\n",
       "        <td>751</td>\n",
       "        <td>CREATE TABLE &quot;IMPORT_COURSE_MEETINGS&quot; (<br>&quot;term&quot; TEXT,<br>  &quot;crn&quot; INTEGER,<br>  &quot;location&quot; TEXT,<br>  &quot;day&quot; TEXT,<br>  &quot;start&quot; TEXT,<br>  &quot;end&quot; TEXT<br>)</td>\n",
       "    </tr>\n",
       "    <tr>\n",
       "        <td>table</td>\n",
       "        <td>IMPORT_COURSE_OFFERINGS</td>\n",
       "        <td>IMPORT_COURSE_OFFERINGS</td>\n",
       "        <td>5733</td>\n",
       "        <td>CREATE TABLE &quot;IMPORT_COURSE_OFFERINGS&quot; (<br>&quot;term&quot; TEXT,<br>  &quot;crn&quot; INTEGER,<br>  &quot;catalog_id&quot; TEXT,<br>  &quot;section&quot; TEXT,<br>  &quot;credits&quot; TEXT,<br>  &quot;title&quot; TEXT,<br>  &quot;meetings&quot; TEXT,<br>  &quot;timecodes&quot; TEXT,<br>  &quot;primary_instructor&quot; TEXT,<br>  &quot;cap&quot; INTEGER,<br>  &quot;act&quot; INTEGER,<br>  &quot;rem&quot; INTEGER,<br>  &quot;cat_year&quot; TEXT<br>)</td>\n",
       "    </tr>\n",
       "</table>"
      ],
      "text/plain": [
       "[('table', 'PROFESSORS', 'PROFESSORS', 2, 'CREATE TABLE PROFESSORS (\\n    Professor_id INTEGER PRIMARY KEY,\\n    Name TEXT NOT NULL\\n)'),\n",
       " ('table', 'PROGRAMS', 'PROGRAMS', 3, 'CREATE TABLE PROGRAMS (\\n    Program_id INTEGER PRIMARY KEY,\\n    program_code TEXT NOT NULL,\\n    program_name TEXT NOT NULL\\n)'),\n",
       " ('table', 'LOCATIONS', 'LOCATIONS', 4, 'CREATE TABLE LOCATIONS (\\n    Location_id INTEGER PRIMARY KEY,\\n    location TEXT NOT NULL\\n)'),\n",
       " ('table', 'COURSES', 'COURSES', 5, 'CREATE TABLE COURSES (\\n    Course_id INTEGER PRIMARY KEY, \\n    CatalogYear TEXT NOT NULL,\\n    Catalog_id TEXT NOT NULL,\\n    Course_title TEXT NOT ... (81 characters truncated) ... Coreqs TEXT,\\n    Description TEXT,\\n    Fee TEXT,\\n    Program_id INTEGER NOT NULL,\\n    FOREIGN KEY (Program_id) REFERENCES PROGRAMS(Program_id)\\n)'),\n",
       " ('table', 'COURSE_OFFERINGS', 'COURSE_OFFERINGS', 6, 'CREATE TABLE COURSE_OFFERINGS (\\n    Offering_id INTEGER PRIMARY KEY,\\n    CatalogYear TEXT,\\n    Term TEXT NOT NULL,\\n    Section TEXT NOT NULL,\\n   ... (228 characters truncated) ... ofessor_id INTEGER,\\n    FOREIGN KEY (Professor_id) REFERENCES PROFESSORS(Professor_id)\\n    FOREIGN KEY (Course_id) REFERENCES COURSES(Course_id)\\n)'),\n",
       " ('table', 'MEETINGS', 'MEETINGS', 7, 'CREATE TABLE MEETINGS (\\n    Meetings_id INTEGER PRIMARY KEY,\\n    Day TEXT,\\n    Start TEXT NOT NULL,\\n    End TEXT NOT NULL,\\n    Location_id INTEG ... (30 characters truncated) ... INTEGER,\\n    FOREIGN KEY (Location_id) REFERENCES LOCATIONS(Location_id),\\n    FOREIGN KEY (Offering_id) REFERENCES COURSE_OFFERINGS(Offering_id)\\n)'),\n",
       " ('table', 'CATALOG_YEAR', 'CATALOG_YEAR', 8, 'CREATE TABLE CATALOG_YEAR (\\n    CatalogYear TEXT,\\n    Term TEXT\\n)'),\n",
       " ('table', 'IMPORT_CATALOG_COURSES', 'IMPORT_CATALOG_COURSES', 9, 'CREATE TABLE \"IMPORT_CATALOG_COURSES\" (\\n\"program_code\" TEXT,\\n  \"program_name\" TEXT,\\n  \"catalog_id\" TEXT,\\n  \"course_title\" TEXT,\\n  \"credits\" TEXT,\\n  \"prereqs\" TEXT,\\n  \"coreqs\" TEXT,\\n  \"fees\" TEXT,\\n  \"attributes\" TEXT,\\n  \"description\" TEXT,\\n  \"cat_year\" TEXT\\n)'),\n",
       " ('table', 'IMPORT_COURSE_MEETINGS', 'IMPORT_COURSE_MEETINGS', 751, 'CREATE TABLE \"IMPORT_COURSE_MEETINGS\" (\\n\"term\" TEXT,\\n  \"crn\" INTEGER,\\n  \"location\" TEXT,\\n  \"day\" TEXT,\\n  \"start\" TEXT,\\n  \"end\" TEXT\\n)'),\n",
       " ('table', 'IMPORT_COURSE_OFFERINGS', 'IMPORT_COURSE_OFFERINGS', 5733, 'CREATE TABLE \"IMPORT_COURSE_OFFERINGS\" (\\n\"term\" TEXT,\\n  \"crn\" INTEGER,\\n  \"catalog_id\" TEXT,\\n  \"section\" TEXT,\\n  \"credits\" TEXT,\\n  \"title\" TEXT,\\n  \"meetings\" TEXT,\\n  \"timecodes\" TEXT,\\n  \"primary_instructor\" TEXT,\\n  \"cap\" INTEGER,\\n  \"act\" INTEGER,\\n  \"rem\" INTEGER,\\n  \"cat_year\" TEXT\\n)')]"
      ]
     },
     "execution_count": 7,
     "metadata": {},
     "output_type": "execute_result"
    }
   ],
   "source": [
    "%%sql\n",
    "-- Checks database tables and columns within\n",
    "\n",
    "SELECT * FROM sqlite_master;"
   ]
  },
  {
   "cell_type": "code",
   "execution_count": 8,
   "metadata": {},
   "outputs": [
    {
     "name": "stdout",
     "output_type": "stream",
     "text": [
      " * sqlite:///CourseData.db\n",
      "Done.\n"
     ]
    },
    {
     "data": {
      "text/html": [
       "<table>\n",
       "    <tr>\n",
       "        <th>CatalogCourses</th>\n",
       "        <th>CourseOfferings</th>\n",
       "        <th>CourseMeetings</th>\n",
       "    </tr>\n",
       "    <tr>\n",
       "        <td>4440</td>\n",
       "        <td>15937</td>\n",
       "        <td>284847</td>\n",
       "    </tr>\n",
       "</table>"
      ],
      "text/plain": [
       "[(4440, 15937, 284847)]"
      ]
     },
     "execution_count": 8,
     "metadata": {},
     "output_type": "execute_result"
    }
   ],
   "source": [
    "\n",
    "%%sql\n",
    "--Confirm that correct num of records retrieved\n",
    "\n",
    "SELECT \n",
    "    (SELECT Count(*) FROM COURSES) as CatalogCourses,\n",
    "    (SELECT Count(*) FROM COURSE_OFFERINGS) as CourseOfferings,\n",
    "    (SELECT Count(*) FROM MEETINGS) as CourseMeetings"
   ]
  },
  {
   "cell_type": "code",
   "execution_count": null,
   "metadata": {},
   "outputs": [],
   "source": []
  },
  {
   "cell_type": "markdown",
   "metadata": {},
   "source": [
    "## Entity Integrity Checks "
   ]
  },
  {
   "cell_type": "code",
   "execution_count": 9,
   "metadata": {},
   "outputs": [
    {
     "name": "stdout",
     "output_type": "stream",
     "text": [
      " * sqlite:///CourseData.db\n",
      "Done.\n"
     ]
    },
    {
     "data": {
      "text/html": [
       "<table>\n",
       "    <tr>\n",
       "        <th>Professor_id</th>\n",
       "        <th>Name</th>\n",
       "    </tr>\n",
       "    <tr>\n",
       "        <td>275</td>\n",
       "        <td>Christopher L.  Huntley</td>\n",
       "    </tr>\n",
       "</table>"
      ],
      "text/plain": [
       "[(275, 'Christopher L.  Huntley')]"
      ]
     },
     "execution_count": 9,
     "metadata": {},
     "output_type": "execute_result"
    }
   ],
   "source": [
    "\n",
    "%%sql \n",
    "-- Testing PROFESSORS Table to retrieve unique values\n",
    "\n",
    "SELECT *\n",
    "FROM PROFESSORS\n",
    "WHERE Name LIKE '%Huntley';"
   ]
  },
  {
   "cell_type": "code",
   "execution_count": 10,
   "metadata": {},
   "outputs": [
    {
     "name": "stdout",
     "output_type": "stream",
     "text": [
      " * sqlite:///CourseData.db\n",
      "Done.\n"
     ]
    },
    {
     "data": {
      "text/html": [
       "<table>\n",
       "    <tr>\n",
       "        <th>Program_id</th>\n",
       "        <th>program_code</th>\n",
       "        <th>program_name</th>\n",
       "    </tr>\n",
       "    <tr>\n",
       "        <td>47</td>\n",
       "        <td>IS</td>\n",
       "        <td>Information Systems</td>\n",
       "    </tr>\n",
       "</table>"
      ],
      "text/plain": [
       "[(47, 'IS', 'Information Systems')]"
      ]
     },
     "execution_count": 10,
     "metadata": {},
     "output_type": "execute_result"
    }
   ],
   "source": [
    "%%sql \n",
    "-- Testing PROGRAMS Table to retrieve a unique value\n",
    "\n",
    "SELECT *\n",
    "FROM PROGRAMS\n",
    "WHERE program_name LIKE '%Systems';"
   ]
  },
  {
   "cell_type": "code",
   "execution_count": 7,
   "metadata": {},
   "outputs": [
    {
     "name": "stdout",
     "output_type": "stream",
     "text": [
      " * sqlite:///CourseData.db\n",
      "Done.\n"
     ]
    },
    {
     "data": {
      "text/html": [
       "<table>\n",
       "    <tr>\n",
       "        <th>count (Program_name)</th>\n",
       "    </tr>\n",
       "    <tr>\n",
       "        <td>83</td>\n",
       "    </tr>\n",
       "</table>"
      ],
      "text/plain": [
       "[(83,)]"
      ]
     },
     "execution_count": 7,
     "metadata": {},
     "output_type": "execute_result"
    }
   ],
   "source": [
    "%%sql\n",
    "SELECT count (Program_name)\n",
    "FROM PROGRAMS;"
   ]
  },
  {
   "cell_type": "code",
   "execution_count": 11,
   "metadata": {},
   "outputs": [
    {
     "name": "stdout",
     "output_type": "stream",
     "text": [
      " * sqlite:///CourseData.db\n",
      "Done.\n"
     ]
    },
    {
     "data": {
      "text/html": [
       "<table>\n",
       "    <tr>\n",
       "        <th>Location_id</th>\n",
       "        <th>location</th>\n",
       "    </tr>\n",
       "    <tr>\n",
       "        <td>98</td>\n",
       "        <td>DSB 104</td>\n",
       "    </tr>\n",
       "    <tr>\n",
       "        <td>99</td>\n",
       "        <td>DSB 105</td>\n",
       "    </tr>\n",
       "    <tr>\n",
       "        <td>100</td>\n",
       "        <td>DSB 106</td>\n",
       "    </tr>\n",
       "    <tr>\n",
       "        <td>101</td>\n",
       "        <td>DSB 107</td>\n",
       "    </tr>\n",
       "    <tr>\n",
       "        <td>102</td>\n",
       "        <td>DSB 108</td>\n",
       "    </tr>\n",
       "    <tr>\n",
       "        <td>103</td>\n",
       "        <td>DSB 109</td>\n",
       "    </tr>\n",
       "    <tr>\n",
       "        <td>104</td>\n",
       "        <td>DSB 110</td>\n",
       "    </tr>\n",
       "    <tr>\n",
       "        <td>105</td>\n",
       "        <td>DSB 110A</td>\n",
       "    </tr>\n",
       "    <tr>\n",
       "        <td>106</td>\n",
       "        <td>DSB 110B</td>\n",
       "    </tr>\n",
       "    <tr>\n",
       "        <td>107</td>\n",
       "        <td>DSB 111</td>\n",
       "    </tr>\n",
       "    <tr>\n",
       "        <td>108</td>\n",
       "        <td>DSB 112</td>\n",
       "    </tr>\n",
       "    <tr>\n",
       "        <td>109</td>\n",
       "        <td>DSB 114</td>\n",
       "    </tr>\n",
       "    <tr>\n",
       "        <td>110</td>\n",
       "        <td>DSB 115</td>\n",
       "    </tr>\n",
       "    <tr>\n",
       "        <td>111</td>\n",
       "        <td>DSB 2109A</td>\n",
       "    </tr>\n",
       "</table>"
      ],
      "text/plain": [
       "[(98, 'DSB 104'),\n",
       " (99, 'DSB 105'),\n",
       " (100, 'DSB 106'),\n",
       " (101, 'DSB 107'),\n",
       " (102, 'DSB 108'),\n",
       " (103, 'DSB 109'),\n",
       " (104, 'DSB 110'),\n",
       " (105, 'DSB 110A'),\n",
       " (106, 'DSB 110B'),\n",
       " (107, 'DSB 111'),\n",
       " (108, 'DSB 112'),\n",
       " (109, 'DSB 114'),\n",
       " (110, 'DSB 115'),\n",
       " (111, 'DSB 2109A')]"
      ]
     },
     "execution_count": 11,
     "metadata": {},
     "output_type": "execute_result"
    }
   ],
   "source": [
    "\n",
    "%%sql \n",
    "-- Testing LOCATIONS Table for unique values\n",
    "\n",
    "SELECT *\n",
    "FROM LOCATIONS\n",
    "WHERE location LIKE 'DSB%';"
   ]
  },
  {
   "cell_type": "code",
   "execution_count": 12,
   "metadata": {},
   "outputs": [
    {
     "name": "stdout",
     "output_type": "stream",
     "text": [
      " * sqlite:///CourseData.db\n",
      "Done.\n"
     ]
    },
    {
     "data": {
      "text/html": [
       "<table>\n",
       "    <tr>\n",
       "        <th>Course_id</th>\n",
       "        <th>CatalogYear</th>\n",
       "        <th>Catalog_id</th>\n",
       "        <th>Course_title</th>\n",
       "        <th>Credits</th>\n",
       "        <th>Attributes</th>\n",
       "        <th>Prereqs</th>\n",
       "        <th>Coreqs</th>\n",
       "        <th>Description</th>\n",
       "        <th>Fee</th>\n",
       "        <th>Program_id</th>\n",
       "    </tr>\n",
       "    <tr>\n",
       "        <td>1679</td>\n",
       "        <td>2017_2018</td>\n",
       "        <td>CS 0355</td>\n",
       "        <td>Artificial Intelligence</td>\n",
       "        <td>3 Credits</td>\n",
       "        <td>None</td>\n",
       "        <td>CS 0232.</td>\n",
       "        <td>None</td>\n",
       "        <td>This course, which examines computer implementation of processes of thought, includes knowledge representation, games, theorem proving, heuristics, symbolic techniques, neural networks, genetic algorithms, and artificial life.</td>\n",
       "        <td>None</td>\n",
       "        <td>19</td>\n",
       "    </tr>\n",
       "    <tr>\n",
       "        <td>583</td>\n",
       "        <td>2017_2018</td>\n",
       "        <td>SW 0518</td>\n",
       "        <td>Data Mining and Business Intelligence</td>\n",
       "        <td>3 Credits</td>\n",
       "        <td>None</td>\n",
       "        <td>None</td>\n",
       "        <td>None</td>\n",
       "        <td>This course examines business intelligence concepts, methods and processes used to improve data-centric business decision support solutions with a particular focus on data mining techniques. We will first examine the principles and practices of gathering and retrieving large volumes of data for analysis and synthesis. Next we will examine analytical techniques for extracting information from large data sets. In particular, the course examines the following data mining techniques: classification, estimation, prediction, and clustering. During the course we will also discuss knowledge management, how organizations manage and use the knowledge that they acquire, and presentation of data.</td>\n",
       "        <td>None</td>\n",
       "        <td>80</td>\n",
       "    </tr>\n",
       "</table>"
      ],
      "text/plain": [
       "[(1679, '2017_2018', 'CS 0355', 'Artificial Intelligence', '3 Credits', None, 'CS 0232.', None, 'This course, which examines computer implementation of processes of thought, includes knowledge representation, games, theorem proving, heuristics, symbolic techniques, neural networks, genetic algorithms, and artificial life.', None, 19),\n",
       " (583, '2017_2018', 'SW 0518', 'Data Mining and Business Intelligence', '3 Credits', None, None, None, 'This course examines business intelligence concepts, methods and processes used to improve data-centric business decision support solutions with a pa ... (395 characters truncated) ... ing the course we will also discuss knowledge management, how organizations manage and use the knowledge that they acquire, and presentation of data.', None, 80)]"
      ]
     },
     "execution_count": 12,
     "metadata": {},
     "output_type": "execute_result"
    }
   ],
   "source": [
    "%%sql \n",
    "-- Testing COURSES Table to retrieve specific courses\n",
    "\n",
    "SELECT *\n",
    "FROM COURSES\n",
    "GROUP BY Course_title\n",
    "HAVING Course_title LIKE '%Intelligence';"
   ]
  },
  {
   "cell_type": "code",
   "execution_count": 13,
   "metadata": {},
   "outputs": [
    {
     "name": "stdout",
     "output_type": "stream",
     "text": [
      " * sqlite:///CourseData.db\n",
      "Done.\n"
     ]
    },
    {
     "data": {
      "text/html": [
       "<table>\n",
       "    <tr>\n",
       "        <th>Term</th>\n",
       "    </tr>\n",
       "    <tr>\n",
       "        <td>Fall2014</td>\n",
       "    </tr>\n",
       "    <tr>\n",
       "        <td>Fall2015</td>\n",
       "    </tr>\n",
       "    <tr>\n",
       "        <td>Fall2016</td>\n",
       "    </tr>\n",
       "    <tr>\n",
       "        <td>Fall2017</td>\n",
       "    </tr>\n",
       "    <tr>\n",
       "        <td>Fall2018</td>\n",
       "    </tr>\n",
       "    <tr>\n",
       "        <td>Spring2015</td>\n",
       "    </tr>\n",
       "    <tr>\n",
       "        <td>Spring2016</td>\n",
       "    </tr>\n",
       "    <tr>\n",
       "        <td>Spring2017</td>\n",
       "    </tr>\n",
       "    <tr>\n",
       "        <td>Spring2018</td>\n",
       "    </tr>\n",
       "    <tr>\n",
       "        <td>Spring2019</td>\n",
       "    </tr>\n",
       "    <tr>\n",
       "        <td>SpringBreak2017</td>\n",
       "    </tr>\n",
       "    <tr>\n",
       "        <td>Summer2015</td>\n",
       "    </tr>\n",
       "    <tr>\n",
       "        <td>Summer2016</td>\n",
       "    </tr>\n",
       "    <tr>\n",
       "        <td>Summer2017</td>\n",
       "    </tr>\n",
       "    <tr>\n",
       "        <td>Summer2018</td>\n",
       "    </tr>\n",
       "    <tr>\n",
       "        <td>Winter2015</td>\n",
       "    </tr>\n",
       "    <tr>\n",
       "        <td>Winter2016</td>\n",
       "    </tr>\n",
       "    <tr>\n",
       "        <td>Winter2017</td>\n",
       "    </tr>\n",
       "    <tr>\n",
       "        <td>Winter2018</td>\n",
       "    </tr>\n",
       "</table>"
      ],
      "text/plain": [
       "[('Fall2014',),\n",
       " ('Fall2015',),\n",
       " ('Fall2016',),\n",
       " ('Fall2017',),\n",
       " ('Fall2018',),\n",
       " ('Spring2015',),\n",
       " ('Spring2016',),\n",
       " ('Spring2017',),\n",
       " ('Spring2018',),\n",
       " ('Spring2019',),\n",
       " ('SpringBreak2017',),\n",
       " ('Summer2015',),\n",
       " ('Summer2016',),\n",
       " ('Summer2017',),\n",
       " ('Summer2018',),\n",
       " ('Winter2015',),\n",
       " ('Winter2016',),\n",
       " ('Winter2017',),\n",
       " ('Winter2018',)]"
      ]
     },
     "execution_count": 13,
     "metadata": {},
     "output_type": "execute_result"
    }
   ],
   "source": [
    "%%sql \n",
    "-- Testing COURSE_OFFERINGS Table to ensure it holds all years\n",
    "\n",
    "SELECT DISTINCT term\n",
    "FROM COURSE_OFFERINGS\n",
    "--WHERE program_name LIKE '%Systems';"
   ]
  },
  {
   "cell_type": "code",
   "execution_count": 14,
   "metadata": {},
   "outputs": [
    {
     "name": "stdout",
     "output_type": "stream",
     "text": [
      " * sqlite:///CourseData.db\n",
      "Done.\n"
     ]
    },
    {
     "data": {
      "text/html": [
       "<table>\n",
       "    <tr>\n",
       "        <th>Meetings_id</th>\n",
       "        <th>Day</th>\n",
       "        <th>Start</th>\n",
       "        <th>End</th>\n",
       "        <th>Location_id</th>\n",
       "        <th>Offering_id</th>\n",
       "    </tr>\n",
       "    <tr>\n",
       "        <td>1</td>\n",
       "        <td>T</td>\n",
       "        <td>2014-09-02T08:00:00</td>\n",
       "        <td>2014-09-02T09:15:00</td>\n",
       "        <td>99</td>\n",
       "        <td>1</td>\n",
       "    </tr>\n",
       "    <tr>\n",
       "        <td>2</td>\n",
       "        <td>F</td>\n",
       "        <td>2014-09-05T08:00:00</td>\n",
       "        <td>2014-09-05T09:15:00</td>\n",
       "        <td>99</td>\n",
       "        <td>1</td>\n",
       "    </tr>\n",
       "    <tr>\n",
       "        <td>3</td>\n",
       "        <td>T</td>\n",
       "        <td>2014-09-09T08:00:00</td>\n",
       "        <td>2014-09-09T09:15:00</td>\n",
       "        <td>99</td>\n",
       "        <td>1</td>\n",
       "    </tr>\n",
       "    <tr>\n",
       "        <td>4</td>\n",
       "        <td>F</td>\n",
       "        <td>2014-09-12T08:00:00</td>\n",
       "        <td>2014-09-12T09:15:00</td>\n",
       "        <td>99</td>\n",
       "        <td>1</td>\n",
       "    </tr>\n",
       "    <tr>\n",
       "        <td>5</td>\n",
       "        <td>T</td>\n",
       "        <td>2014-09-16T08:00:00</td>\n",
       "        <td>2014-09-16T09:15:00</td>\n",
       "        <td>99</td>\n",
       "        <td>1</td>\n",
       "    </tr>\n",
       "    <tr>\n",
       "        <td>6</td>\n",
       "        <td>F</td>\n",
       "        <td>2014-09-19T08:00:00</td>\n",
       "        <td>2014-09-19T09:15:00</td>\n",
       "        <td>99</td>\n",
       "        <td>1</td>\n",
       "    </tr>\n",
       "    <tr>\n",
       "        <td>7</td>\n",
       "        <td>T</td>\n",
       "        <td>2014-09-23T08:00:00</td>\n",
       "        <td>2014-09-23T09:15:00</td>\n",
       "        <td>99</td>\n",
       "        <td>1</td>\n",
       "    </tr>\n",
       "    <tr>\n",
       "        <td>8</td>\n",
       "        <td>F</td>\n",
       "        <td>2014-09-26T08:00:00</td>\n",
       "        <td>2014-09-26T09:15:00</td>\n",
       "        <td>99</td>\n",
       "        <td>1</td>\n",
       "    </tr>\n",
       "    <tr>\n",
       "        <td>9</td>\n",
       "        <td>T</td>\n",
       "        <td>2014-09-30T08:00:00</td>\n",
       "        <td>2014-09-30T09:15:00</td>\n",
       "        <td>99</td>\n",
       "        <td>1</td>\n",
       "    </tr>\n",
       "    <tr>\n",
       "        <td>10</td>\n",
       "        <td>F</td>\n",
       "        <td>2014-10-03T08:00:00</td>\n",
       "        <td>2014-10-03T09:15:00</td>\n",
       "        <td>99</td>\n",
       "        <td>1</td>\n",
       "    </tr>\n",
       "</table>"
      ],
      "text/plain": [
       "[(1, 'T', '2014-09-02T08:00:00', '2014-09-02T09:15:00', 99, 1),\n",
       " (2, 'F', '2014-09-05T08:00:00', '2014-09-05T09:15:00', 99, 1),\n",
       " (3, 'T', '2014-09-09T08:00:00', '2014-09-09T09:15:00', 99, 1),\n",
       " (4, 'F', '2014-09-12T08:00:00', '2014-09-12T09:15:00', 99, 1),\n",
       " (5, 'T', '2014-09-16T08:00:00', '2014-09-16T09:15:00', 99, 1),\n",
       " (6, 'F', '2014-09-19T08:00:00', '2014-09-19T09:15:00', 99, 1),\n",
       " (7, 'T', '2014-09-23T08:00:00', '2014-09-23T09:15:00', 99, 1),\n",
       " (8, 'F', '2014-09-26T08:00:00', '2014-09-26T09:15:00', 99, 1),\n",
       " (9, 'T', '2014-09-30T08:00:00', '2014-09-30T09:15:00', 99, 1),\n",
       " (10, 'F', '2014-10-03T08:00:00', '2014-10-03T09:15:00', 99, 1)]"
      ]
     },
     "execution_count": 14,
     "metadata": {},
     "output_type": "execute_result"
    }
   ],
   "source": [
    "%%sql \n",
    "-- Testing MEETINGS Table to retrieve a unique value\n",
    "\n",
    "SELECT DISTINCT *\n",
    "FROM MEETINGS\n",
    "WHERE start LIKE '%8:00:00'\n",
    "LIMIT 10;"
   ]
  },
  {
   "cell_type": "markdown",
   "metadata": {},
   "source": [
    "## Relational Integrity Checks"
   ]
  },
  {
   "cell_type": "code",
   "execution_count": 15,
   "metadata": {},
   "outputs": [
    {
     "name": "stdout",
     "output_type": "stream",
     "text": [
      " * sqlite:///CourseData.db\n",
      "Done.\n"
     ]
    },
    {
     "data": {
      "text/html": [
       "<table>\n",
       "    <tr>\n",
       "        <th>Catalog_id</th>\n",
       "        <th>Course_title</th>\n",
       "        <th>program_code</th>\n",
       "        <th>program_name</th>\n",
       "    </tr>\n",
       "    <tr>\n",
       "        <td>AN 0301</td>\n",
       "        <td>Independent Study</td>\n",
       "        <td>AN</td>\n",
       "        <td>Asian Studies</td>\n",
       "    </tr>\n",
       "    <tr>\n",
       "        <td>AN 0310</td>\n",
       "        <td>Asian Studies Seminar</td>\n",
       "        <td>AN</td>\n",
       "        <td>Asian Studies</td>\n",
       "    </tr>\n",
       "    <tr>\n",
       "        <td>BU 0211</td>\n",
       "        <td>Legal Environment of Business</td>\n",
       "        <td>BU</td>\n",
       "        <td>Business</td>\n",
       "    </tr>\n",
       "    <tr>\n",
       "        <td>BU 0220</td>\n",
       "        <td>Environmental Law and Policy</td>\n",
       "        <td>BU</td>\n",
       "        <td>Business</td>\n",
       "    </tr>\n",
       "    <tr>\n",
       "        <td>BU 0311</td>\n",
       "        <td>The Law of Contracts, Sales, and Property</td>\n",
       "        <td>BU</td>\n",
       "        <td>Business</td>\n",
       "    </tr>\n",
       "</table>"
      ],
      "text/plain": [
       "[('AN 0301', 'Independent Study', 'AN', 'Asian Studies'),\n",
       " ('AN 0310', 'Asian Studies Seminar', 'AN', 'Asian Studies'),\n",
       " ('BU 0211', 'Legal Environment of Business', 'BU', 'Business'),\n",
       " ('BU 0220', 'Environmental Law and Policy', 'BU', 'Business'),\n",
       " ('BU 0311', 'The Law of Contracts, Sales, and Property', 'BU', 'Business')]"
      ]
     },
     "execution_count": 15,
     "metadata": {},
     "output_type": "execute_result"
    }
   ],
   "source": [
    "%%sql\n",
    "--Does Catalog_ID make sense with Program_Code & Program_Name?\n",
    "\n",
    "SELECT catalog_ID,Course_Title,program_code,program_name\n",
    "FROM COURSES\n",
    "    LEFT JOIN PROGRAMS USING (program_id)\n",
    "    LIMIT 5;"
   ]
  },
  {
   "cell_type": "markdown",
   "metadata": {},
   "source": [
    "## Check that Professor Lane teaches Economics classes"
   ]
  },
  {
   "cell_type": "code",
   "execution_count": 16,
   "metadata": {},
   "outputs": [
    {
     "name": "stdout",
     "output_type": "stream",
     "text": [
      " * sqlite:///CourseData.db\n",
      "Done.\n"
     ]
    },
    {
     "data": {
      "text/html": [
       "<table>\n",
       "    <tr>\n",
       "        <th>Name</th>\n",
       "        <th>Title</th>\n",
       "        <th>Section</th>\n",
       "        <th>Term</th>\n",
       "    </tr>\n",
       "    <tr>\n",
       "        <td>Philip J.  Lane</td>\n",
       "        <td>Introduction to Microeconomics</td>\n",
       "        <td>C</td>\n",
       "        <td>Fall2014</td>\n",
       "    </tr>\n",
       "    <tr>\n",
       "        <td>Philip J.  Lane</td>\n",
       "        <td>Money and Banking</td>\n",
       "        <td>A</td>\n",
       "        <td>Fall2014</td>\n",
       "    </tr>\n",
       "    <tr>\n",
       "        <td>Philip J.  Lane</td>\n",
       "        <td>Independent Study-  201409</td>\n",
       "        <td>A</td>\n",
       "        <td>Fall2014</td>\n",
       "    </tr>\n",
       "    <tr>\n",
       "        <td>Philip J.  Lane</td>\n",
       "        <td>Internship-201409</td>\n",
       "        <td>A</td>\n",
       "        <td>Fall2014</td>\n",
       "    </tr>\n",
       "    <tr>\n",
       "        <td>Philip J.  Lane</td>\n",
       "        <td>Senior Seminar</td>\n",
       "        <td>A</td>\n",
       "        <td>Fall2014</td>\n",
       "    </tr>\n",
       "    <tr>\n",
       "        <td>Philip J.  Lane</td>\n",
       "        <td>Introduction to Microeconomics</td>\n",
       "        <td>C02</td>\n",
       "        <td>Fall2015</td>\n",
       "    </tr>\n",
       "    <tr>\n",
       "        <td>Philip J.  Lane</td>\n",
       "        <td>Money and Banking</td>\n",
       "        <td>A</td>\n",
       "        <td>Fall2015</td>\n",
       "    </tr>\n",
       "    <tr>\n",
       "        <td>Philip J.  Lane</td>\n",
       "        <td>Independent Study</td>\n",
       "        <td>PL</td>\n",
       "        <td>Fall2015</td>\n",
       "    </tr>\n",
       "    <tr>\n",
       "        <td>Philip J.  Lane</td>\n",
       "        <td>Internship</td>\n",
       "        <td>A</td>\n",
       "        <td>Fall2015</td>\n",
       "    </tr>\n",
       "    <tr>\n",
       "        <td>Philip J.  Lane</td>\n",
       "        <td>Senior Seminar</td>\n",
       "        <td>A</td>\n",
       "        <td>Fall2015</td>\n",
       "    </tr>\n",
       "</table>"
      ],
      "text/plain": [
       "[('Philip J.  Lane', 'Introduction to Microeconomics', 'C', 'Fall2014'),\n",
       " ('Philip J.  Lane', 'Money and Banking', 'A', 'Fall2014'),\n",
       " ('Philip J.  Lane', 'Independent Study-  201409', 'A', 'Fall2014'),\n",
       " ('Philip J.  Lane', 'Internship-201409', 'A', 'Fall2014'),\n",
       " ('Philip J.  Lane', 'Senior Seminar', 'A', 'Fall2014'),\n",
       " ('Philip J.  Lane', 'Introduction to Microeconomics', 'C02', 'Fall2015'),\n",
       " ('Philip J.  Lane', 'Money and Banking', 'A', 'Fall2015'),\n",
       " ('Philip J.  Lane', 'Independent Study', 'PL', 'Fall2015'),\n",
       " ('Philip J.  Lane', 'Internship', 'A', 'Fall2015'),\n",
       " ('Philip J.  Lane', 'Senior Seminar', 'A', 'Fall2015')]"
      ]
     },
     "execution_count": 16,
     "metadata": {},
     "output_type": "execute_result"
    }
   ],
   "source": [
    "%%sql\n",
    "SELECT Name,Title,Section,Term\n",
    "FROM PROFESSORS\n",
    "    JOIN COURSE_OFFERINGS USING (professor_ID)\n",
    "    WHERE Name LIKE '%Lane%'\n",
    "    ORDER BY Term\n",
    "LIMIT 10;\n",
    "    "
   ]
  },
  {
   "cell_type": "markdown",
   "metadata": {},
   "source": [
    "## Check that Title and Course_Title are the same?"
   ]
  },
  {
   "cell_type": "code",
   "execution_count": 17,
   "metadata": {},
   "outputs": [
    {
     "name": "stdout",
     "output_type": "stream",
     "text": [
      " * sqlite:///CourseData.db\n",
      "Done.\n"
     ]
    },
    {
     "data": {
      "text/html": [
       "<table>\n",
       "    <tr>\n",
       "        <th>Crn</th>\n",
       "        <th>Term</th>\n",
       "        <th>Title</th>\n",
       "        <th>Catalog_id</th>\n",
       "        <th>Course_title</th>\n",
       "    </tr>\n",
       "    <tr>\n",
       "        <td>71188</td>\n",
       "        <td>Fall2017</td>\n",
       "        <td>Introduction to Financial Accounting</td>\n",
       "        <td>AC 0011</td>\n",
       "        <td>Introduction to Financial Accounting</td>\n",
       "    </tr>\n",
       "    <tr>\n",
       "        <td>71205</td>\n",
       "        <td>Fall2017</td>\n",
       "        <td>Introduction to Financial Accounting</td>\n",
       "        <td>AC 0011</td>\n",
       "        <td>Introduction to Financial Accounting</td>\n",
       "    </tr>\n",
       "    <tr>\n",
       "        <td>71206</td>\n",
       "        <td>Fall2017</td>\n",
       "        <td>Introduction to Financial Accounting</td>\n",
       "        <td>AC 0011</td>\n",
       "        <td>Introduction to Financial Accounting</td>\n",
       "    </tr>\n",
       "    <tr>\n",
       "        <td>71207</td>\n",
       "        <td>Fall2017</td>\n",
       "        <td>Introduction to Financial Accounting</td>\n",
       "        <td>AC 0011</td>\n",
       "        <td>Introduction to Financial Accounting</td>\n",
       "    </tr>\n",
       "    <tr>\n",
       "        <td>71208</td>\n",
       "        <td>Fall2017</td>\n",
       "        <td>Introduction to Financial Accounting</td>\n",
       "        <td>AC 0011</td>\n",
       "        <td>Introduction to Financial Accounting</td>\n",
       "    </tr>\n",
       "    <tr>\n",
       "        <td>71209</td>\n",
       "        <td>Fall2017</td>\n",
       "        <td>Introduction to Financial Accounting</td>\n",
       "        <td>AC 0011</td>\n",
       "        <td>Introduction to Financial Accounting</td>\n",
       "    </tr>\n",
       "    <tr>\n",
       "        <td>71371</td>\n",
       "        <td>Fall2017</td>\n",
       "        <td>Introduction to Financial Accounting</td>\n",
       "        <td>AC 0011</td>\n",
       "        <td>Introduction to Financial Accounting</td>\n",
       "    </tr>\n",
       "    <tr>\n",
       "        <td>71384</td>\n",
       "        <td>Fall2017</td>\n",
       "        <td>Introduction to Financial Accounting</td>\n",
       "        <td>AC 0011</td>\n",
       "        <td>Introduction to Financial Accounting</td>\n",
       "    </tr>\n",
       "    <tr>\n",
       "        <td>71572</td>\n",
       "        <td>Fall2017</td>\n",
       "        <td>Introduction to Financial Accounting</td>\n",
       "        <td>AC 0011</td>\n",
       "        <td>Introduction to Financial Accounting</td>\n",
       "    </tr>\n",
       "    <tr>\n",
       "        <td>71804</td>\n",
       "        <td>Fall2017</td>\n",
       "        <td>Introduction to Financial Accounting</td>\n",
       "        <td>AC 0011</td>\n",
       "        <td>Introduction to Financial Accounting</td>\n",
       "    </tr>\n",
       "</table>"
      ],
      "text/plain": [
       "[('71188', 'Fall2017', 'Introduction to Financial Accounting', 'AC 0011', 'Introduction to Financial Accounting'),\n",
       " ('71205', 'Fall2017', 'Introduction to Financial Accounting', 'AC 0011', 'Introduction to Financial Accounting'),\n",
       " ('71206', 'Fall2017', 'Introduction to Financial Accounting', 'AC 0011', 'Introduction to Financial Accounting'),\n",
       " ('71207', 'Fall2017', 'Introduction to Financial Accounting', 'AC 0011', 'Introduction to Financial Accounting'),\n",
       " ('71208', 'Fall2017', 'Introduction to Financial Accounting', 'AC 0011', 'Introduction to Financial Accounting'),\n",
       " ('71209', 'Fall2017', 'Introduction to Financial Accounting', 'AC 0011', 'Introduction to Financial Accounting'),\n",
       " ('71371', 'Fall2017', 'Introduction to Financial Accounting', 'AC 0011', 'Introduction to Financial Accounting'),\n",
       " ('71384', 'Fall2017', 'Introduction to Financial Accounting', 'AC 0011', 'Introduction to Financial Accounting'),\n",
       " ('71572', 'Fall2017', 'Introduction to Financial Accounting', 'AC 0011', 'Introduction to Financial Accounting'),\n",
       " ('71804', 'Fall2017', 'Introduction to Financial Accounting', 'AC 0011', 'Introduction to Financial Accounting')]"
      ]
     },
     "execution_count": 17,
     "metadata": {},
     "output_type": "execute_result"
    }
   ],
   "source": [
    "%%sql\n",
    "SELECT Crn,Term,Title,COURSES.Catalog_ID,COURSES.Course_Title\n",
    "FROM COURSE_OFFERINGS\n",
    "     JOIN COURSES USING(course_ID)\n",
    "LIMIT 10;"
   ]
  },
  {
   "cell_type": "markdown",
   "metadata": {},
   "source": [
    "## Check that Day, Start and End match Meetings"
   ]
  },
  {
   "cell_type": "code",
   "execution_count": 18,
   "metadata": {},
   "outputs": [
    {
     "name": "stdout",
     "output_type": "stream",
     "text": [
      " * sqlite:///CourseData.db\n",
      "Done.\n"
     ]
    },
    {
     "data": {
      "text/html": [
       "<table>\n",
       "    <tr>\n",
       "        <th>Crn</th>\n",
       "        <th>Day</th>\n",
       "        <th>Start</th>\n",
       "        <th>End</th>\n",
       "        <th>Section</th>\n",
       "        <th>Meetings</th>\n",
       "    </tr>\n",
       "    <tr>\n",
       "        <td>70384</td>\n",
       "        <td>T</td>\n",
       "        <td>2014-09-02T08:00:00</td>\n",
       "        <td>2014-09-02T09:15:00</td>\n",
       "        <td>C01</td>\n",
       "        <td>[{&#x27;days&#x27;: &#x27;TF&#x27;, &#x27;times&#x27;: &#x27;0800am-0915am&#x27;, &#x27;dates&#x27;: &#x27;09/02-12/08&#x27;, &#x27;location&#x27;: &#x27;DSB 105&#x27;}]</td>\n",
       "    </tr>\n",
       "    <tr>\n",
       "        <td>70384</td>\n",
       "        <td>F</td>\n",
       "        <td>2014-09-05T08:00:00</td>\n",
       "        <td>2014-09-05T09:15:00</td>\n",
       "        <td>C01</td>\n",
       "        <td>[{&#x27;days&#x27;: &#x27;TF&#x27;, &#x27;times&#x27;: &#x27;0800am-0915am&#x27;, &#x27;dates&#x27;: &#x27;09/02-12/08&#x27;, &#x27;location&#x27;: &#x27;DSB 105&#x27;}]</td>\n",
       "    </tr>\n",
       "    <tr>\n",
       "        <td>70384</td>\n",
       "        <td>T</td>\n",
       "        <td>2014-09-09T08:00:00</td>\n",
       "        <td>2014-09-09T09:15:00</td>\n",
       "        <td>C01</td>\n",
       "        <td>[{&#x27;days&#x27;: &#x27;TF&#x27;, &#x27;times&#x27;: &#x27;0800am-0915am&#x27;, &#x27;dates&#x27;: &#x27;09/02-12/08&#x27;, &#x27;location&#x27;: &#x27;DSB 105&#x27;}]</td>\n",
       "    </tr>\n",
       "    <tr>\n",
       "        <td>70384</td>\n",
       "        <td>F</td>\n",
       "        <td>2014-09-12T08:00:00</td>\n",
       "        <td>2014-09-12T09:15:00</td>\n",
       "        <td>C01</td>\n",
       "        <td>[{&#x27;days&#x27;: &#x27;TF&#x27;, &#x27;times&#x27;: &#x27;0800am-0915am&#x27;, &#x27;dates&#x27;: &#x27;09/02-12/08&#x27;, &#x27;location&#x27;: &#x27;DSB 105&#x27;}]</td>\n",
       "    </tr>\n",
       "    <tr>\n",
       "        <td>70384</td>\n",
       "        <td>T</td>\n",
       "        <td>2014-09-16T08:00:00</td>\n",
       "        <td>2014-09-16T09:15:00</td>\n",
       "        <td>C01</td>\n",
       "        <td>[{&#x27;days&#x27;: &#x27;TF&#x27;, &#x27;times&#x27;: &#x27;0800am-0915am&#x27;, &#x27;dates&#x27;: &#x27;09/02-12/08&#x27;, &#x27;location&#x27;: &#x27;DSB 105&#x27;}]</td>\n",
       "    </tr>\n",
       "    <tr>\n",
       "        <td>70384</td>\n",
       "        <td>F</td>\n",
       "        <td>2014-09-19T08:00:00</td>\n",
       "        <td>2014-09-19T09:15:00</td>\n",
       "        <td>C01</td>\n",
       "        <td>[{&#x27;days&#x27;: &#x27;TF&#x27;, &#x27;times&#x27;: &#x27;0800am-0915am&#x27;, &#x27;dates&#x27;: &#x27;09/02-12/08&#x27;, &#x27;location&#x27;: &#x27;DSB 105&#x27;}]</td>\n",
       "    </tr>\n",
       "    <tr>\n",
       "        <td>70384</td>\n",
       "        <td>T</td>\n",
       "        <td>2014-09-23T08:00:00</td>\n",
       "        <td>2014-09-23T09:15:00</td>\n",
       "        <td>C01</td>\n",
       "        <td>[{&#x27;days&#x27;: &#x27;TF&#x27;, &#x27;times&#x27;: &#x27;0800am-0915am&#x27;, &#x27;dates&#x27;: &#x27;09/02-12/08&#x27;, &#x27;location&#x27;: &#x27;DSB 105&#x27;}]</td>\n",
       "    </tr>\n",
       "    <tr>\n",
       "        <td>70384</td>\n",
       "        <td>F</td>\n",
       "        <td>2014-09-26T08:00:00</td>\n",
       "        <td>2014-09-26T09:15:00</td>\n",
       "        <td>C01</td>\n",
       "        <td>[{&#x27;days&#x27;: &#x27;TF&#x27;, &#x27;times&#x27;: &#x27;0800am-0915am&#x27;, &#x27;dates&#x27;: &#x27;09/02-12/08&#x27;, &#x27;location&#x27;: &#x27;DSB 105&#x27;}]</td>\n",
       "    </tr>\n",
       "    <tr>\n",
       "        <td>70384</td>\n",
       "        <td>T</td>\n",
       "        <td>2014-09-30T08:00:00</td>\n",
       "        <td>2014-09-30T09:15:00</td>\n",
       "        <td>C01</td>\n",
       "        <td>[{&#x27;days&#x27;: &#x27;TF&#x27;, &#x27;times&#x27;: &#x27;0800am-0915am&#x27;, &#x27;dates&#x27;: &#x27;09/02-12/08&#x27;, &#x27;location&#x27;: &#x27;DSB 105&#x27;}]</td>\n",
       "    </tr>\n",
       "    <tr>\n",
       "        <td>70384</td>\n",
       "        <td>F</td>\n",
       "        <td>2014-10-03T08:00:00</td>\n",
       "        <td>2014-10-03T09:15:00</td>\n",
       "        <td>C01</td>\n",
       "        <td>[{&#x27;days&#x27;: &#x27;TF&#x27;, &#x27;times&#x27;: &#x27;0800am-0915am&#x27;, &#x27;dates&#x27;: &#x27;09/02-12/08&#x27;, &#x27;location&#x27;: &#x27;DSB 105&#x27;}]</td>\n",
       "    </tr>\n",
       "</table>"
      ],
      "text/plain": [
       "[('70384', 'T', '2014-09-02T08:00:00', '2014-09-02T09:15:00', 'C01', \"[{'days': 'TF', 'times': '0800am-0915am', 'dates': '09/02-12/08', 'location': 'DSB 105'}]\"),\n",
       " ('70384', 'F', '2014-09-05T08:00:00', '2014-09-05T09:15:00', 'C01', \"[{'days': 'TF', 'times': '0800am-0915am', 'dates': '09/02-12/08', 'location': 'DSB 105'}]\"),\n",
       " ('70384', 'T', '2014-09-09T08:00:00', '2014-09-09T09:15:00', 'C01', \"[{'days': 'TF', 'times': '0800am-0915am', 'dates': '09/02-12/08', 'location': 'DSB 105'}]\"),\n",
       " ('70384', 'F', '2014-09-12T08:00:00', '2014-09-12T09:15:00', 'C01', \"[{'days': 'TF', 'times': '0800am-0915am', 'dates': '09/02-12/08', 'location': 'DSB 105'}]\"),\n",
       " ('70384', 'T', '2014-09-16T08:00:00', '2014-09-16T09:15:00', 'C01', \"[{'days': 'TF', 'times': '0800am-0915am', 'dates': '09/02-12/08', 'location': 'DSB 105'}]\"),\n",
       " ('70384', 'F', '2014-09-19T08:00:00', '2014-09-19T09:15:00', 'C01', \"[{'days': 'TF', 'times': '0800am-0915am', 'dates': '09/02-12/08', 'location': 'DSB 105'}]\"),\n",
       " ('70384', 'T', '2014-09-23T08:00:00', '2014-09-23T09:15:00', 'C01', \"[{'days': 'TF', 'times': '0800am-0915am', 'dates': '09/02-12/08', 'location': 'DSB 105'}]\"),\n",
       " ('70384', 'F', '2014-09-26T08:00:00', '2014-09-26T09:15:00', 'C01', \"[{'days': 'TF', 'times': '0800am-0915am', 'dates': '09/02-12/08', 'location': 'DSB 105'}]\"),\n",
       " ('70384', 'T', '2014-09-30T08:00:00', '2014-09-30T09:15:00', 'C01', \"[{'days': 'TF', 'times': '0800am-0915am', 'dates': '09/02-12/08', 'location': 'DSB 105'}]\"),\n",
       " ('70384', 'F', '2014-10-03T08:00:00', '2014-10-03T09:15:00', 'C01', \"[{'days': 'TF', 'times': '0800am-0915am', 'dates': '09/02-12/08', 'location': 'DSB 105'}]\")]"
      ]
     },
     "execution_count": 18,
     "metadata": {},
     "output_type": "execute_result"
    }
   ],
   "source": [
    "%%sql\n",
    "SELECT COURSE_OFFERINGS.Crn,Day,Start,End,COURSE_OFFERINGS.Section,Meetings\n",
    "FROM MEETINGS\n",
    "    JOIN COURSE_OFFERINGS USING (Offering_ID)\n",
    "LIMIT 10;"
   ]
  },
  {
   "cell_type": "code",
   "execution_count": null,
   "metadata": {},
   "outputs": [],
   "source": []
  }
 ],
 "metadata": {
  "kernelspec": {
   "display_name": "Python 3",
   "language": "python",
   "name": "python3"
  },
  "language_info": {
   "codemirror_mode": {
    "name": "ipython",
    "version": 3
   },
   "file_extension": ".py",
   "mimetype": "text/x-python",
   "name": "python",
   "nbconvert_exporter": "python",
   "pygments_lexer": "ipython3",
   "version": "3.6.7"
  }
 },
 "nbformat": 4,
 "nbformat_minor": 4
}
