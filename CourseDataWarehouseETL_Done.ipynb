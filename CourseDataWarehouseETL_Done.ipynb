{
 "cells": [
  {
   "cell_type": "markdown",
   "metadata": {},
   "source": [
    "# Warehouse ETL"
   ]
  },
  {
   "cell_type": "code",
   "execution_count": 1,
   "metadata": {},
   "outputs": [
    {
     "data": {
      "text/plain": [
       "'Connected: @CourseDataWarehouse.db'"
      ]
     },
     "execution_count": 1,
     "metadata": {},
     "output_type": "execute_result"
    }
   ],
   "source": [
    "%load_ext sql\n",
    "%sql sqlite:///CourseDataWarehouse.db"
   ]
  },
  {
   "cell_type": "code",
   "execution_count": 2,
   "metadata": {},
   "outputs": [
    {
     "name": "stdout",
     "output_type": "stream",
     "text": [
      " * sqlite:///CourseDataWarehouse.db\n",
      "Done.\n"
     ]
    },
    {
     "data": {
      "text/plain": [
       "[]"
      ]
     },
     "execution_count": 2,
     "metadata": {},
     "output_type": "execute_result"
    }
   ],
   "source": [
    "%%sql\n",
    "attach Database 'CourseData.db' AS DB"
   ]
  },
  {
   "cell_type": "code",
   "execution_count": 3,
   "metadata": {},
   "outputs": [
    {
     "name": "stdout",
     "output_type": "stream",
     "text": [
      " * sqlite:///CourseDataWarehouse.db\n",
      "Done.\n"
     ]
    },
    {
     "data": {
      "text/html": [
       "<table>\n",
       "    <tr>\n",
       "        <th>Location_id</th>\n",
       "        <th>location</th>\n",
       "    </tr>\n",
       "    <tr>\n",
       "        <td>1</td>\n",
       "        <td>BCC 200</td>\n",
       "    </tr>\n",
       "    <tr>\n",
       "        <td>2</td>\n",
       "        <td>BD </td>\n",
       "    </tr>\n",
       "    <tr>\n",
       "        <td>3</td>\n",
       "        <td>BH </td>\n",
       "    </tr>\n",
       "    <tr>\n",
       "        <td>4</td>\n",
       "        <td>BH BY ARR</td>\n",
       "    </tr>\n",
       "    <tr>\n",
       "        <td>5</td>\n",
       "        <td>BLM 112</td>\n",
       "    </tr>\n",
       "</table>"
      ],
      "text/plain": [
       "[(1, 'BCC 200'), (2, 'BD '), (3, 'BH '), (4, 'BH BY ARR'), (5, 'BLM 112')]"
      ]
     },
     "execution_count": 3,
     "metadata": {},
     "output_type": "execute_result"
    }
   ],
   "source": [
    "%%sql\n",
    "SELECT *\n",
    "FROM DB.LOCATIONS\n",
    "LIMIT 5;"
   ]
  },
  {
   "cell_type": "markdown",
   "metadata": {},
   "source": [
    "# Create Tables"
   ]
  },
  {
   "cell_type": "code",
   "execution_count": 4,
   "metadata": {},
   "outputs": [
    {
     "name": "stdout",
     "output_type": "stream",
     "text": [
      " * sqlite:///CourseDataWarehouse.db\n",
      "Done.\n",
      "Done.\n",
      "Done.\n",
      "Done.\n",
      "Done.\n",
      "Done.\n"
     ]
    },
    {
     "data": {
      "text/plain": [
       "[]"
      ]
     },
     "execution_count": 4,
     "metadata": {},
     "output_type": "execute_result"
    }
   ],
   "source": [
    "%%sql\n",
    "\n",
    "DROP TABLE IF EXISTS PROGRAMS_DW;\n",
    "DROP TABLE IF EXISTS PROFESSORS_DW;\n",
    "DROP TABLE IF EXISTS LOCATIONS_DW;\n",
    "DROP TABLE IF EXISTS TIMECODES_DW;\n",
    "DROP TABLE IF EXISTS COURSES_DW;\n",
    "DROP TABLE IF EXISTS CLASS_FACTS_DW;"
   ]
  },
  {
   "cell_type": "code",
   "execution_count": 5,
   "metadata": {},
   "outputs": [
    {
     "name": "stdout",
     "output_type": "stream",
     "text": [
      " * sqlite:///CourseDataWarehouse.db\n",
      "Done.\n"
     ]
    },
    {
     "data": {
      "text/plain": [
       "[]"
      ]
     },
     "execution_count": 5,
     "metadata": {},
     "output_type": "execute_result"
    }
   ],
   "source": [
    "%%sql\n",
    "\n",
    "CREATE TABLE PROGRAMS_DW (\n",
    "    Program_id INTEGER PRIMARY KEY,\n",
    "    program_code TEXT NOT NULL,\n",
    "    program_name TEXT NOT NULL\n",
    ");"
   ]
  },
  {
   "cell_type": "code",
   "execution_count": 6,
   "metadata": {},
   "outputs": [
    {
     "name": "stdout",
     "output_type": "stream",
     "text": [
      " * sqlite:///CourseDataWarehouse.db\n",
      "Done.\n"
     ]
    },
    {
     "data": {
      "text/plain": [
       "[]"
      ]
     },
     "execution_count": 6,
     "metadata": {},
     "output_type": "execute_result"
    }
   ],
   "source": [
    "%%sql\n",
    "\n",
    "CREATE TABLE PROFESSORS_DW (\n",
    "    Professor_id INTEGER PRIMARY KEY,\n",
    "    Name TEXT NOT NULL\n",
    ");"
   ]
  },
  {
   "cell_type": "code",
   "execution_count": 7,
   "metadata": {},
   "outputs": [
    {
     "name": "stdout",
     "output_type": "stream",
     "text": [
      " * sqlite:///CourseDataWarehouse.db\n",
      "Done.\n"
     ]
    },
    {
     "data": {
      "text/plain": [
       "[]"
      ]
     },
     "execution_count": 7,
     "metadata": {},
     "output_type": "execute_result"
    }
   ],
   "source": [
    "%%sql\n",
    "\n",
    "CREATE TABLE LOCATIONS_DW (\n",
    "    Location_id INTEGER PRIMARY KEY,\n",
    "    location TEXT NOT NULL\n",
    ");"
   ]
  },
  {
   "cell_type": "code",
   "execution_count": 8,
   "metadata": {},
   "outputs": [
    {
     "name": "stdout",
     "output_type": "stream",
     "text": [
      " * sqlite:///CourseDataWarehouse.db\n",
      "Done.\n"
     ]
    },
    {
     "data": {
      "text/plain": [
       "[]"
      ]
     },
     "execution_count": 8,
     "metadata": {},
     "output_type": "execute_result"
    }
   ],
   "source": [
    "%%sql\n",
    "\n",
    "CREATE TABLE TIMECODES_DW (\n",
    "    Timecode_id INTEGER PRIMARY KEY,\n",
    "    Day TEXT,\n",
    "    Start TEXT NOT NULL,\n",
    "    End TEXT NOT NULL\n",
    ");"
   ]
  },
  {
   "cell_type": "code",
   "execution_count": 9,
   "metadata": {},
   "outputs": [
    {
     "name": "stdout",
     "output_type": "stream",
     "text": [
      " * sqlite:///CourseDataWarehouse.db\n",
      "Done.\n"
     ]
    },
    {
     "data": {
      "text/plain": [
       "[]"
      ]
     },
     "execution_count": 9,
     "metadata": {},
     "output_type": "execute_result"
    }
   ],
   "source": [
    "%%sql\n",
    "\n",
    "CREATE TABLE COURSES_DW (\n",
    "    Course_id INTEGER PRIMARY KEY, \n",
    "    CatalogYear TEXT NOT NULL,\n",
    "    Catalog_id TEXT NOT NULL,\n",
    "    Course_title TEXT NOT NULL,\n",
    "    Credits TEXT NOT NULL,\n",
    "    Program_id INTEGER,\n",
    "    FOREIGN KEY (Program_id) REFERENCES PROGRAMS_DW(Program_id)\n",
    ");"
   ]
  },
  {
   "cell_type": "code",
   "execution_count": 10,
   "metadata": {},
   "outputs": [
    {
     "name": "stdout",
     "output_type": "stream",
     "text": [
      " * sqlite:///CourseDataWarehouse.db\n",
      "Done.\n"
     ]
    },
    {
     "data": {
      "text/plain": [
       "[]"
      ]
     },
     "execution_count": 10,
     "metadata": {},
     "output_type": "execute_result"
    }
   ],
   "source": [
    "%%sql\n",
    "\n",
    "CREATE TABLE CLASS_FACTS_DW (\n",
    "    Course_id INTEGER,\n",
    "    Program_id INTEGER,\n",
    "    Location_id INTEGER,\n",
    "    Professor_id INTEGER,\n",
    "    Offering_id INTEGER,\n",
    "    Timecode_id INTEGER,\n",
    "    CatalogYear TEXT NOT NULL,\n",
    "    Term TEXT NOT NULL,\n",
    "    Credits REAL,\n",
    "    Section TEXT NOT NULL,\n",
    "    Cap INTEGER NOT NULL,\n",
    "    Actual INTEGER NOT NULL,\n",
    "    Remaining INTEGER NOT NULL,\n",
    "    Timecodes TEXT,\n",
    "    Count_courses INTEGER,\n",
    "    Num_students INTEGER,\n",
    "    Count_location INTEGER,\n",
    "    FOREIGN KEY (Timecode_id) REFERENCES TIMECODES_DW(Timecode_id),\n",
    "    FOREIGN KEY (Course_id) REFERENCES COURSES_DW(Course_id),\n",
    "    FOREIGN KEY (Program_id) REFERENCES PROGRAMS_DW(Program_id),\n",
    "    FOREIGN KEY (Location_id) REFERENCES LOCATIONS_DW(Location_id),\n",
    "    FOREIGN KEY (Professor_id) REFERENCES PROFESSORS_DW(Professor_id)   \n",
    ");"
   ]
  },
  {
   "cell_type": "markdown",
   "metadata": {},
   "source": [
    "# POPULATE TABLES"
   ]
  },
  {
   "cell_type": "code",
   "execution_count": 11,
   "metadata": {},
   "outputs": [
    {
     "name": "stdout",
     "output_type": "stream",
     "text": [
      " * sqlite:///CourseDataWarehouse.db\n",
      "83 rows affected.\n",
      "Done.\n"
     ]
    },
    {
     "data": {
      "text/html": [
       "<table>\n",
       "    <tr>\n",
       "        <th>Program_id</th>\n",
       "        <th>program_code</th>\n",
       "        <th>program_name</th>\n",
       "    </tr>\n",
       "    <tr>\n",
       "        <td>1</td>\n",
       "        <td>AC</td>\n",
       "        <td>Accounting</td>\n",
       "    </tr>\n",
       "    <tr>\n",
       "        <td>2</td>\n",
       "        <td>AE</td>\n",
       "        <td>Applied Ethics</td>\n",
       "    </tr>\n",
       "    <tr>\n",
       "        <td>3</td>\n",
       "        <td>AH</td>\n",
       "        <td>Art History</td>\n",
       "    </tr>\n",
       "    <tr>\n",
       "        <td>4</td>\n",
       "        <td>AN</td>\n",
       "        <td>Asian Studies</td>\n",
       "    </tr>\n",
       "    <tr>\n",
       "        <td>5</td>\n",
       "        <td>AR</td>\n",
       "        <td>Arabic</td>\n",
       "    </tr>\n",
       "</table>"
      ],
      "text/plain": [
       "[(1, 'AC', 'Accounting'),\n",
       " (2, 'AE', 'Applied Ethics'),\n",
       " (3, 'AH', 'Art History'),\n",
       " (4, 'AN', 'Asian Studies'),\n",
       " (5, 'AR', 'Arabic')]"
      ]
     },
     "execution_count": 11,
     "metadata": {},
     "output_type": "execute_result"
    }
   ],
   "source": [
    "%%sql\n",
    "\n",
    "INSERT INTO PROGRAMS_DW(program_name,program_code)\n",
    "    SELECT DISTINCT program_name,program_code\n",
    "    FROM DB.PROGRAMS;\n",
    "SELECT * FROM PROGRAMS_DW LIMIT 5;"
   ]
  },
  {
   "cell_type": "code",
   "execution_count": 12,
   "metadata": {},
   "outputs": [
    {
     "name": "stdout",
     "output_type": "stream",
     "text": [
      " * sqlite:///CourseDataWarehouse.db\n",
      "1104 rows affected.\n",
      "Done.\n"
     ]
    },
    {
     "data": {
      "text/html": [
       "<table>\n",
       "    <tr>\n",
       "        <th>Professor_id</th>\n",
       "        <th>Name</th>\n",
       "    </tr>\n",
       "    <tr>\n",
       "        <td>1</td>\n",
       "        <td>Michael P.  Coyne</td>\n",
       "    </tr>\n",
       "    <tr>\n",
       "        <td>2</td>\n",
       "        <td>Rebecca I.  Bloch</td>\n",
       "    </tr>\n",
       "    <tr>\n",
       "        <td>3</td>\n",
       "        <td>Paul   Caster</td>\n",
       "    </tr>\n",
       "    <tr>\n",
       "        <td>4</td>\n",
       "        <td>Jo Ann   Drusbosky</td>\n",
       "    </tr>\n",
       "    <tr>\n",
       "        <td>5</td>\n",
       "        <td>Arleen N.  Kardos</td>\n",
       "    </tr>\n",
       "</table>"
      ],
      "text/plain": [
       "[(1, 'Michael P.  Coyne'),\n",
       " (2, 'Rebecca I.  Bloch'),\n",
       " (3, 'Paul   Caster'),\n",
       " (4, 'Jo Ann   Drusbosky'),\n",
       " (5, 'Arleen N.  Kardos')]"
      ]
     },
     "execution_count": 12,
     "metadata": {},
     "output_type": "execute_result"
    }
   ],
   "source": [
    "%%sql\n",
    "\n",
    "INSERT INTO PROFESSORS_DW(Name)\n",
    "    SELECT DISTINCT Name\n",
    "    FROM DB.PROFESSORS;\n",
    "SELECT * FROM PROFESSORS_DW LIMIT 5;"
   ]
  },
  {
   "cell_type": "code",
   "execution_count": 13,
   "metadata": {},
   "outputs": [
    {
     "name": "stdout",
     "output_type": "stream",
     "text": [
      " * sqlite:///CourseDataWarehouse.db\n",
      "207 rows affected.\n",
      "Done.\n"
     ]
    },
    {
     "data": {
      "text/html": [
       "<table>\n",
       "    <tr>\n",
       "        <th>Location_id</th>\n",
       "        <th>location</th>\n",
       "    </tr>\n",
       "    <tr>\n",
       "        <td>1</td>\n",
       "        <td>BCC 200</td>\n",
       "    </tr>\n",
       "    <tr>\n",
       "        <td>2</td>\n",
       "        <td>BD </td>\n",
       "    </tr>\n",
       "    <tr>\n",
       "        <td>3</td>\n",
       "        <td>BH </td>\n",
       "    </tr>\n",
       "    <tr>\n",
       "        <td>4</td>\n",
       "        <td>BH BY ARR</td>\n",
       "    </tr>\n",
       "    <tr>\n",
       "        <td>5</td>\n",
       "        <td>BLM 112</td>\n",
       "    </tr>\n",
       "</table>"
      ],
      "text/plain": [
       "[(1, 'BCC 200'), (2, 'BD '), (3, 'BH '), (4, 'BH BY ARR'), (5, 'BLM 112')]"
      ]
     },
     "execution_count": 13,
     "metadata": {},
     "output_type": "execute_result"
    }
   ],
   "source": [
    "%%sql\n",
    "\n",
    "INSERT INTO LOCATIONS_DW(location)\n",
    "    SELECT location\n",
    "    FROM DB.LOCATIONS;\n",
    "SELECT * FROM LOCATIONS_DW LIMIT 5;"
   ]
  },
  {
   "cell_type": "code",
   "execution_count": 14,
   "metadata": {},
   "outputs": [
    {
     "name": "stdout",
     "output_type": "stream",
     "text": [
      " * sqlite:///CourseDataWarehouse.db\n",
      "4440 rows affected.\n",
      "Done.\n"
     ]
    },
    {
     "data": {
      "text/html": [
       "<table>\n",
       "    <tr>\n",
       "        <th>Course_id</th>\n",
       "        <th>CatalogYear</th>\n",
       "        <th>Catalog_id</th>\n",
       "        <th>Course_title</th>\n",
       "        <th>Credits</th>\n",
       "        <th>Program_id</th>\n",
       "    </tr>\n",
       "    <tr>\n",
       "        <td>1</td>\n",
       "        <td>2017_2018</td>\n",
       "        <td>AN 0301</td>\n",
       "        <td>Independent Study</td>\n",
       "        <td>1-3 Credits</td>\n",
       "        <td>4</td>\n",
       "    </tr>\n",
       "    <tr>\n",
       "        <td>2</td>\n",
       "        <td>2017_2018</td>\n",
       "        <td>AN 0310</td>\n",
       "        <td>Asian Studies Seminar</td>\n",
       "        <td>3 Credits</td>\n",
       "        <td>4</td>\n",
       "    </tr>\n",
       "    <tr>\n",
       "        <td>3</td>\n",
       "        <td>2017_2018</td>\n",
       "        <td>BU 0211</td>\n",
       "        <td>Legal Environment of Business</td>\n",
       "        <td>3 Credits</td>\n",
       "        <td>12</td>\n",
       "    </tr>\n",
       "    <tr>\n",
       "        <td>4</td>\n",
       "        <td>2017_2018</td>\n",
       "        <td>BU 0220</td>\n",
       "        <td>Environmental Law and Policy</td>\n",
       "        <td>3 Credits</td>\n",
       "        <td>12</td>\n",
       "    </tr>\n",
       "    <tr>\n",
       "        <td>5</td>\n",
       "        <td>2017_2018</td>\n",
       "        <td>BU 0311</td>\n",
       "        <td>The Law of Contracts, Sales, and Property</td>\n",
       "        <td>3 Credits</td>\n",
       "        <td>12</td>\n",
       "    </tr>\n",
       "    <tr>\n",
       "        <td>6</td>\n",
       "        <td>2017_2018</td>\n",
       "        <td>BU 0312</td>\n",
       "        <td>The Law of Business Organizations and Financial Transactions</td>\n",
       "        <td>3 Credits</td>\n",
       "        <td>12</td>\n",
       "    </tr>\n",
       "    <tr>\n",
       "        <td>7</td>\n",
       "        <td>2017_2018</td>\n",
       "        <td>BU 0320</td>\n",
       "        <td>Employment Law and Discrimination in the Workplace</td>\n",
       "        <td>3 Credits</td>\n",
       "        <td>12</td>\n",
       "    </tr>\n",
       "    <tr>\n",
       "        <td>8</td>\n",
       "        <td>2017_2018</td>\n",
       "        <td>BU 0391</td>\n",
       "        <td>Seminar in Business Law and Ethics</td>\n",
       "        <td>3 Credits</td>\n",
       "        <td>12</td>\n",
       "    </tr>\n",
       "    <tr>\n",
       "        <td>9</td>\n",
       "        <td>2017_2018</td>\n",
       "        <td>BL 0101</td>\n",
       "        <td>Black Lives Matter</td>\n",
       "        <td>3 Credits</td>\n",
       "        <td>11</td>\n",
       "    </tr>\n",
       "    <tr>\n",
       "        <td>10</td>\n",
       "        <td>2017_2018</td>\n",
       "        <td>BL 0398</td>\n",
       "        <td>Independent Study</td>\n",
       "        <td>1-3 Credits</td>\n",
       "        <td>11</td>\n",
       "    </tr>\n",
       "</table>"
      ],
      "text/plain": [
       "[(1, '2017_2018', 'AN 0301', 'Independent Study', '1-3 Credits', 4),\n",
       " (2, '2017_2018', 'AN 0310', 'Asian Studies Seminar', '3 Credits', 4),\n",
       " (3, '2017_2018', 'BU 0211', 'Legal Environment of Business', '3 Credits', 12),\n",
       " (4, '2017_2018', 'BU 0220', 'Environmental Law and Policy', '3 Credits', 12),\n",
       " (5, '2017_2018', 'BU 0311', 'The Law of Contracts, Sales, and Property', '3 Credits', 12),\n",
       " (6, '2017_2018', 'BU 0312', 'The Law of Business Organizations and Financial Transactions', '3 Credits', 12),\n",
       " (7, '2017_2018', 'BU 0320', 'Employment Law and Discrimination in the Workplace', '3 Credits', 12),\n",
       " (8, '2017_2018', 'BU 0391', 'Seminar in Business Law and Ethics', '3 Credits', 12),\n",
       " (9, '2017_2018', 'BL 0101', 'Black Lives Matter', '3 Credits', 11),\n",
       " (10, '2017_2018', 'BL 0398', 'Independent Study', '1-3 Credits', 11)]"
      ]
     },
     "execution_count": 14,
     "metadata": {},
     "output_type": "execute_result"
    }
   ],
   "source": [
    "%%sql\n",
    "\n",
    "INSERT INTO COURSES_DW(CatalogYear,Catalog_id,Course_title,Credits, Program_id)\n",
    "    SELECT DISTINCT CatalogYear,Catalog_id,Course_title,Credits, Program_id\n",
    "    FROM DB.COURSES;\n",
    "SELECT * FROM COURSES_DW LIMIT 10;"
   ]
  },
  {
   "cell_type": "code",
   "execution_count": 15,
   "metadata": {},
   "outputs": [
    {
     "name": "stdout",
     "output_type": "stream",
     "text": [
      " * sqlite:///CourseDataWarehouse.db\n",
      "0 rows affected.\n",
      "1090 rows affected.\n",
      "Done.\n"
     ]
    },
    {
     "data": {
      "text/html": [
       "<table>\n",
       "    <tr>\n",
       "        <th>Timecode_id</th>\n",
       "        <th>Day</th>\n",
       "        <th>Start</th>\n",
       "        <th>End</th>\n",
       "    </tr>\n",
       "    <tr>\n",
       "        <td>1</td>\n",
       "        <td>F</td>\n",
       "        <td>07:00:00</td>\n",
       "        <td>10:00:00</td>\n",
       "    </tr>\n",
       "    <tr>\n",
       "        <td>2</td>\n",
       "        <td>F</td>\n",
       "        <td>07:00:00</td>\n",
       "        <td>11:00:00</td>\n",
       "    </tr>\n",
       "    <tr>\n",
       "        <td>3</td>\n",
       "        <td>F</td>\n",
       "        <td>07:00:00</td>\n",
       "        <td>12:15:00</td>\n",
       "    </tr>\n",
       "    <tr>\n",
       "        <td>4</td>\n",
       "        <td>F</td>\n",
       "        <td>07:00:00</td>\n",
       "        <td>13:00:00</td>\n",
       "    </tr>\n",
       "    <tr>\n",
       "        <td>5</td>\n",
       "        <td>F</td>\n",
       "        <td>07:00:00</td>\n",
       "        <td>14:00:00</td>\n",
       "    </tr>\n",
       "    <tr>\n",
       "        <td>6</td>\n",
       "        <td>F</td>\n",
       "        <td>07:00:00</td>\n",
       "        <td>15:00:00</td>\n",
       "    </tr>\n",
       "    <tr>\n",
       "        <td>7</td>\n",
       "        <td>F</td>\n",
       "        <td>07:00:00</td>\n",
       "        <td>17:30:00</td>\n",
       "    </tr>\n",
       "    <tr>\n",
       "        <td>8</td>\n",
       "        <td>F</td>\n",
       "        <td>07:45:00</td>\n",
       "        <td>10:15:00</td>\n",
       "    </tr>\n",
       "    <tr>\n",
       "        <td>9</td>\n",
       "        <td>F</td>\n",
       "        <td>07:55:00</td>\n",
       "        <td>10:55:00</td>\n",
       "    </tr>\n",
       "    <tr>\n",
       "        <td>10</td>\n",
       "        <td>F</td>\n",
       "        <td>08:00:00</td>\n",
       "        <td>08:30:00</td>\n",
       "    </tr>\n",
       "</table>"
      ],
      "text/plain": [
       "[(1, 'F', '07:00:00', '10:00:00'),\n",
       " (2, 'F', '07:00:00', '11:00:00'),\n",
       " (3, 'F', '07:00:00', '12:15:00'),\n",
       " (4, 'F', '07:00:00', '13:00:00'),\n",
       " (5, 'F', '07:00:00', '14:00:00'),\n",
       " (6, 'F', '07:00:00', '15:00:00'),\n",
       " (7, 'F', '07:00:00', '17:30:00'),\n",
       " (8, 'F', '07:45:00', '10:15:00'),\n",
       " (9, 'F', '07:55:00', '10:55:00'),\n",
       " (10, 'F', '08:00:00', '08:30:00')]"
      ]
     },
     "execution_count": 15,
     "metadata": {},
     "output_type": "execute_result"
    }
   ],
   "source": [
    "%%sql\n",
    "DELETE FROM TIMECODES_DW;\n",
    "INSERT INTO TIMECODES_DW(Day,Start,End)\n",
    "    SELECT DISTINCT Day,time(Start) AS StartTime,time(End) AS EndTime\n",
    "    FROM DB.MEETINGS\n",
    "    ORDER BY Day, StartTime, EndTime;\n",
    "SELECT * FROM TIMECODES_DW LIMIT 10;"
   ]
  },
  {
   "cell_type": "code",
   "execution_count": 16,
   "metadata": {},
   "outputs": [
    {
     "name": "stdout",
     "output_type": "stream",
     "text": [
      " * sqlite:///CourseDataWarehouse.db\n",
      "Done.\n",
      "Done.\n",
      "Done.\n"
     ]
    },
    {
     "data": {
      "text/html": [
       "<table>\n",
       "    <tr>\n",
       "        <th>Day</th>\n",
       "        <th>StartTime</th>\n",
       "        <th>EndTime</th>\n",
       "        <th>Offering_id</th>\n",
       "        <th>Timecode_id</th>\n",
       "    </tr>\n",
       "    <tr>\n",
       "        <td>F</td>\n",
       "        <td>07:00:00</td>\n",
       "        <td>10:00:00</td>\n",
       "        <td>15426</td>\n",
       "        <td>1</td>\n",
       "    </tr>\n",
       "    <tr>\n",
       "        <td>F</td>\n",
       "        <td>07:00:00</td>\n",
       "        <td>11:00:00</td>\n",
       "        <td>15426</td>\n",
       "        <td>2</td>\n",
       "    </tr>\n",
       "    <tr>\n",
       "        <td>F</td>\n",
       "        <td>07:00:00</td>\n",
       "        <td>12:15:00</td>\n",
       "        <td>8479</td>\n",
       "        <td>3</td>\n",
       "    </tr>\n",
       "    <tr>\n",
       "        <td>F</td>\n",
       "        <td>07:00:00</td>\n",
       "        <td>12:15:00</td>\n",
       "        <td>9905</td>\n",
       "        <td>3</td>\n",
       "    </tr>\n",
       "    <tr>\n",
       "        <td>F</td>\n",
       "        <td>07:00:00</td>\n",
       "        <td>12:15:00</td>\n",
       "        <td>11338</td>\n",
       "        <td>3</td>\n",
       "    </tr>\n",
       "    <tr>\n",
       "        <td>F</td>\n",
       "        <td>07:00:00</td>\n",
       "        <td>12:15:00</td>\n",
       "        <td>11339</td>\n",
       "        <td>3</td>\n",
       "    </tr>\n",
       "    <tr>\n",
       "        <td>F</td>\n",
       "        <td>07:00:00</td>\n",
       "        <td>13:00:00</td>\n",
       "        <td>1074</td>\n",
       "        <td>4</td>\n",
       "    </tr>\n",
       "    <tr>\n",
       "        <td>F</td>\n",
       "        <td>07:00:00</td>\n",
       "        <td>13:00:00</td>\n",
       "        <td>2587</td>\n",
       "        <td>4</td>\n",
       "    </tr>\n",
       "    <tr>\n",
       "        <td>F</td>\n",
       "        <td>07:00:00</td>\n",
       "        <td>13:00:00</td>\n",
       "        <td>2591</td>\n",
       "        <td>4</td>\n",
       "    </tr>\n",
       "    <tr>\n",
       "        <td>F</td>\n",
       "        <td>07:00:00</td>\n",
       "        <td>13:00:00</td>\n",
       "        <td>4079</td>\n",
       "        <td>4</td>\n",
       "    </tr>\n",
       "</table>"
      ],
      "text/plain": [
       "[('F', '07:00:00', '10:00:00', 15426, 1),\n",
       " ('F', '07:00:00', '11:00:00', 15426, 2),\n",
       " ('F', '07:00:00', '12:15:00', 8479, 3),\n",
       " ('F', '07:00:00', '12:15:00', 9905, 3),\n",
       " ('F', '07:00:00', '12:15:00', 11338, 3),\n",
       " ('F', '07:00:00', '12:15:00', 11339, 3),\n",
       " ('F', '07:00:00', '13:00:00', 1074, 4),\n",
       " ('F', '07:00:00', '13:00:00', 2587, 4),\n",
       " ('F', '07:00:00', '13:00:00', 2591, 4),\n",
       " ('F', '07:00:00', '13:00:00', 4079, 4)]"
      ]
     },
     "execution_count": 16,
     "metadata": {},
     "output_type": "execute_result"
    }
   ],
   "source": [
    "%%sql\n",
    "DROP TABLE IF EXISTS OFFERING_TIMECODE;\n",
    "CREATE TABLE OFFERING_TIMECODE AS\n",
    "\n",
    "SELECT DISTINCT Day,time(DB.MEETINGS.Start) AS StartTime,time(DB.MEETINGS.End) AS EndTime, Offering_id,Timecode_id\n",
    "    FROM DB.MEETINGS\n",
    "    JOIN DB.COURSE_OFFERINGS USING(Offering_id)\n",
    "    JOIN TIMECODES_DW USING(Day)\n",
    "    WHERE TIMECODES_DW.Day = Day AND TIMECODES_DW.Start = StartTime AND TIMECODES_DW.End = EndTime\n",
    "    ORDER BY Day, StartTime, EndTime;\n",
    "SELECT * FROM OFFERING_TIMECODE LIMIT 10;"
   ]
  },
  {
   "cell_type": "code",
   "execution_count": 17,
   "metadata": {},
   "outputs": [
    {
     "name": "stdout",
     "output_type": "stream",
     "text": [
      " * sqlite:///CourseDataWarehouse.db\n",
      "10316 rows affected.\n",
      "Done.\n"
     ]
    },
    {
     "data": {
      "text/html": [
       "<table>\n",
       "    <tr>\n",
       "        <th>Course_id</th>\n",
       "        <th>Program_id</th>\n",
       "        <th>Location_id</th>\n",
       "        <th>Professor_id</th>\n",
       "        <th>Offering_id</th>\n",
       "        <th>Timecode_id</th>\n",
       "        <th>CatalogYear</th>\n",
       "        <th>Term</th>\n",
       "        <th>Credits</th>\n",
       "        <th>Section</th>\n",
       "        <th>Cap</th>\n",
       "        <th>Actual</th>\n",
       "        <th>Remaining</th>\n",
       "        <th>Timecodes</th>\n",
       "        <th>Count_courses</th>\n",
       "        <th>Num_students</th>\n",
       "        <th>Count_location</th>\n",
       "    </tr>\n",
       "    <tr>\n",
       "        <td>113</td>\n",
       "        <td>1</td>\n",
       "        <td>105</td>\n",
       "        <td>2</td>\n",
       "        <td>4489</td>\n",
       "        <td>207</td>\n",
       "        <td>2017_2018</td>\n",
       "        <td>Fall2017</td>\n",
       "        <td>3.0</td>\n",
       "        <td>01C</td>\n",
       "        <td>0</td>\n",
       "        <td>28</td>\n",
       "        <td>-28</td>\n",
       "        <td>[&#x27;MR 1100am-1215pm 09/05-12/11 DSB 110A&#x27;]</td>\n",
       "        <td>None</td>\n",
       "        <td>None</td>\n",
       "        <td>None</td>\n",
       "    </tr>\n",
       "    <tr>\n",
       "        <td>113</td>\n",
       "        <td>1</td>\n",
       "        <td>105</td>\n",
       "        <td>2</td>\n",
       "        <td>4489</td>\n",
       "        <td>404</td>\n",
       "        <td>2017_2018</td>\n",
       "        <td>Fall2017</td>\n",
       "        <td>3.0</td>\n",
       "        <td>01C</td>\n",
       "        <td>0</td>\n",
       "        <td>28</td>\n",
       "        <td>-28</td>\n",
       "        <td>[&#x27;MR 1100am-1215pm 09/05-12/11 DSB 110A&#x27;]</td>\n",
       "        <td>None</td>\n",
       "        <td>None</td>\n",
       "        <td>None</td>\n",
       "    </tr>\n",
       "    <tr>\n",
       "        <td>113</td>\n",
       "        <td>1</td>\n",
       "        <td>105</td>\n",
       "        <td>2</td>\n",
       "        <td>4490</td>\n",
       "        <td>218</td>\n",
       "        <td>2017_2018</td>\n",
       "        <td>Fall2017</td>\n",
       "        <td>3.0</td>\n",
       "        <td>02C</td>\n",
       "        <td>0</td>\n",
       "        <td>29</td>\n",
       "        <td>-29</td>\n",
       "        <td>[&#x27;MR 1230pm-0145pm 09/05-12/11 DSB 110A&#x27;]</td>\n",
       "        <td>None</td>\n",
       "        <td>None</td>\n",
       "        <td>None</td>\n",
       "    </tr>\n",
       "    <tr>\n",
       "        <td>113</td>\n",
       "        <td>1</td>\n",
       "        <td>105</td>\n",
       "        <td>2</td>\n",
       "        <td>4490</td>\n",
       "        <td>413</td>\n",
       "        <td>2017_2018</td>\n",
       "        <td>Fall2017</td>\n",
       "        <td>3.0</td>\n",
       "        <td>02C</td>\n",
       "        <td>0</td>\n",
       "        <td>29</td>\n",
       "        <td>-29</td>\n",
       "        <td>[&#x27;MR 1230pm-0145pm 09/05-12/11 DSB 110A&#x27;]</td>\n",
       "        <td>None</td>\n",
       "        <td>None</td>\n",
       "        <td>None</td>\n",
       "    </tr>\n",
       "    <tr>\n",
       "        <td>113</td>\n",
       "        <td>1</td>\n",
       "        <td>98</td>\n",
       "        <td>690</td>\n",
       "        <td>4491</td>\n",
       "        <td>147</td>\n",
       "        <td>2017_2018</td>\n",
       "        <td>Fall2017</td>\n",
       "        <td>3.0</td>\n",
       "        <td>03C</td>\n",
       "        <td>0</td>\n",
       "        <td>26</td>\n",
       "        <td>-26</td>\n",
       "        <td>[&#x27;MR 0800am-0915am 09/05-12/11 DSB 104&#x27;]</td>\n",
       "        <td>None</td>\n",
       "        <td>None</td>\n",
       "        <td>None</td>\n",
       "    </tr>\n",
       "    <tr>\n",
       "        <td>113</td>\n",
       "        <td>1</td>\n",
       "        <td>98</td>\n",
       "        <td>690</td>\n",
       "        <td>4491</td>\n",
       "        <td>343</td>\n",
       "        <td>2017_2018</td>\n",
       "        <td>Fall2017</td>\n",
       "        <td>3.0</td>\n",
       "        <td>03C</td>\n",
       "        <td>0</td>\n",
       "        <td>26</td>\n",
       "        <td>-26</td>\n",
       "        <td>[&#x27;MR 0800am-0915am 09/05-12/11 DSB 104&#x27;]</td>\n",
       "        <td>None</td>\n",
       "        <td>None</td>\n",
       "        <td>None</td>\n",
       "    </tr>\n",
       "    <tr>\n",
       "        <td>113</td>\n",
       "        <td>1</td>\n",
       "        <td>98</td>\n",
       "        <td>690</td>\n",
       "        <td>4492</td>\n",
       "        <td>186</td>\n",
       "        <td>2017_2018</td>\n",
       "        <td>Fall2017</td>\n",
       "        <td>3.0</td>\n",
       "        <td>04C</td>\n",
       "        <td>0</td>\n",
       "        <td>30</td>\n",
       "        <td>-30</td>\n",
       "        <td>[&#x27;MR 0930am-1045am 09/05-12/11 DSB 104&#x27;]</td>\n",
       "        <td>None</td>\n",
       "        <td>None</td>\n",
       "        <td>None</td>\n",
       "    </tr>\n",
       "    <tr>\n",
       "        <td>113</td>\n",
       "        <td>1</td>\n",
       "        <td>98</td>\n",
       "        <td>690</td>\n",
       "        <td>4492</td>\n",
       "        <td>385</td>\n",
       "        <td>2017_2018</td>\n",
       "        <td>Fall2017</td>\n",
       "        <td>3.0</td>\n",
       "        <td>04C</td>\n",
       "        <td>0</td>\n",
       "        <td>30</td>\n",
       "        <td>-30</td>\n",
       "        <td>[&#x27;MR 0930am-1045am 09/05-12/11 DSB 104&#x27;]</td>\n",
       "        <td>None</td>\n",
       "        <td>None</td>\n",
       "        <td>None</td>\n",
       "    </tr>\n",
       "    <tr>\n",
       "        <td>113</td>\n",
       "        <td>1</td>\n",
       "        <td>98</td>\n",
       "        <td>690</td>\n",
       "        <td>4493</td>\n",
       "        <td>243</td>\n",
       "        <td>2017_2018</td>\n",
       "        <td>Fall2017</td>\n",
       "        <td>3.0</td>\n",
       "        <td>05C</td>\n",
       "        <td>0</td>\n",
       "        <td>31</td>\n",
       "        <td>-31</td>\n",
       "        <td>[&#x27;MR 0200pm-0315pm 09/05-12/11 DSB 104&#x27;]</td>\n",
       "        <td>None</td>\n",
       "        <td>None</td>\n",
       "        <td>None</td>\n",
       "    </tr>\n",
       "    <tr>\n",
       "        <td>113</td>\n",
       "        <td>1</td>\n",
       "        <td>98</td>\n",
       "        <td>690</td>\n",
       "        <td>4493</td>\n",
       "        <td>435</td>\n",
       "        <td>2017_2018</td>\n",
       "        <td>Fall2017</td>\n",
       "        <td>3.0</td>\n",
       "        <td>05C</td>\n",
       "        <td>0</td>\n",
       "        <td>31</td>\n",
       "        <td>-31</td>\n",
       "        <td>[&#x27;MR 0200pm-0315pm 09/05-12/11 DSB 104&#x27;]</td>\n",
       "        <td>None</td>\n",
       "        <td>None</td>\n",
       "        <td>None</td>\n",
       "    </tr>\n",
       "</table>"
      ],
      "text/plain": [
       "[(113, 1, 105, 2, 4489, 207, '2017_2018', 'Fall2017', 3.0, '01C', 0, 28, -28, \"['MR 1100am-1215pm 09/05-12/11 DSB 110A']\", None, None, None),\n",
       " (113, 1, 105, 2, 4489, 404, '2017_2018', 'Fall2017', 3.0, '01C', 0, 28, -28, \"['MR 1100am-1215pm 09/05-12/11 DSB 110A']\", None, None, None),\n",
       " (113, 1, 105, 2, 4490, 218, '2017_2018', 'Fall2017', 3.0, '02C', 0, 29, -29, \"['MR 1230pm-0145pm 09/05-12/11 DSB 110A']\", None, None, None),\n",
       " (113, 1, 105, 2, 4490, 413, '2017_2018', 'Fall2017', 3.0, '02C', 0, 29, -29, \"['MR 1230pm-0145pm 09/05-12/11 DSB 110A']\", None, None, None),\n",
       " (113, 1, 98, 690, 4491, 147, '2017_2018', 'Fall2017', 3.0, '03C', 0, 26, -26, \"['MR 0800am-0915am 09/05-12/11 DSB 104']\", None, None, None),\n",
       " (113, 1, 98, 690, 4491, 343, '2017_2018', 'Fall2017', 3.0, '03C', 0, 26, -26, \"['MR 0800am-0915am 09/05-12/11 DSB 104']\", None, None, None),\n",
       " (113, 1, 98, 690, 4492, 186, '2017_2018', 'Fall2017', 3.0, '04C', 0, 30, -30, \"['MR 0930am-1045am 09/05-12/11 DSB 104']\", None, None, None),\n",
       " (113, 1, 98, 690, 4492, 385, '2017_2018', 'Fall2017', 3.0, '04C', 0, 30, -30, \"['MR 0930am-1045am 09/05-12/11 DSB 104']\", None, None, None),\n",
       " (113, 1, 98, 690, 4493, 243, '2017_2018', 'Fall2017', 3.0, '05C', 0, 31, -31, \"['MR 0200pm-0315pm 09/05-12/11 DSB 104']\", None, None, None),\n",
       " (113, 1, 98, 690, 4493, 435, '2017_2018', 'Fall2017', 3.0, '05C', 0, 31, -31, \"['MR 0200pm-0315pm 09/05-12/11 DSB 104']\", None, None, None)]"
      ]
     },
     "execution_count": 17,
     "metadata": {},
     "output_type": "execute_result"
    }
   ],
   "source": [
    "%%sql\n",
    "\n",
    "INSERT INTO CLASS_FACTS_DW(Course_id,Program_id,Location_id,Professor_id,Timecode_id,Offering_id,CatalogYear,Term,Credits,Section,Cap,Actual,Remaining,Timecodes)\n",
    "    SELECT DISTINCT Course_id,Program_id,Location_id,Professor_id,Timecode_id,DB.COURSE_OFFERINGS.Offering_id,COURSES_DW.CatalogYear, DB.COURSE_OFFERINGS.Term, DB.COURSE_OFFERINGS.Credits, DB.COURSE_OFFERINGS.Section, DB.COURSE_OFFERINGS.Cap, DB.COURSE_OFFERINGS.Actual, DB.COURSE_OFFERINGS.Remaining, DB.COURSE_OFFERINGS.Timecodes\n",
    "    FROM DB.MEETINGS\n",
    "        JOIN DB.COURSE_OFFERINGS USING (Offering_id)\n",
    "        JOIN COURSES_DW USING(Course_id)\n",
    "        JOIN PROGRAMS_DW USING(Program_id)\n",
    "        JOIN LOCATIONS_DW USING(Location_id)\n",
    "        JOIN PROFESSORS_DW USING(Professor_id)\n",
    "        JOIN OFFERING_TIMECODE USING(Offering_id)\n",
    "        JOIN TIMECODES_DW USING(Timecode_id);\n",
    "SELECT * FROM CLASS_FACTS_DW LIMIT 10;"
   ]
  },
  {
   "cell_type": "markdown",
   "metadata": {},
   "source": [
    "# STEP 5: CLEAR AND REGAIN STORAGE"
   ]
  },
  {
   "cell_type": "code",
   "execution_count": 18,
   "metadata": {},
   "outputs": [
    {
     "name": "stdout",
     "output_type": "stream",
     "text": [
      " * sqlite:///CourseDataWarehouse.db\n",
      "Done.\n"
     ]
    },
    {
     "data": {
      "text/plain": [
       "[]"
      ]
     },
     "execution_count": 18,
     "metadata": {},
     "output_type": "execute_result"
    }
   ],
   "source": [
    "%%sql\n",
    "vacuum;"
   ]
  },
  {
   "cell_type": "code",
   "execution_count": null,
   "metadata": {},
   "outputs": [],
   "source": []
  }
 ],
 "metadata": {
  "kernelspec": {
   "display_name": "Python 3",
   "language": "python",
   "name": "python3"
  },
  "language_info": {
   "codemirror_mode": {
    "name": "ipython",
    "version": 3
   },
   "file_extension": ".py",
   "mimetype": "text/x-python",
   "name": "python",
   "nbconvert_exporter": "python",
   "pygments_lexer": "ipython3",
   "version": "3.6.7"
  }
 },
 "nbformat": 4,
 "nbformat_minor": 4
}
