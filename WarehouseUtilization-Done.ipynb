{
 "cells": [
  {
   "cell_type": "markdown",
   "metadata": {},
   "source": [
    "# Data Warehouse Utilization"
   ]
  },
  {
   "cell_type": "code",
   "execution_count": 1,
   "metadata": {},
   "outputs": [],
   "source": [
    "%load_ext sql"
   ]
  },
  {
   "cell_type": "code",
   "execution_count": 2,
   "metadata": {},
   "outputs": [
    {
     "data": {
      "text/plain": [
       "'Connected: @CourseDataWarehouse.db'"
      ]
     },
     "execution_count": 2,
     "metadata": {},
     "output_type": "execute_result"
    }
   ],
   "source": [
    "%%sql\n",
    "sqlite:///CourseDataWarehouse.db"
   ]
  },
  {
   "cell_type": "markdown",
   "metadata": {},
   "source": [
    "## On which day are the most/least classes held?"
   ]
  },
  {
   "cell_type": "code",
   "execution_count": 3,
   "metadata": {},
   "outputs": [
    {
     "name": "stdout",
     "output_type": "stream",
     "text": [
      " * sqlite:///CourseDataWarehouse.db\n",
      "Done.\n"
     ]
    },
    {
     "data": {
      "text/html": [
       "<table>\n",
       "    <tr>\n",
       "        <th>Day</th>\n",
       "        <th>Count</th>\n",
       "    </tr>\n",
       "    <tr>\n",
       "        <td>T</td>\n",
       "        <td>249</td>\n",
       "    </tr>\n",
       "    <tr>\n",
       "        <td>W</td>\n",
       "        <td>243</td>\n",
       "    </tr>\n",
       "    <tr>\n",
       "        <td>R</td>\n",
       "        <td>206</td>\n",
       "    </tr>\n",
       "    <tr>\n",
       "        <td>M</td>\n",
       "        <td>196</td>\n",
       "    </tr>\n",
       "    <tr>\n",
       "        <td>F</td>\n",
       "        <td>137</td>\n",
       "    </tr>\n",
       "    <tr>\n",
       "        <td>S</td>\n",
       "        <td>45</td>\n",
       "    </tr>\n",
       "    <tr>\n",
       "        <td>U</td>\n",
       "        <td>14</td>\n",
       "    </tr>\n",
       "</table>"
      ],
      "text/plain": [
       "[('T', 249),\n",
       " ('W', 243),\n",
       " ('R', 206),\n",
       " ('M', 196),\n",
       " ('F', 137),\n",
       " ('S', 45),\n",
       " ('U', 14)]"
      ]
     },
     "execution_count": 3,
     "metadata": {},
     "output_type": "execute_result"
    }
   ],
   "source": [
    "%%sql\n",
    "SELECT DISTINCT Day, count(Day) as Count\n",
    "FROM TIMECODES_DW\n",
    "GROUP BY Day\n",
    "ORDER BY Count DESC;"
   ]
  },
  {
   "cell_type": "markdown",
   "metadata": {},
   "source": [
    "Seeing the most popular days that classes are held is insighful when considering if the University has capacity to offer more classes, or where they may be able to cut back if necessary.  It is no surprise that the during the week Friday has the fewest classes (3-day weekend?)."
   ]
  },
  {
   "cell_type": "markdown",
   "metadata": {},
   "source": [
    "## Which classroom is the most utilized and what programs hold classes there? "
   ]
  },
  {
   "cell_type": "code",
   "execution_count": 4,
   "metadata": {},
   "outputs": [
    {
     "name": "stdout",
     "output_type": "stream",
     "text": [
      " * sqlite:///CourseDataWarehouse.db\n",
      "Done.\n"
     ]
    },
    {
     "data": {
      "text/html": [
       "<table>\n",
       "    <tr>\n",
       "        <th>location</th>\n",
       "        <th>count</th>\n",
       "    </tr>\n",
       "    <tr>\n",
       "        <td>DSB 112</td>\n",
       "        <td>171</td>\n",
       "    </tr>\n",
       "    <tr>\n",
       "        <td>BNW 341</td>\n",
       "        <td>160</td>\n",
       "    </tr>\n",
       "    <tr>\n",
       "        <td>DSB 109</td>\n",
       "        <td>158</td>\n",
       "    </tr>\n",
       "    <tr>\n",
       "        <td>NHS 301</td>\n",
       "        <td>158</td>\n",
       "    </tr>\n",
       "    <tr>\n",
       "        <td>CNS 101</td>\n",
       "        <td>157</td>\n",
       "    </tr>\n",
       "    <tr>\n",
       "        <td>DSB 106</td>\n",
       "        <td>157</td>\n",
       "    </tr>\n",
       "    <tr>\n",
       "        <td>CNS 108</td>\n",
       "        <td>154</td>\n",
       "    </tr>\n",
       "    <tr>\n",
       "        <td>BNW 137</td>\n",
       "        <td>152</td>\n",
       "    </tr>\n",
       "    <tr>\n",
       "        <td>CNS 106</td>\n",
       "        <td>149</td>\n",
       "    </tr>\n",
       "    <tr>\n",
       "        <td>DSB 108</td>\n",
       "        <td>148</td>\n",
       "    </tr>\n",
       "</table>"
      ],
      "text/plain": [
       "[('DSB 112', 171),\n",
       " ('BNW 341', 160),\n",
       " ('DSB 109', 158),\n",
       " ('NHS 301', 158),\n",
       " ('CNS 101', 157),\n",
       " ('DSB 106', 157),\n",
       " ('CNS 108', 154),\n",
       " ('BNW 137', 152),\n",
       " ('CNS 106', 149),\n",
       " ('DSB 108', 148)]"
      ]
     },
     "execution_count": 4,
     "metadata": {},
     "output_type": "execute_result"
    }
   ],
   "source": [
    "%%sql\n",
    "SELECT location, COUNT(course_id) as count\n",
    "FROM LOCATIONS_DW \n",
    "    JOIN CLASS_FACTS_DW USING (location_id)\n",
    "    JOIN COURSES_DW USING (course_id)\n",
    "GROUP BY location \n",
    "ORDER BY count DESC\n",
    "LIMIT 10;"
   ]
  },
  {
   "cell_type": "code",
   "execution_count": 5,
   "metadata": {},
   "outputs": [
    {
     "name": "stdout",
     "output_type": "stream",
     "text": [
      " * sqlite:///CourseDataWarehouse.db\n",
      "Done.\n"
     ]
    },
    {
     "data": {
      "text/html": [
       "<table>\n",
       "    <tr>\n",
       "        <th>Program</th>\n",
       "        <th>Count</th>\n",
       "    </tr>\n",
       "    <tr>\n",
       "        <td>Accounting</td>\n",
       "        <td>63</td>\n",
       "    </tr>\n",
       "    <tr>\n",
       "        <td>Marketing</td>\n",
       "        <td>38</td>\n",
       "    </tr>\n",
       "    <tr>\n",
       "        <td>Management</td>\n",
       "        <td>26</td>\n",
       "    </tr>\n",
       "    <tr>\n",
       "        <td>Finance</td>\n",
       "        <td>21</td>\n",
       "    </tr>\n",
       "    <tr>\n",
       "        <td>Operations Management</td>\n",
       "        <td>10</td>\n",
       "    </tr>\n",
       "    <tr>\n",
       "        <td>Information Systems</td>\n",
       "        <td>8</td>\n",
       "    </tr>\n",
       "    <tr>\n",
       "        <td>Taxation</td>\n",
       "        <td>5</td>\n",
       "    </tr>\n",
       "</table>"
      ],
      "text/plain": [
       "[('Accounting', 63),\n",
       " ('Marketing', 38),\n",
       " ('Management', 26),\n",
       " ('Finance', 21),\n",
       " ('Operations Management', 10),\n",
       " ('Information Systems', 8),\n",
       " ('Taxation', 5)]"
      ]
     },
     "execution_count": 5,
     "metadata": {},
     "output_type": "execute_result"
    }
   ],
   "source": [
    "%%sql\n",
    "SELECT program_name AS Program, count(catalog_id) AS Count\n",
    "FROM COURSES_DW \n",
    "    JOIN CLASS_FACTS_DW USING (course_id)\n",
    "    JOIN PROGRAMS_DW USING (program_id)\n",
    "    JOIN LOCATIONS_DW USING (location_id)\n",
    "    WHERE location = 'DSB 112'\n",
    "    GROUP BY program_name\n",
    "    ORDER BY Count DESC; "
   ]
  },
  {
   "cell_type": "markdown",
   "metadata": {},
   "source": [
    "This question is pertinent to the University when considering resource/logistics planning.  Dolan School of Business has the most location-specific classrooms, which would be expected considering the many business majors at the school."
   ]
  },
  {
   "cell_type": "markdown",
   "metadata": {},
   "source": [
    "## Which professors have the most diverse courseload?"
   ]
  },
  {
   "cell_type": "code",
   "execution_count": 8,
   "metadata": {},
   "outputs": [
    {
     "name": "stdout",
     "output_type": "stream",
     "text": [
      " * sqlite:///CourseDataWarehouse.db\n",
      "Done.\n"
     ]
    },
    {
     "data": {
      "text/html": [
       "<table>\n",
       "    <tr>\n",
       "        <th>Professor_id</th>\n",
       "        <th>Name</th>\n",
       "        <th>CourseCount</th>\n",
       "    </tr>\n",
       "    <tr>\n",
       "        <td>161</td>\n",
       "        <td>Jeffrey N.  Denenberg</td>\n",
       "        <td>18</td>\n",
       "    </tr>\n",
       "    <tr>\n",
       "        <td>110</td>\n",
       "        <td>Michael P.  Pagano</td>\n",
       "        <td>17</td>\n",
       "    </tr>\n",
       "    <tr>\n",
       "        <td>65</td>\n",
       "        <td>Aaron R.  Van Dyke</td>\n",
       "        <td>16</td>\n",
       "    </tr>\n",
       "    <tr>\n",
       "        <td>111</td>\n",
       "        <td>Qin   Zhang</td>\n",
       "        <td>15</td>\n",
       "    </tr>\n",
       "    <tr>\n",
       "        <td>511</td>\n",
       "        <td>Amalia I.  Rusu</td>\n",
       "        <td>15</td>\n",
       "    </tr>\n",
       "    <tr>\n",
       "        <td>576</td>\n",
       "        <td>Shannon P.  Gerry</td>\n",
       "        <td>14</td>\n",
       "    </tr>\n",
       "    <tr>\n",
       "        <td>67</td>\n",
       "        <td>Diane J.  Brousseau</td>\n",
       "        <td>13</td>\n",
       "    </tr>\n",
       "    <tr>\n",
       "        <td>84</td>\n",
       "        <td>John R.  Miecznikowski</td>\n",
       "        <td>13</td>\n",
       "    </tr>\n",
       "    <tr>\n",
       "        <td>93</td>\n",
       "        <td>Amanda S.  Harper-Leatherman</td>\n",
       "        <td>13</td>\n",
       "    </tr>\n",
       "    <tr>\n",
       "        <td>117</td>\n",
       "        <td>Virginia A.  Kelly</td>\n",
       "        <td>13</td>\n",
       "    </tr>\n",
       "</table>"
      ],
      "text/plain": [
       "[(161, 'Jeffrey N.  Denenberg', 18),\n",
       " (110, 'Michael P.  Pagano', 17),\n",
       " (65, 'Aaron R.  Van Dyke', 16),\n",
       " (111, 'Qin   Zhang', 15),\n",
       " (511, 'Amalia I.  Rusu', 15),\n",
       " (576, 'Shannon P.  Gerry', 14),\n",
       " (67, 'Diane J.  Brousseau', 13),\n",
       " (84, 'John R.  Miecznikowski', 13),\n",
       " (93, 'Amanda S.  Harper-Leatherman', 13),\n",
       " (117, 'Virginia A.  Kelly', 13)]"
      ]
     },
     "execution_count": 8,
     "metadata": {},
     "output_type": "execute_result"
    }
   ],
   "source": [
    "%%sql\n",
    "SELECT professor_id, Name, COUNT(DISTINCT Course_id) AS CourseCount\n",
    "FROM PROFESSORS_DW\n",
    "    JOIN CLASS_FACTS_DW USING (professor_id)\n",
    "    JOIN COURSES_DW USING (course_id)\n",
    "    GROUP BY professor_id, Name\n",
    "    ORDER BY CourseCount DESC\n",
    "    LIMIT 10;"
   ]
  },
  {
   "cell_type": "code",
   "execution_count": 9,
   "metadata": {},
   "outputs": [
    {
     "name": "stdout",
     "output_type": "stream",
     "text": [
      " * sqlite:///CourseDataWarehouse.db\n",
      "Done.\n"
     ]
    },
    {
     "data": {
      "text/html": [
       "<table>\n",
       "    <tr>\n",
       "        <th>Term</th>\n",
       "        <th>Catalog_id</th>\n",
       "        <th>Course_title</th>\n",
       "    </tr>\n",
       "    <tr>\n",
       "        <td>Fall2017</td>\n",
       "        <td>ECE 0461</td>\n",
       "        <td>Green Power Generation</td>\n",
       "    </tr>\n",
       "    <tr>\n",
       "        <td>Fall2017</td>\n",
       "        <td>EE 0213L</td>\n",
       "        <td>Electric Circuits Lab</td>\n",
       "    </tr>\n",
       "    <tr>\n",
       "        <td>Fall2017</td>\n",
       "        <td>EE 0231</td>\n",
       "        <td>Introduction to Electronics Circuits and Devices</td>\n",
       "    </tr>\n",
       "    <tr>\n",
       "        <td>Fall2017</td>\n",
       "        <td>EE 0231L</td>\n",
       "        <td>Electronics Circuits Lab</td>\n",
       "    </tr>\n",
       "    <tr>\n",
       "        <td>Fall2017</td>\n",
       "        <td>EE 0361</td>\n",
       "        <td>Green Power Generation</td>\n",
       "    </tr>\n",
       "    <tr>\n",
       "        <td>Fall2018</td>\n",
       "        <td>BEN 0331</td>\n",
       "        <td>Biomedical Signal Processing</td>\n",
       "    </tr>\n",
       "    <tr>\n",
       "        <td>Fall2018</td>\n",
       "        <td>CR 0331</td>\n",
       "        <td>Biomedical Signal Processing</td>\n",
       "    </tr>\n",
       "    <tr>\n",
       "        <td>Fall2018</td>\n",
       "        <td>EE 0213L</td>\n",
       "        <td>Electric Circuits Lab</td>\n",
       "    </tr>\n",
       "    <tr>\n",
       "        <td>Fall2018</td>\n",
       "        <td>EE 0231L</td>\n",
       "        <td>Electronics Circuits Lab</td>\n",
       "    </tr>\n",
       "    <tr>\n",
       "        <td>Spring2018</td>\n",
       "        <td>CR 0245L</td>\n",
       "        <td>Digital Design I Lab</td>\n",
       "    </tr>\n",
       "    <tr>\n",
       "        <td>Spring2018</td>\n",
       "        <td>ECE 0411</td>\n",
       "        <td>Digital Signal Processing</td>\n",
       "    </tr>\n",
       "    <tr>\n",
       "        <td>Spring2018</td>\n",
       "        <td>EE 0331L</td>\n",
       "        <td>Analog Electronics Lab</td>\n",
       "    </tr>\n",
       "    <tr>\n",
       "        <td>Spring2018</td>\n",
       "        <td>EG 0300</td>\n",
       "        <td>Feedback Control Systems</td>\n",
       "    </tr>\n",
       "    <tr>\n",
       "        <td>Spring2018</td>\n",
       "        <td>ME 0400</td>\n",
       "        <td>Feedback and Control Systems</td>\n",
       "    </tr>\n",
       "    <tr>\n",
       "        <td>Spring2019</td>\n",
       "        <td>ECE 0495</td>\n",
       "        <td>Power Generation and Distribution</td>\n",
       "    </tr>\n",
       "    <tr>\n",
       "        <td>Spring2019</td>\n",
       "        <td>EE 0331L</td>\n",
       "        <td>Analog Electronics Lab</td>\n",
       "    </tr>\n",
       "    <tr>\n",
       "        <td>Spring2019</td>\n",
       "        <td>EE 0385</td>\n",
       "        <td>Power Generation and Distribution</td>\n",
       "    </tr>\n",
       "    <tr>\n",
       "        <td>Spring2019</td>\n",
       "        <td>SW 0461</td>\n",
       "        <td>Pattern Recognition</td>\n",
       "    </tr>\n",
       "</table>"
      ],
      "text/plain": [
       "[('Fall2017', 'ECE 0461', 'Green Power Generation'),\n",
       " ('Fall2017', 'EE 0213L', 'Electric Circuits Lab'),\n",
       " ('Fall2017', 'EE 0231', 'Introduction to Electronics Circuits and Devices'),\n",
       " ('Fall2017', 'EE 0231L', 'Electronics Circuits Lab'),\n",
       " ('Fall2017', 'EE 0361', 'Green Power Generation'),\n",
       " ('Fall2018', 'BEN 0331', 'Biomedical Signal Processing'),\n",
       " ('Fall2018', 'CR 0331', 'Biomedical Signal Processing'),\n",
       " ('Fall2018', 'EE 0213L', 'Electric Circuits Lab'),\n",
       " ('Fall2018', 'EE 0231L', 'Electronics Circuits Lab'),\n",
       " ('Spring2018', 'CR 0245L', 'Digital Design I Lab'),\n",
       " ('Spring2018', 'ECE 0411', 'Digital Signal Processing'),\n",
       " ('Spring2018', 'EE 0331L', 'Analog Electronics Lab'),\n",
       " ('Spring2018', 'EG 0300', 'Feedback Control Systems'),\n",
       " ('Spring2018', 'ME 0400', 'Feedback and Control Systems'),\n",
       " ('Spring2019', 'ECE 0495', 'Power Generation and Distribution'),\n",
       " ('Spring2019', 'EE 0331L', 'Analog Electronics Lab'),\n",
       " ('Spring2019', 'EE 0385', 'Power Generation and Distribution'),\n",
       " ('Spring2019', 'SW 0461', 'Pattern Recognition')]"
      ]
     },
     "execution_count": 9,
     "metadata": {},
     "output_type": "execute_result"
    }
   ],
   "source": [
    "%%sql\n",
    "SELECT DISTINCT term, catalog_id, course_title\n",
    "FROM COURSES_DW\n",
    "    JOIN CLASS_FACTS_DW USING (course_id)\n",
    "    WHERE professor_id = '161';"
   ]
  },
  {
   "cell_type": "markdown",
   "metadata": {},
   "source": [
    "Jeffery N. Denenberg teaches a wide array of Engineering classes across many different distinct types of Engineering disciplines (Electrical, Mechanical, Biomedical).  Does Fairfield need more faculty in these areas?  Is Professor Denenberg overloaded with his class schedule?"
   ]
  },
  {
   "cell_type": "markdown",
   "metadata": {},
   "source": [
    "## Which professor teaches in the highest number of programs?"
   ]
  },
  {
   "cell_type": "code",
   "execution_count": 10,
   "metadata": {},
   "outputs": [
    {
     "name": "stdout",
     "output_type": "stream",
     "text": [
      " * sqlite:///CourseDataWarehouse.db\n",
      "Done.\n"
     ]
    },
    {
     "data": {
      "text/html": [
       "<table>\n",
       "    <tr>\n",
       "        <th>Professor_id</th>\n",
       "        <th>Name</th>\n",
       "        <th>Prof_count</th>\n",
       "    </tr>\n",
       "    <tr>\n",
       "        <td>161</td>\n",
       "        <td>Jeffrey N.  Denenberg</td>\n",
       "        <td>7</td>\n",
       "    </tr>\n",
       "    <tr>\n",
       "        <td>112</td>\n",
       "        <td>James P.  Cavallo</td>\n",
       "        <td>5</td>\n",
       "    </tr>\n",
       "    <tr>\n",
       "        <td>17</td>\n",
       "        <td>Anna M.  Lawrence</td>\n",
       "        <td>4</td>\n",
       "    </tr>\n",
       "    <tr>\n",
       "        <td>586</td>\n",
       "        <td>Djedjiga   Belfadel</td>\n",
       "        <td>4</td>\n",
       "    </tr>\n",
       "    <tr>\n",
       "        <td>162</td>\n",
       "        <td>Douglas A.  Lyon</td>\n",
       "        <td>4</td>\n",
       "    </tr>\n",
       "    <tr>\n",
       "        <td>892</td>\n",
       "        <td>Ellen M.  Lee</td>\n",
       "        <td>4</td>\n",
       "    </tr>\n",
       "    <tr>\n",
       "        <td>192</td>\n",
       "        <td>Emily J.  Orlando</td>\n",
       "        <td>4</td>\n",
       "    </tr>\n",
       "    <tr>\n",
       "        <td>20</td>\n",
       "        <td>Martha S.  LoMonaco</td>\n",
       "        <td>4</td>\n",
       "    </tr>\n",
       "    <tr>\n",
       "        <td>290</td>\n",
       "        <td>Mary Ann M.  Carolan</td>\n",
       "        <td>4</td>\n",
       "    </tr>\n",
       "    <tr>\n",
       "        <td>660</td>\n",
       "        <td>Michelle Leigh  Farrell</td>\n",
       "        <td>4</td>\n",
       "    </tr>\n",
       "</table>"
      ],
      "text/plain": [
       "[(161, 'Jeffrey N.  Denenberg', 7),\n",
       " (112, 'James P.  Cavallo', 5),\n",
       " (17, 'Anna M.  Lawrence', 4),\n",
       " (586, 'Djedjiga   Belfadel', 4),\n",
       " (162, 'Douglas A.  Lyon', 4),\n",
       " (892, 'Ellen M.  Lee', 4),\n",
       " (192, 'Emily J.  Orlando', 4),\n",
       " (20, 'Martha S.  LoMonaco', 4),\n",
       " (290, 'Mary Ann M.  Carolan', 4),\n",
       " (660, 'Michelle Leigh  Farrell', 4)]"
      ]
     },
     "execution_count": 10,
     "metadata": {},
     "output_type": "execute_result"
    }
   ],
   "source": [
    "%%sql\n",
    "SELECT professor_id, Name, COUNT(DISTINCT program_name) AS Prof_count\n",
    "FROM PROFESSORS_DW\n",
    "    JOIN CLASS_FACTS_DW USING (professor_id)\n",
    "    JOIN PROGRAMS_DW USING (program_id)\n",
    "    GROUP BY Name\n",
    "    ORDER BY Prof_count DESC\n",
    "    LIMIT 10;"
   ]
  },
  {
   "cell_type": "code",
   "execution_count": 11,
   "metadata": {},
   "outputs": [
    {
     "name": "stdout",
     "output_type": "stream",
     "text": [
      " * sqlite:///CourseDataWarehouse.db\n",
      "Done.\n"
     ]
    },
    {
     "data": {
      "text/html": [
       "<table>\n",
       "    <tr>\n",
       "        <th>program_name</th>\n",
       "    </tr>\n",
       "    <tr>\n",
       "        <td>Electrical and Computer Engineering</td>\n",
       "    </tr>\n",
       "    <tr>\n",
       "        <td>Electrical Engineering</td>\n",
       "    </tr>\n",
       "    <tr>\n",
       "        <td>Bioengineering</td>\n",
       "    </tr>\n",
       "    <tr>\n",
       "        <td>Computer Engineering</td>\n",
       "    </tr>\n",
       "    <tr>\n",
       "        <td>Engineering</td>\n",
       "    </tr>\n",
       "    <tr>\n",
       "        <td>Mechanical Engineering</td>\n",
       "    </tr>\n",
       "    <tr>\n",
       "        <td>Software Engineering</td>\n",
       "    </tr>\n",
       "</table>"
      ],
      "text/plain": [
       "[('Electrical and Computer Engineering',),\n",
       " ('Electrical Engineering',),\n",
       " ('Bioengineering',),\n",
       " ('Computer Engineering',),\n",
       " ('Engineering',),\n",
       " ('Mechanical Engineering',),\n",
       " ('Software Engineering',)]"
      ]
     },
     "execution_count": 11,
     "metadata": {},
     "output_type": "execute_result"
    }
   ],
   "source": [
    "%%sql\n",
    "SELECT DISTINCT program_name\n",
    "FROM CLASS_FACTS_DW\n",
    "    JOIN PROGRAMS_DW USING (program_id)\n",
    "    WHERE professor_id = '161';"
   ]
  },
  {
   "cell_type": "markdown",
   "metadata": {},
   "source": [
    "Again, we see Professor Denenburg at the top of the list which supports our previous answer when we saw the variety of Engineering disciplines he teaches at Fairfield University.  In the cell below, you can see all the program names he is responsible for."
   ]
  },
  {
   "cell_type": "markdown",
   "metadata": {},
   "source": [
    "## Which program has the most/least count of courses?"
   ]
  },
  {
   "cell_type": "code",
   "execution_count": 12,
   "metadata": {},
   "outputs": [
    {
     "name": "stdout",
     "output_type": "stream",
     "text": [
      " * sqlite:///CourseDataWarehouse.db\n",
      "Done.\n"
     ]
    },
    {
     "data": {
      "text/html": [
       "<table>\n",
       "    <tr>\n",
       "        <th>program_name</th>\n",
       "        <th>Course_count</th>\n",
       "    </tr>\n",
       "    <tr>\n",
       "        <td>Biology</td>\n",
       "        <td>71</td>\n",
       "    </tr>\n",
       "    <tr>\n",
       "        <td>Nursing</td>\n",
       "        <td>68</td>\n",
       "    </tr>\n",
       "    <tr>\n",
       "        <td>Psychology</td>\n",
       "        <td>67</td>\n",
       "    </tr>\n",
       "    <tr>\n",
       "        <td>English</td>\n",
       "        <td>63</td>\n",
       "    </tr>\n",
       "    <tr>\n",
       "        <td>Mathematics</td>\n",
       "        <td>45</td>\n",
       "    </tr>\n",
       "    <tr>\n",
       "        <td>History</td>\n",
       "        <td>43</td>\n",
       "    </tr>\n",
       "    <tr>\n",
       "        <td>Education</td>\n",
       "        <td>38</td>\n",
       "    </tr>\n",
       "    <tr>\n",
       "        <td>Religious Studies</td>\n",
       "        <td>38</td>\n",
       "    </tr>\n",
       "    <tr>\n",
       "        <td>Communication</td>\n",
       "        <td>34</td>\n",
       "    </tr>\n",
       "    <tr>\n",
       "        <td>Chemistry</td>\n",
       "        <td>30</td>\n",
       "    </tr>\n",
       "</table>"
      ],
      "text/plain": [
       "[('Biology', 71),\n",
       " ('Nursing', 68),\n",
       " ('Psychology', 67),\n",
       " ('English', 63),\n",
       " ('Mathematics', 45),\n",
       " ('History', 43),\n",
       " ('Education', 38),\n",
       " ('Religious Studies', 38),\n",
       " ('Communication', 34),\n",
       " ('Chemistry', 30)]"
      ]
     },
     "execution_count": 12,
     "metadata": {},
     "output_type": "execute_result"
    }
   ],
   "source": [
    "%%sql\n",
    "SELECT DISTINCT program_name, COUNT(DISTINCT course_title) as Course_count\n",
    "    FROM PROGRAMS_DW\n",
    "        JOIN CLASS_FACTS_DW USING (Program_id)\n",
    "        JOIN COURSES_DW USING (Course_id)\n",
    "    GROUP BY program_name\n",
    "    ORDER BY Course_count DESC\n",
    "LIMIT 10;"
   ]
  },
  {
   "cell_type": "code",
   "execution_count": 13,
   "metadata": {},
   "outputs": [
    {
     "name": "stdout",
     "output_type": "stream",
     "text": [
      " * sqlite:///CourseDataWarehouse.db\n",
      "Done.\n"
     ]
    },
    {
     "data": {
      "text/html": [
       "<table>\n",
       "    <tr>\n",
       "        <th>program_name</th>\n",
       "        <th>Course_count</th>\n",
       "    </tr>\n",
       "    <tr>\n",
       "        <td>Black Studies</td>\n",
       "        <td>1</td>\n",
       "    </tr>\n",
       "    <tr>\n",
       "        <td>English for Engineers</td>\n",
       "        <td>1</td>\n",
       "    </tr>\n",
       "    <tr>\n",
       "        <td>Humanitarian Action</td>\n",
       "        <td>1</td>\n",
       "    </tr>\n",
       "    <tr>\n",
       "        <td>Irish Studies</td>\n",
       "        <td>1</td>\n",
       "    </tr>\n",
       "    <tr>\n",
       "        <td>Latin American and Caribbean Studies</td>\n",
       "        <td>1</td>\n",
       "    </tr>\n",
       "    <tr>\n",
       "        <td>Women, Gender, and Sexuality Studies</td>\n",
       "        <td>1</td>\n",
       "    </tr>\n",
       "    <tr>\n",
       "        <td>Environmental Studies</td>\n",
       "        <td>2</td>\n",
       "    </tr>\n",
       "    <tr>\n",
       "        <td>Graphic Design</td>\n",
       "        <td>2</td>\n",
       "    </tr>\n",
       "    <tr>\n",
       "        <td>Greek</td>\n",
       "        <td>2</td>\n",
       "    </tr>\n",
       "    <tr>\n",
       "        <td>Humanities</td>\n",
       "        <td>2</td>\n",
       "    </tr>\n",
       "</table>"
      ],
      "text/plain": [
       "[('Black Studies', 1),\n",
       " ('English for Engineers', 1),\n",
       " ('Humanitarian Action', 1),\n",
       " ('Irish Studies', 1),\n",
       " ('Latin American and Caribbean Studies', 1),\n",
       " ('Women, Gender, and Sexuality Studies', 1),\n",
       " ('Environmental Studies', 2),\n",
       " ('Graphic Design', 2),\n",
       " ('Greek', 2),\n",
       " ('Humanities', 2)]"
      ]
     },
     "execution_count": 13,
     "metadata": {},
     "output_type": "execute_result"
    }
   ],
   "source": [
    "%%sql\n",
    "SELECT DISTINCT program_name, COUNT(DISTINCT course_title) as Course_count\n",
    "    FROM PROGRAMS_DW\n",
    "        JOIN CLASS_FACTS_DW USING (Program_id)\n",
    "        JOIN COURSES_DW USING (Course_id)\n",
    "    GROUP BY program_name\n",
    "    ORDER BY Course_count\n",
    "LIMIT 10;"
   ]
  },
  {
   "cell_type": "markdown",
   "metadata": {},
   "source": [
    "This question would be useful to Fairfield University to confirm when highlighting courses of study.  We confirm with this question that Biology and Nursing programs offer the most distinct courses, which is expected as they are two rigorous programs of study at Fairfield."
   ]
  },
  {
   "cell_type": "markdown",
   "metadata": {},
   "source": [
    "## Which classes go over capacity the most frequently?"
   ]
  },
  {
   "cell_type": "code",
   "execution_count": 14,
   "metadata": {},
   "outputs": [
    {
     "name": "stdout",
     "output_type": "stream",
     "text": [
      " * sqlite:///CourseDataWarehouse.db\n",
      "Done.\n"
     ]
    },
    {
     "data": {
      "text/html": [
       "<table>\n",
       "    <tr>\n",
       "        <th>Course_title</th>\n",
       "        <th>Cap_count</th>\n",
       "    </tr>\n",
       "    <tr>\n",
       "        <td>Introduction to Management Accounting</td>\n",
       "        <td>13</td>\n",
       "    </tr>\n",
       "    <tr>\n",
       "        <td>Operations Management</td>\n",
       "        <td>13</td>\n",
       "    </tr>\n",
       "    <tr>\n",
       "        <td>Principles of Marketing</td>\n",
       "        <td>13</td>\n",
       "    </tr>\n",
       "    <tr>\n",
       "        <td>Introduction to Information Systems</td>\n",
       "        <td>11</td>\n",
       "    </tr>\n",
       "    <tr>\n",
       "        <td>Marketing Research</td>\n",
       "        <td>10</td>\n",
       "    </tr>\n",
       "    <tr>\n",
       "        <td>Business Strategies in the Global Environment</td>\n",
       "        <td>8</td>\n",
       "    </tr>\n",
       "    <tr>\n",
       "        <td>Health Assessment Lab</td>\n",
       "        <td>7</td>\n",
       "    </tr>\n",
       "    <tr>\n",
       "        <td>Honors Seminar</td>\n",
       "        <td>7</td>\n",
       "    </tr>\n",
       "    <tr>\n",
       "        <td>Introduction to Finance</td>\n",
       "        <td>7</td>\n",
       "    </tr>\n",
       "    <tr>\n",
       "        <td>Introduction to Management</td>\n",
       "        <td>7</td>\n",
       "    </tr>\n",
       "</table>"
      ],
      "text/plain": [
       "[('Introduction to Management Accounting', 13),\n",
       " ('Operations Management', 13),\n",
       " ('Principles of Marketing', 13),\n",
       " ('Introduction to Information Systems', 11),\n",
       " ('Marketing Research', 10),\n",
       " ('Business Strategies in the Global Environment', 8),\n",
       " ('Health Assessment Lab', 7),\n",
       " ('Honors Seminar', 7),\n",
       " ('Introduction to Finance', 7),\n",
       " ('Introduction to Management', 7)]"
      ]
     },
     "execution_count": 14,
     "metadata": {},
     "output_type": "execute_result"
    }
   ],
   "source": [
    "%%sql\n",
    "SELECT DISTINCT Course_title, COUNT(Course_title) AS Cap_count\n",
    "FROM (SELECT DISTINCT COURSES_DW.CatalogYear, term, section, professor_id, COURSES_DW.Course_id, Catalog_id, Course_title, Timecodes, Cap, Actual, Remaining\n",
    "FROM COURSES_DW    \n",
    "    JOIN CLASS_FACTS_DW USING (course_id)\n",
    "    JOIN TIMECODES_DW USING(Timecode_id)\n",
    "    WHERE Remaining < 0 AND Cap != 0\n",
    "    ORDER BY professor_id)\n",
    "GROUP BY course_title\n",
    "ORDER BY Cap_count DESC\n",
    "LIMIT 10;"
   ]
  },
  {
   "cell_type": "markdown",
   "metadata": {},
   "source": [
    "Here we can see that the vast majority of classes that go over capacity are Business-related classes, which speaks to the popularity of this area of study at the school.  It does question, however, if the University has the course or faculty availability it needs to support the programs offered. "
   ]
  },
  {
   "cell_type": "markdown",
   "metadata": {},
   "source": [
    "## Which classes are attracting <10 students/which classes are the least popular?"
   ]
  },
  {
   "cell_type": "code",
   "execution_count": 15,
   "metadata": {},
   "outputs": [
    {
     "name": "stdout",
     "output_type": "stream",
     "text": [
      " * sqlite:///CourseDataWarehouse.db\n",
      "Done.\n"
     ]
    },
    {
     "data": {
      "text/html": [
       "<table>\n",
       "    <tr>\n",
       "        <th>Course</th>\n",
       "        <th>Catalog_id</th>\n",
       "        <th>Name</th>\n",
       "        <th>CatalogYear</th>\n",
       "        <th>Term</th>\n",
       "        <th>Actual</th>\n",
       "        <th>Cap</th>\n",
       "        <th>Ratio</th>\n",
       "    </tr>\n",
       "    <tr>\n",
       "        <td>Precalculus</td>\n",
       "        <td>MA 0011</td>\n",
       "        <td>Scott   Kaminski</td>\n",
       "        <td>2017_2018</td>\n",
       "        <td>Fall2017</td>\n",
       "        <td>9</td>\n",
       "        <td>32</td>\n",
       "        <td>0.28</td>\n",
       "    </tr>\n",
       "    <tr>\n",
       "        <td>Introduction to Probability and Statistics</td>\n",
       "        <td>MA 0017</td>\n",
       "        <td>Riaz A.  Lalani</td>\n",
       "        <td>2017_2018</td>\n",
       "        <td>Fall2017</td>\n",
       "        <td>8</td>\n",
       "        <td>32</td>\n",
       "        <td>0.25</td>\n",
       "    </tr>\n",
       "    <tr>\n",
       "        <td>Population: Birth, Death, and Migration</td>\n",
       "        <td>SO 0184</td>\n",
       "        <td>Mehmet   Cansoy</td>\n",
       "        <td>2018_2019</td>\n",
       "        <td>Fall2018</td>\n",
       "        <td>8</td>\n",
       "        <td>28</td>\n",
       "        <td>0.29</td>\n",
       "    </tr>\n",
       "    <tr>\n",
       "        <td>20th Century United States</td>\n",
       "        <td>HI 0239</td>\n",
       "        <td>David W.  McFadden</td>\n",
       "        <td>2017_2018</td>\n",
       "        <td>Summer2018</td>\n",
       "        <td>7</td>\n",
       "        <td>25</td>\n",
       "        <td>0.28</td>\n",
       "    </tr>\n",
       "    <tr>\n",
       "        <td>Abstract Algebra</td>\n",
       "        <td>MA 0436</td>\n",
       "        <td>Paul   Baginski</td>\n",
       "        <td>2017_2018</td>\n",
       "        <td>Fall2017</td>\n",
       "        <td>7</td>\n",
       "        <td>25</td>\n",
       "        <td>0.28</td>\n",
       "    </tr>\n",
       "    <tr>\n",
       "        <td>Comprehensive Exam in Marriage and Family Therapy</td>\n",
       "        <td>FT 0099</td>\n",
       "        <td>Erica E.  Hartwell</td>\n",
       "        <td>2018_2019</td>\n",
       "        <td>Fall2018</td>\n",
       "        <td>7</td>\n",
       "        <td>25</td>\n",
       "        <td>0.28</td>\n",
       "    </tr>\n",
       "    <tr>\n",
       "        <td>Politics of Humanitarian Action</td>\n",
       "        <td>PO 0129</td>\n",
       "        <td>Janie L.  Leatherman</td>\n",
       "        <td>2017_2018</td>\n",
       "        <td>Fall2017</td>\n",
       "        <td>7</td>\n",
       "        <td>25</td>\n",
       "        <td>0.28</td>\n",
       "    </tr>\n",
       "    <tr>\n",
       "        <td>Popular Music Theory and Composition</td>\n",
       "        <td>MU 0155</td>\n",
       "        <td>Brian Q.  Torff</td>\n",
       "        <td>2018_2019</td>\n",
       "        <td>Fall2018</td>\n",
       "        <td>7</td>\n",
       "        <td>25</td>\n",
       "        <td>0.28</td>\n",
       "    </tr>\n",
       "    <tr>\n",
       "        <td>Social Change in Developing Nations</td>\n",
       "        <td>SO 0191</td>\n",
       "        <td>Marcela   Aliaga</td>\n",
       "        <td>2017_2018</td>\n",
       "        <td>Fall2017</td>\n",
       "        <td>7</td>\n",
       "        <td>24</td>\n",
       "        <td>0.29</td>\n",
       "    </tr>\n",
       "    <tr>\n",
       "        <td>Calculus II</td>\n",
       "        <td>MA 0172</td>\n",
       "        <td>Neha   Hooda</td>\n",
       "        <td>2018_2019</td>\n",
       "        <td>Spring2019</td>\n",
       "        <td>6</td>\n",
       "        <td>25</td>\n",
       "        <td>0.24</td>\n",
       "    </tr>\n",
       "    <tr>\n",
       "        <td>Texts and Contexts I: Writing as Craft and Inquiry</td>\n",
       "        <td>EN 0011</td>\n",
       "        <td>Rebecca Louise  Dimyan</td>\n",
       "        <td>2017_2018</td>\n",
       "        <td>Summer2018</td>\n",
       "        <td>6</td>\n",
       "        <td>25</td>\n",
       "        <td>0.24</td>\n",
       "    </tr>\n",
       "    <tr>\n",
       "        <td>Artist Book Construction</td>\n",
       "        <td>SA 0136</td>\n",
       "        <td>Kathryn J.  Yarrington</td>\n",
       "        <td>2017_2018</td>\n",
       "        <td>Fall2017</td>\n",
       "        <td>5</td>\n",
       "        <td>18</td>\n",
       "        <td>0.28</td>\n",
       "    </tr>\n",
       "    <tr>\n",
       "        <td>Britain and Its Empire Since 1800</td>\n",
       "        <td>HI 0217</td>\n",
       "        <td>William M.  Abbott</td>\n",
       "        <td>2018_2019</td>\n",
       "        <td>Spring2019</td>\n",
       "        <td>5</td>\n",
       "        <td>25</td>\n",
       "        <td>0.2</td>\n",
       "    </tr>\n",
       "    <tr>\n",
       "        <td>Business Analytics and Big Data Management</td>\n",
       "        <td>IS 0550</td>\n",
       "        <td>Jie   Tao</td>\n",
       "        <td>2017_2018</td>\n",
       "        <td>Summer2018</td>\n",
       "        <td>5</td>\n",
       "        <td>20</td>\n",
       "        <td>0.25</td>\n",
       "    </tr>\n",
       "    <tr>\n",
       "        <td>Calculus II for Chemistry, Engineering, and Physics Majors</td>\n",
       "        <td>MA 0146</td>\n",
       "        <td>Steven R.  LeMay</td>\n",
       "        <td>2017_2018</td>\n",
       "        <td>Spring2018</td>\n",
       "        <td>5</td>\n",
       "        <td>30</td>\n",
       "        <td>0.17</td>\n",
       "    </tr>\n",
       "    <tr>\n",
       "        <td>Comprehensive Exam in Applied Psychology</td>\n",
       "        <td>PY 0098</td>\n",
       "        <td>Faith-Anne   Dohm</td>\n",
       "        <td>2018_2019</td>\n",
       "        <td>Spring2019</td>\n",
       "        <td>5</td>\n",
       "        <td>20</td>\n",
       "        <td>0.25</td>\n",
       "    </tr>\n",
       "    <tr>\n",
       "        <td>Elementary Japanese I</td>\n",
       "        <td>JA 0110</td>\n",
       "        <td>Kazuko Suda  Avery</td>\n",
       "        <td>2017_2018</td>\n",
       "        <td>Fall2017</td>\n",
       "        <td>5</td>\n",
       "        <td>18</td>\n",
       "        <td>0.28</td>\n",
       "    </tr>\n",
       "    <tr>\n",
       "        <td>Elementary Russian I</td>\n",
       "        <td>RU 0110</td>\n",
       "        <td>Elena T.  Syssoeva</td>\n",
       "        <td>2017_2018</td>\n",
       "        <td>Fall2017</td>\n",
       "        <td>5</td>\n",
       "        <td>18</td>\n",
       "        <td>0.28</td>\n",
       "    </tr>\n",
       "    <tr>\n",
       "        <td>English Seminar</td>\n",
       "        <td>ED 0589</td>\n",
       "        <td>Emily R.  Smith</td>\n",
       "        <td>2017_2018</td>\n",
       "        <td>Spring2018</td>\n",
       "        <td>5</td>\n",
       "        <td>20</td>\n",
       "        <td>0.25</td>\n",
       "    </tr>\n",
       "    <tr>\n",
       "        <td>Ethics of War and Peace</td>\n",
       "        <td>AE 0293</td>\n",
       "        <td>Norma   Schmidt</td>\n",
       "        <td>2017_2018</td>\n",
       "        <td>Summer2018</td>\n",
       "        <td>5</td>\n",
       "        <td>25</td>\n",
       "        <td>0.2</td>\n",
       "    </tr>\n",
       "</table>"
      ],
      "text/plain": [
       "[('Precalculus', 'MA 0011', 'Scott   Kaminski', '2017_2018', 'Fall2017', 9, 32, 0.28),\n",
       " ('Introduction to Probability and Statistics', 'MA 0017', 'Riaz A.  Lalani', '2017_2018', 'Fall2017', 8, 32, 0.25),\n",
       " ('Population: Birth, Death, and Migration', 'SO 0184', 'Mehmet   Cansoy', '2018_2019', 'Fall2018', 8, 28, 0.29),\n",
       " ('20th Century United States', 'HI 0239', 'David W.  McFadden', '2017_2018', 'Summer2018', 7, 25, 0.28),\n",
       " ('Abstract Algebra', 'MA 0436', 'Paul   Baginski', '2017_2018', 'Fall2017', 7, 25, 0.28),\n",
       " ('Comprehensive Exam in Marriage and Family Therapy', 'FT 0099', 'Erica E.  Hartwell', '2018_2019', 'Fall2018', 7, 25, 0.28),\n",
       " ('Politics of Humanitarian Action', 'PO 0129', 'Janie L.  Leatherman', '2017_2018', 'Fall2017', 7, 25, 0.28),\n",
       " ('Popular Music Theory and Composition', 'MU 0155', 'Brian Q.  Torff', '2018_2019', 'Fall2018', 7, 25, 0.28),\n",
       " ('Social Change in Developing Nations', 'SO 0191', 'Marcela   Aliaga', '2017_2018', 'Fall2017', 7, 24, 0.29),\n",
       " ('Calculus II', 'MA 0172', 'Neha   Hooda', '2018_2019', 'Spring2019', 6, 25, 0.24),\n",
       " ('Texts and Contexts I: Writing as Craft and Inquiry', 'EN 0011', 'Rebecca Louise  Dimyan', '2017_2018', 'Summer2018', 6, 25, 0.24),\n",
       " ('Artist Book Construction', 'SA 0136', 'Kathryn J.  Yarrington', '2017_2018', 'Fall2017', 5, 18, 0.28),\n",
       " ('Britain and Its Empire Since 1800', 'HI 0217', 'William M.  Abbott', '2018_2019', 'Spring2019', 5, 25, 0.2),\n",
       " ('Business Analytics and Big Data Management', 'IS 0550', 'Jie   Tao', '2017_2018', 'Summer2018', 5, 20, 0.25),\n",
       " ('Calculus II for Chemistry, Engineering, and Physics Majors', 'MA 0146', 'Steven R.  LeMay', '2017_2018', 'Spring2018', 5, 30, 0.17),\n",
       " ('Comprehensive Exam in Applied Psychology', 'PY 0098', 'Faith-Anne   Dohm', '2018_2019', 'Spring2019', 5, 20, 0.25),\n",
       " ('Elementary Japanese I', 'JA 0110', 'Kazuko Suda  Avery', '2017_2018', 'Fall2017', 5, 18, 0.28),\n",
       " ('Elementary Russian I', 'RU 0110', 'Elena T.  Syssoeva', '2017_2018', 'Fall2017', 5, 18, 0.28),\n",
       " ('English Seminar', 'ED 0589', 'Emily R.  Smith', '2017_2018', 'Spring2018', 5, 20, 0.25),\n",
       " ('Ethics of War and Peace', 'AE 0293', 'Norma   Schmidt', '2017_2018', 'Summer2018', 5, 25, 0.2)]"
      ]
     },
     "execution_count": 15,
     "metadata": {},
     "output_type": "execute_result"
    }
   ],
   "source": [
    "%%sql\n",
    "-- Find classes where actual is <10 \n",
    "-- Also get the count of each value\n",
    "SELECT Course_title as Course, Catalog_id, Name, COURSES_DW.CatalogYear, Term, Actual, Cap, round((Actual*1.0/Cap*1.0),2) AS Ratio\n",
    "    FROM COURSES_DW\n",
    "    JOIN CLASS_FACTS_DW USING (course_id)\n",
    "    JOIN PROFESSORS_DW USING (professor_id)\n",
    "    JOIN TIMECODES_DW USING (timecode_id)\n",
    "    JOIN PROGRAMS_DW USING (program_id)\n",
    "    WHERE Actual < 10 AND Ratio <0.3\n",
    "    GROUP BY Course_title\n",
    "    ORDER BY Actual DESC\n",
    "\n",
    "LIMIT 20;"
   ]
  },
  {
   "cell_type": "markdown",
   "metadata": {},
   "source": [
    "Our first question confirmed that the Mathematics program offers among the highest number of courses (45), yet we see here that 25% of the lowest attended classes are Math courses.  Should the University offer fewer Math courses? "
   ]
  },
  {
   "cell_type": "code",
   "execution_count": null,
   "metadata": {},
   "outputs": [],
   "source": []
  }
 ],
 "metadata": {
  "kernelspec": {
   "display_name": "Python 3",
   "language": "python",
   "name": "python3"
  },
  "language_info": {
   "codemirror_mode": {
    "name": "ipython",
    "version": 3
   },
   "file_extension": ".py",
   "mimetype": "text/x-python",
   "name": "python",
   "nbconvert_exporter": "python",
   "pygments_lexer": "ipython3",
   "version": "3.6.7"
  }
 },
 "nbformat": 4,
 "nbformat_minor": 4
}
