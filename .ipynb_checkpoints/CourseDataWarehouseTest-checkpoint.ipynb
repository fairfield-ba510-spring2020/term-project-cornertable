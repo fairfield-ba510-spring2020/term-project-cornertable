{
 "cells": [
  {
   "cell_type": "markdown",
   "metadata": {},
   "source": [
    "# DATA WAREHOUSE TESTS"
   ]
  },
  {
   "cell_type": "code",
   "execution_count": 1,
   "metadata": {},
   "outputs": [],
   "source": [
    "%load_ext sql"
   ]
  },
  {
   "cell_type": "code",
   "execution_count": 2,
   "metadata": {},
   "outputs": [
    {
     "data": {
      "text/plain": [
       "'Connected: @CourseDataWarehouse.db'"
      ]
     },
     "execution_count": 2,
     "metadata": {},
     "output_type": "execute_result"
    }
   ],
   "source": [
    "%%sql\n",
    "sqlite:///CourseDataWarehouse.db"
   ]
  },
  {
   "cell_type": "markdown",
   "metadata": {},
   "source": [
    "# DOMAIN INTEGRITY CHECKS"
   ]
  },
  {
   "cell_type": "code",
   "execution_count": 7,
   "metadata": {},
   "outputs": [
    {
     "name": "stdout",
     "output_type": "stream",
     "text": [
      " * sqlite:///CourseDataWarehouse.db\n",
      "Done.\n"
     ]
    },
    {
     "data": {
      "text/html": [
       "<table>\n",
       "    <tr>\n",
       "        <th>type</th>\n",
       "        <th>name</th>\n",
       "        <th>tbl_name</th>\n",
       "        <th>rootpage</th>\n",
       "        <th>sql</th>\n",
       "    </tr>\n",
       "    <tr>\n",
       "        <td>table</td>\n",
       "        <td>PROGRAMS_DW</td>\n",
       "        <td>PROGRAMS_DW</td>\n",
       "        <td>2</td>\n",
       "        <td>CREATE TABLE PROGRAMS_DW (<br>    Program_id INTEGER PRIMARY KEY,<br>    program_code TEXT NOT NULL,<br>    program_name TEXT NOT NULL<br>)</td>\n",
       "    </tr>\n",
       "    <tr>\n",
       "        <td>table</td>\n",
       "        <td>PROFESSORS_DW</td>\n",
       "        <td>PROFESSORS_DW</td>\n",
       "        <td>3</td>\n",
       "        <td>CREATE TABLE PROFESSORS_DW (<br>    Professor_id INTEGER PRIMARY KEY,<br>    Name TEXT NOT NULL<br>)</td>\n",
       "    </tr>\n",
       "    <tr>\n",
       "        <td>table</td>\n",
       "        <td>LOCATIONS_DW</td>\n",
       "        <td>LOCATIONS_DW</td>\n",
       "        <td>4</td>\n",
       "        <td>CREATE TABLE LOCATIONS_DW (<br>    Location_id INTEGER PRIMARY KEY,<br>    location TEXT NOT NULL<br>)</td>\n",
       "    </tr>\n",
       "    <tr>\n",
       "        <td>table</td>\n",
       "        <td>TIMECODES_DW</td>\n",
       "        <td>TIMECODES_DW</td>\n",
       "        <td>5</td>\n",
       "        <td>CREATE TABLE TIMECODES_DW (<br>    Timecode_id INTEGER PRIMARY KEY,<br>    Day TEXT,<br>    Start TEXT NOT NULL,<br>    End TEXT NOT NULL<br>)</td>\n",
       "    </tr>\n",
       "    <tr>\n",
       "        <td>table</td>\n",
       "        <td>COURSES_DW</td>\n",
       "        <td>COURSES_DW</td>\n",
       "        <td>6</td>\n",
       "        <td>CREATE TABLE COURSES_DW (<br>    Course_id INTEGER PRIMARY KEY, <br>    CatalogYear TEXT NOT NULL,<br>    Catalog_id TEXT NOT NULL,<br>    Course_title TEXT NOT NULL,<br>    Credits TEXT NOT NULL,<br>    Program_id INTEGER,<br>    FOREIGN KEY (Program_id) REFERENCES PROGRAMS_DW(Program_id)<br>)</td>\n",
       "    </tr>\n",
       "    <tr>\n",
       "        <td>table</td>\n",
       "        <td>CLASS_FACTS_DW</td>\n",
       "        <td>CLASS_FACTS_DW</td>\n",
       "        <td>7</td>\n",
       "        <td>CREATE TABLE CLASS_FACTS_DW (<br>    Course_id INTEGER,<br>    Program_id INTEGER,<br>    Location_id INTEGER,<br>    Professor_id INTEGER,<br>    Offering_id INTEGER,<br>    Timecode_id INTEGER,<br>    CatalogYear TEXT NOT NULL,<br>    Term TEXT NOT NULL,<br>    Credits REAL,<br>    Section TEXT NOT NULL,<br>    Cap INTEGER NOT NULL,<br>    Actual INTEGER NOT NULL,<br>    Remaining INTEGER NOT NULL,<br>    Timecodes TEXT,<br>    Count_courses INTEGER,<br>    Num_students INTEGER,<br>    Count_location INTEGER,<br>    FOREIGN KEY (Timecode_id) REFERENCES TIMECODES_DW(Timecode_id),<br>    FOREIGN KEY (Course_id) REFERENCES COURSES_DW(Course_id),<br>    FOREIGN KEY (Program_id) REFERENCES PROGRAMS_DW(Program_id),<br>    FOREIGN KEY (Location_id) REFERENCES LOCATIONS_DW(Location_id),<br>    FOREIGN KEY (Professor_id) REFERENCES PROFESSORS_DW(Professor_id)   <br>)</td>\n",
       "    </tr>\n",
       "    <tr>\n",
       "        <td>table</td>\n",
       "        <td>OFFERING_TIMECODE</td>\n",
       "        <td>OFFERING_TIMECODE</td>\n",
       "        <td>8</td>\n",
       "        <td>CREATE TABLE OFFERING_TIMECODE(<br>  Day TEXT,<br>  StartTime,<br>  EndTime,<br>  Offering_id INT,<br>  Timecode_id INT<br>)</td>\n",
       "    </tr>\n",
       "</table>"
      ],
      "text/plain": [
       "[('table', 'PROGRAMS_DW', 'PROGRAMS_DW', 2, 'CREATE TABLE PROGRAMS_DW (\\n    Program_id INTEGER PRIMARY KEY,\\n    program_code TEXT NOT NULL,\\n    program_name TEXT NOT NULL\\n)'),\n",
       " ('table', 'PROFESSORS_DW', 'PROFESSORS_DW', 3, 'CREATE TABLE PROFESSORS_DW (\\n    Professor_id INTEGER PRIMARY KEY,\\n    Name TEXT NOT NULL\\n)'),\n",
       " ('table', 'LOCATIONS_DW', 'LOCATIONS_DW', 4, 'CREATE TABLE LOCATIONS_DW (\\n    Location_id INTEGER PRIMARY KEY,\\n    location TEXT NOT NULL\\n)'),\n",
       " ('table', 'TIMECODES_DW', 'TIMECODES_DW', 5, 'CREATE TABLE TIMECODES_DW (\\n    Timecode_id INTEGER PRIMARY KEY,\\n    Day TEXT,\\n    Start TEXT NOT NULL,\\n    End TEXT NOT NULL\\n)'),\n",
       " ('table', 'COURSES_DW', 'COURSES_DW', 6, 'CREATE TABLE COURSES_DW (\\n    Course_id INTEGER PRIMARY KEY, \\n    CatalogYear TEXT NOT NULL,\\n    Catalog_id TEXT NOT NULL,\\n    Course_title TEXT NOT NULL,\\n    Credits TEXT NOT NULL,\\n    Program_id INTEGER,\\n    FOREIGN KEY (Program_id) REFERENCES PROGRAMS_DW(Program_id)\\n)'),\n",
       " ('table', 'CLASS_FACTS_DW', 'CLASS_FACTS_DW', 7, 'CREATE TABLE CLASS_FACTS_DW (\\n    Course_id INTEGER,\\n    Program_id INTEGER,\\n    Location_id INTEGER,\\n    Professor_id INTEGER,\\n    Offering_id  ... (528 characters truncated) ... d),\\n    FOREIGN KEY (Location_id) REFERENCES LOCATIONS_DW(Location_id),\\n    FOREIGN KEY (Professor_id) REFERENCES PROFESSORS_DW(Professor_id)   \\n)'),\n",
       " ('table', 'OFFERING_TIMECODE', 'OFFERING_TIMECODE', 8, 'CREATE TABLE OFFERING_TIMECODE(\\n  Day TEXT,\\n  StartTime,\\n  EndTime,\\n  Offering_id INT,\\n  Timecode_id INT\\n)')]"
      ]
     },
     "execution_count": 7,
     "metadata": {},
     "output_type": "execute_result"
    }
   ],
   "source": [
    "%%sql\n",
    "-- Checks database tables and columns within\n",
    "\n",
    "SELECT * FROM sqlite_master;"
   ]
  },
  {
   "cell_type": "code",
   "execution_count": 17,
   "metadata": {},
   "outputs": [
    {
     "name": "stdout",
     "output_type": "stream",
     "text": [
      " * sqlite:///CourseDataWarehouse.db\n",
      "Done.\n"
     ]
    },
    {
     "data": {
      "text/html": [
       "<table>\n",
       "    <tr>\n",
       "        <th>CatalogCourses</th>\n",
       "        <th>Professors</th>\n",
       "        <th>LocationMeetings</th>\n",
       "    </tr>\n",
       "    <tr>\n",
       "        <td>4440</td>\n",
       "        <td>1104</td>\n",
       "        <td>207</td>\n",
       "    </tr>\n",
       "</table>"
      ],
      "text/plain": [
       "[(4440, 1104, 207)]"
      ]
     },
     "execution_count": 17,
     "metadata": {},
     "output_type": "execute_result"
    }
   ],
   "source": [
    "%%sql\n",
    "-- check that the correct number of records are retrieved\n",
    "\n",
    "SELECT \n",
    "    (SELECT Count(*) FROM COURSES_DW) as CatalogCourses,\n",
    "    (SELECT Count(*) FROM PROFESSORS_DW) as Professors,\n",
    "    (SELECT Count(*) FROM LOCATIONS_DW) as LocationMeetings"
   ]
  },
  {
   "cell_type": "markdown",
   "metadata": {},
   "source": [
    "## ENTITY INTEGRITY CHECKS"
   ]
  },
  {
   "cell_type": "code",
   "execution_count": 25,
   "metadata": {},
   "outputs": [
    {
     "name": "stdout",
     "output_type": "stream",
     "text": [
      " * sqlite:///CourseDataWarehouse.db\n",
      "Done.\n"
     ]
    },
    {
     "data": {
      "text/html": [
       "<table>\n",
       "    <tr>\n",
       "        <th>Course_id</th>\n",
       "        <th>CatalogYear</th>\n",
       "        <th>Catalog_id</th>\n",
       "        <th>Course_title</th>\n",
       "        <th>Credits</th>\n",
       "        <th>Program_id</th>\n",
       "    </tr>\n",
       "    <tr>\n",
       "        <td>1152</td>\n",
       "        <td>2017_2018</td>\n",
       "        <td>IS 0510</td>\n",
       "        <td>Databases for Business Analytics</td>\n",
       "        <td>3 Credits</td>\n",
       "        <td>47</td>\n",
       "    </tr>\n",
       "    <tr>\n",
       "        <td>921</td>\n",
       "        <td>2017_2018</td>\n",
       "        <td>IS 0210</td>\n",
       "        <td>Fundamentals of Business Analytics</td>\n",
       "        <td>3 Credits</td>\n",
       "        <td>47</td>\n",
       "    </tr>\n",
       "    <tr>\n",
       "        <td>1151</td>\n",
       "        <td>2017_2018</td>\n",
       "        <td>IS 0505</td>\n",
       "        <td>Python for Business Analytics</td>\n",
       "        <td>3 Credits</td>\n",
       "        <td>47</td>\n",
       "    </tr>\n",
       "</table>"
      ],
      "text/plain": [
       "[(1152, '2017_2018', 'IS 0510', 'Databases for Business Analytics', '3 Credits', 47),\n",
       " (921, '2017_2018', 'IS 0210', 'Fundamentals of Business Analytics', '3 Credits', 47),\n",
       " (1151, '2017_2018', 'IS 0505', 'Python for Business Analytics', '3 Credits', 47)]"
      ]
     },
     "execution_count": 25,
     "metadata": {},
     "output_type": "execute_result"
    }
   ],
   "source": [
    "%%sql \n",
    "-- Testing COURSES_DW Table to retrieve specific courses\n",
    "\n",
    "SELECT *\n",
    "FROM COURSES_DW\n",
    "WHERE Program_id = 47\n",
    "GROUP BY Course_title\n",
    "HAVING Course_title LIKE '%Analytics';"
   ]
  },
  {
   "cell_type": "code",
   "execution_count": 30,
   "metadata": {},
   "outputs": [
    {
     "name": "stdout",
     "output_type": "stream",
     "text": [
      " * sqlite:///CourseDataWarehouse.db\n",
      "Done.\n"
     ]
    },
    {
     "data": {
      "text/html": [
       "<table>\n",
       "    <tr>\n",
       "        <th>Term</th>\n",
       "        <th>CatalogYear</th>\n",
       "        <th>Credits</th>\n",
       "        <th>Section</th>\n",
       "    </tr>\n",
       "    <tr>\n",
       "        <td>Fall2018</td>\n",
       "        <td>2018_2019</td>\n",
       "        <td>3.0</td>\n",
       "        <td>01C</td>\n",
       "    </tr>\n",
       "    <tr>\n",
       "        <td>Fall2018</td>\n",
       "        <td>2018_2019</td>\n",
       "        <td>4.0</td>\n",
       "        <td>01C</td>\n",
       "    </tr>\n",
       "    <tr>\n",
       "        <td>Fall2018</td>\n",
       "        <td>2018_2019</td>\n",
       "        <td>1.0</td>\n",
       "        <td>01C</td>\n",
       "    </tr>\n",
       "</table>"
      ],
      "text/plain": [
       "[('Fall2018', '2018_2019', 3.0, '01C'),\n",
       " ('Fall2018', '2018_2019', 4.0, '01C'),\n",
       " ('Fall2018', '2018_2019', 1.0, '01C')]"
      ]
     },
     "execution_count": 30,
     "metadata": {},
     "output_type": "execute_result"
    }
   ],
   "source": [
    "%%sql \n",
    "-- Testing CLASS_FACTS_DW Table to retrieve a unique value\n",
    "\n",
    "SELECT DISTINCT Term, CatalogYear, Credits, Section\n",
    "FROM CLASS_FACTS_DW\n",
    "WHERE Term = 'Fall2018' and Section = '01C' \n",
    "LIMIT 10;"
   ]
  },
  {
   "cell_type": "markdown",
   "metadata": {},
   "source": [
    "## RELATIONAL INTEGRITY CHECKS"
   ]
  },
  {
   "cell_type": "markdown",
   "metadata": {},
   "source": [
    "## Which programs do Professor Huntley teach?"
   ]
  },
  {
   "cell_type": "code",
   "execution_count": 13,
   "metadata": {},
   "outputs": [
    {
     "name": "stdout",
     "output_type": "stream",
     "text": [
      " * sqlite:///CourseDataWarehouse.db\n",
      "Done.\n"
     ]
    },
    {
     "data": {
      "text/html": [
       "<table>\n",
       "    <tr>\n",
       "        <th>Name</th>\n",
       "        <th>program_code</th>\n",
       "    </tr>\n",
       "    <tr>\n",
       "        <td>Christopher L.  Huntley</td>\n",
       "        <td>IS</td>\n",
       "    </tr>\n",
       "    <tr>\n",
       "        <td>Christopher L.  Huntley</td>\n",
       "        <td>OM</td>\n",
       "    </tr>\n",
       "</table>"
      ],
      "text/plain": [
       "[('Christopher L.  Huntley', 'IS'), ('Christopher L.  Huntley', 'OM')]"
      ]
     },
     "execution_count": 13,
     "metadata": {},
     "output_type": "execute_result"
    }
   ],
   "source": [
    "%%sql\n",
    "SELECT DISTINCT Name,Program_Code\n",
    "FROM PROFESSORS_DW\n",
    "    JOIN CLASS_FACTS_DW USING(Professor_id)\n",
    "    JOIN COURSES_DW USING(Course_id)\n",
    "    JOIN PROGRAMS_DW USING(Program_id)\n",
    "WHERE Name LIKE '%Huntley%'\n",
    ";"
   ]
  },
  {
   "cell_type": "code",
   "execution_count": null,
   "metadata": {},
   "outputs": [],
   "source": []
  }
 ],
 "metadata": {
  "kernelspec": {
   "display_name": "Python 3",
   "language": "python",
   "name": "python3"
  },
  "language_info": {
   "codemirror_mode": {
    "name": "ipython",
    "version": 3
   },
   "file_extension": ".py",
   "mimetype": "text/x-python",
   "name": "python",
   "nbconvert_exporter": "python",
   "pygments_lexer": "ipython3",
   "version": "3.6.7"
  }
 },
 "nbformat": 4,
 "nbformat_minor": 4
}
