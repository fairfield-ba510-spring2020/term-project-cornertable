{
 "cells": [
  {
   "cell_type": "markdown",
   "metadata": {},
   "source": [
    "# Questions"
   ]
  },
  {
   "cell_type": "markdown",
   "metadata": {},
   "source": [
    "- Which classroom is the most utilized?\n",
    "- Which classes go over capacity the most? (cap>0 use remainder to indicate overage)\n",
    "- Which professors has the most diverse courseload?\n",
    "- Which days are the most/least popular for classes?\n",
    "- Which teacher has taught the most students? (via actual, not cap)\n",
    "- Which classes are attracting less than 10 students? (> 0)"
   ]
  },
  {
   "cell_type": "code",
   "execution_count": null,
   "metadata": {},
   "outputs": [],
   "source": [
    "%load_ext sql\n",
    "%sql sqlite:///CourseDataWarehouse.db"
   ]
  },
  {
   "cell_type": "code",
   "execution_count": null,
   "metadata": {},
   "outputs": [],
   "source": [
    "%%sql\n",
    "attach Database 'CourseData.db' AS DB"
   ]
  },
  {
   "cell_type": "code",
   "execution_count": null,
   "metadata": {},
   "outputs": [],
   "source": [
    "%%sql\n",
    "SELECT *\n",
    "FROM DB.LOCATIONS\n",
    "LIMIT 5;"
   ]
  },
  {
   "cell_type": "markdown",
   "metadata": {},
   "source": [
    "# Create Tables"
   ]
  },
  {
   "cell_type": "code",
   "execution_count": null,
   "metadata": {},
   "outputs": [],
   "source": [
    "%%sql\n",
    "\n",
    "DROP TABLE IF EXISTS PROGRAMS_DW;\n",
    "DROP TABLE IF EXISTS PROFESSORS_DW;\n",
    "DROP TABLE IF EXISTS LOCATIONS_DW;\n",
    "DROP TABLE IF EXISTS TIMECODES_DW;\n",
    "DROP TABLE IF EXISTS COURSES_DW;\n",
    "DROP TABLE IF EXISTS CLASS_FACTS;\n",
    "DROP TABLE IF EXISTS CLASS_TIMECODES;"
   ]
  },
  {
   "cell_type": "code",
   "execution_count": null,
   "metadata": {},
   "outputs": [],
   "source": [
    "%%sql\n",
    "\n",
    "CREATE TABLE PROGRAMS_DW (\n",
    "    Program_id INTEGER PRIMARY KEY,\n",
    "    program_code TEXT NOT NULL,\n",
    "    program_name TEXT NOT NULL\n",
    ");"
   ]
  },
  {
   "cell_type": "code",
   "execution_count": null,
   "metadata": {},
   "outputs": [],
   "source": [
    "%%sql\n",
    "\n",
    "CREATE TABLE PROFESSORS_DW (\n",
    "    Professor_id INTEGER PRIMARY KEY,\n",
    "    Name TEXT NOT NULL\n",
    ");"
   ]
  },
  {
   "cell_type": "code",
   "execution_count": null,
   "metadata": {},
   "outputs": [],
   "source": [
    "%%sql\n",
    "\n",
    "CREATE TABLE LOCATIONS_DW (\n",
    "    Location_id INTEGER PRIMARY KEY,\n",
    "    location TEXT NOT NULL\n",
    ");"
   ]
  },
  {
   "cell_type": "code",
   "execution_count": null,
   "metadata": {},
   "outputs": [],
   "source": [
    "%%sql\n",
    "\n",
    "CREATE TABLE TIMECODES_DW (\n",
    "    Timecode_id INTEGER PRIMARY KEY,\n",
    "    Day TEXT,\n",
    "    Start TEXT NOT NULL,\n",
    "    End TEXT NOT NULL\n",
    ");"
   ]
  },
  {
   "cell_type": "code",
   "execution_count": null,
   "metadata": {},
   "outputs": [],
   "source": [
    "%%sql\n",
    "\n",
    "CREATE TABLE COURSES_DW (\n",
    "    Course_id INTEGER PRIMARY KEY, \n",
    "    CatalogYear TEXT NOT NULL,\n",
    "    Catalog_id TEXT NOT NULL,\n",
    "    Course_title TEXT NOT NULL,\n",
    "    Credits TEXT NOT NULL,\n",
    "    Program_id INTEGER,\n",
    "    FOREIGN KEY (Program_id) REFERENCES PROGRAMS_DW(Program_id)\n",
    ");"
   ]
  },
  {
   "cell_type": "code",
   "execution_count": null,
   "metadata": {},
   "outputs": [],
   "source": [
    "%%sql\n",
    "\n",
    "CREATE TABLE CLASS_FACTS_DW (\n",
    "    Class_id INTEGER PRIMARY KEY,\n",
    "    Program_id INTEGER,\n",
    "    Location_id INTEGER,\n",
    "    Professor_id INTEGER,\n",
    "    Offering_id INTEGER,\n",
    "    CatalogYear TEXT NOT NULL,\n",
    "    Term TEXT NOT NULL,\n",
    "    Credits REAL,\n",
    "    Section TEXT NOT NULL,\n",
    "    Cap INTEGER NOT NULL,\n",
    "    Actual INTEGER NOT NULL,\n",
    "    Remaining INTEGER NOT NULL,\n",
    "    Timecodes TEXT,\n",
    "    Count_courses INTEGER,\n",
    "    Num_students INTEGER,\n",
    "    Count_location INTEGER,\n",
    "    FOREIGN KEY (Program_id) REFERENCES PROGRAMS_DW(Program_id),\n",
    "    FOREIGN KEY (Location_id) REFERENCES LOCATIONS_DW(Location_id),\n",
    "    FOREIGN KEY (Professor_id) REFERENCES PROFESSORS_DW(Professor_id)   \n",
    ");"
   ]
  },
  {
   "cell_type": "code",
   "execution_count": null,
   "metadata": {},
   "outputs": [],
   "source": [
    "%%sql\n",
    "\n",
    "CREATE TABLE CLASS_TIMECODES (\n",
    "    CT_id INTEGER PRIMARY KEY,\n",
    "    Class_id INTEGER,\n",
    "    Timecode_id INTEGER,\n",
    "    Date_Start TEXT,\n",
    "    Date_End TEXT NOT NULL,\n",
    "    FOREIGN KEY (Class_id) REFERENCES CLASS_FACTS_DW(Class_id),\n",
    "    FOREIGN KEY (Timecode_id) REFERENCES TIMECODES_DW(Timecode_id)\n",
    ");"
   ]
  },
  {
   "cell_type": "markdown",
   "metadata": {},
   "source": [
    "# POPULATE TABLES"
   ]
  },
  {
   "cell_type": "code",
   "execution_count": null,
   "metadata": {},
   "outputs": [],
   "source": [
    "%%sql\n",
    "\n",
    "INSERT INTO PROGRAMS_DW(program_name,program_code)\n",
    "    SELECT DISTINCT program_name,program_code\n",
    "    FROM DB.PROGRAMS;\n",
    "SELECT * FROM PROGRAMS_DW LIMIT 5;"
   ]
  },
  {
   "cell_type": "code",
   "execution_count": null,
   "metadata": {},
   "outputs": [],
   "source": [
    "%%sql\n",
    "\n",
    "INSERT INTO PROFESSORS_DW(Name)\n",
    "    SELECT DISTINCT Name\n",
    "    FROM DB.PROFESSORS;\n",
    "SELECT * FROM PROFESSORS_DW LIMIT 5;"
   ]
  },
  {
   "cell_type": "code",
   "execution_count": null,
   "metadata": {},
   "outputs": [],
   "source": [
    "%%sql\n",
    "\n",
    "INSERT INTO LOCATIONS_DW(location)\n",
    "    SELECT location\n",
    "    FROM DB.LOCATIONS;\n",
    "SELECT * FROM LOCATIONS_DW LIMIT 5;"
   ]
  },
  {
   "cell_type": "code",
   "execution_count": null,
   "metadata": {},
   "outputs": [],
   "source": [
    "%%sql\n",
    "\n",
    "INSERT INTO COURSES_DW(CatalogYear,Catalog_id,Course_title,Credits, Program_id)\n",
    "    SELECT DISTINCT CatalogYear,Catalog_id,Course_title,Credits, Program_id\n",
    "    FROM DB.COURSES;\n",
    "SELECT * FROM COURSES_DW LIMIT 15;"
   ]
  },
  {
   "cell_type": "code",
   "execution_count": null,
   "metadata": {},
   "outputs": [],
   "source": [
    "%%sql\n",
    "DELETE FROM TIMECODES_DW;\n",
    "INSERT INTO TIMECODES_DW(Day,Start,End)\n",
    "    SELECT DISTINCT Day,time(Start) AS StartTime,time(End) AS EndTime\n",
    "    FROM DB.MEETINGS\n",
    "    ORDER BY Day, StartTime, EndTime;\n",
    "SELECT * FROM TIMECODES_DW LIMIT 15;"
   ]
  },
  {
   "cell_type": "code",
   "execution_count": null,
   "metadata": {},
   "outputs": [],
   "source": [
    "%%sql\n",
    "DROP TABLE IF EXISTS OFFERING_TIMECODE;\n",
    "CREATE TABLE OFFERING_TIMECODE AS\n",
    "\n",
    "SELECT DISTINCT Day,time(DB.MEETINGS.Start) AS StartTime,time(DB.MEETINGS.End) AS EndTime, Offering_id,Timecode_id\n",
    "    FROM DB.MEETINGS\n",
    "    JOIN DB.COURSE_OFFERINGS USING(Offering_id)\n",
    "    JOIN TIMECODES_DW USING(Day)\n",
    "    WHERE TIMECODES_DW.Day = Day AND TIMECODES_DW.Start = StartTime AND TIMECODES_DW.End = EndTime\n",
    "    ORDER BY Day, StartTime, EndTime;\n",
    "SELECT * FROM OFFERING_TIMECODE LIMIT 5;"
   ]
  },
  {
   "cell_type": "code",
   "execution_count": null,
   "metadata": {},
   "outputs": [],
   "source": [
    "%%sql\n",
    "\n",
    "INSERT INTO CLASS_FACTS_DW(Program_id,Location_id,Professor_id,Offering_id,CatalogYear,Term,Credits,Section,Cap,Actual,Remaining,Timecodes)\n",
    "    SELECT DISTINCT Program_id,Location_id,Professor_id,DB.COURSE_OFFERINGS.Offering_id,COURSES_DW.CatalogYear, DB.COURSE_OFFERINGS.Term, DB.COURSE_OFFERINGS.Credits, DB.COURSE_OFFERINGS.Section, DB.COURSE_OFFERINGS.Cap, DB.COURSE_OFFERINGS.Actual, DB.COURSE_OFFERINGS.Remaining, DB.COURSE_OFFERINGS.Timecodes\n",
    "    FROM DB.MEETINGS\n",
    "        JOIN DB.COURSE_OFFERINGS USING (Offering_id)\n",
    "        JOIN COURSES_DW USING(Course_id)\n",
    "        JOIN PROGRAMS_DW USING(Program_id)\n",
    "        JOIN LOCATIONS_DW USING(Location_id)\n",
    "        JOIN PROFESSORS_DW USING(Professor_id);\n",
    "        --JOIN OFFERING_TIMECODE USING(Offering_id)\n",
    "        --JOIN TIMECODES_DW USING(Timecode_id);\n",
    "SELECT * FROM CLASS_FACTS_DW LIMIT 5;"
   ]
  },
  {
   "cell_type": "code",
   "execution_count": null,
   "metadata": {},
   "outputs": [],
   "source": [
    "%%sql \n",
    "DELETE FROM CLASS_TIMECODES; \n",
    "INSERT INTO CLASS_TIMECODES(Class_id,Timecode_id,Date_Start,Date_End) \n",
    "    SELECT DISTINCT Class_id, Timecode_id,time(DB.MEETINGS.Start) AS Date_Start,time(DB.MEETINGS.End) AS Date_End \n",
    "    FROM DB.MEETINGS \n",
    "        JOIN TIMECODES_DW ON(TIMECODES_DW.Day = DB.MEETINGS.Day AND TIMECODES_DW.Start = DB.MEETINGS.Start AND TIMECODES_DW.End = DB.MEETINGS.End) \n",
    "        JOIN CLASS_FACTS_DW USING (Location_id, Offering_id) \n",
    "        ORDER BY Date_Start,Date_End;\n",
    "SELECT * FROM CLASS_TIMECODES LIMIT 15;"
   ]
  },
  {
   "cell_type": "code",
   "execution_count": null,
   "metadata": {},
   "outputs": [],
   "source": [
    "--DELETE FROM CLASS_TIMECODES; \n",
    "--INSERT INTO CLASS_TIMECODES(Class_id,TIMECODES_DW.Timecode_id,Date_Start,Date_End) \n",
    "    SELECT DISTINCT Class_id, Timecode_id,time(DB.MEETINGS.Start) AS Date_Start,time(DB.MEETINGS.End) AS Date_End \n",
    "    FROM DB.MEETINGS \n",
    "        JOIN TIMECODES_DW ON(TIMECODES_DW.Day = DB.MEETINGS.Day AND TIMECODES_DW.Start = DB.MEETINGS.Start AND TIMECODES_DW.End = DB.MEETINGS.End) \n",
    "        JOIN CLASS_FACTS_DW USING (Offering_id) \n",
    "        ORDER BY Date_Start,Date_End;\n",
    "--SELECT * FROM CLASS_TIMECODES LIMIT 15;"
   ]
  }
 ],
 "metadata": {
  "kernelspec": {
   "display_name": "Python 3",
   "language": "python",
   "name": "python3"
  },
  "language_info": {
   "codemirror_mode": {
    "name": "ipython",
    "version": 3
   },
   "file_extension": ".py",
   "mimetype": "text/x-python",
   "name": "python",
   "nbconvert_exporter": "python",
   "pygments_lexer": "ipython3",
   "version": "3.6.7"
  }
 },
 "nbformat": 4,
 "nbformat_minor": 4
}
