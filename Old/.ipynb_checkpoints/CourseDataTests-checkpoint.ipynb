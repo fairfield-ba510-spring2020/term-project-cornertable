{
 "cells": [
  {
   "cell_type": "markdown",
   "metadata": {},
   "source": [
    "# CourseData Tests"
   ]
  },
  {
   "cell_type": "code",
   "execution_count": 1,
   "metadata": {},
   "outputs": [],
   "source": [
    "%load_ext sql"
   ]
  },
  {
   "cell_type": "code",
   "execution_count": 2,
   "metadata": {},
   "outputs": [
    {
     "data": {
      "text/plain": [
       "'Connected: @CourseData.db'"
      ]
     },
     "execution_count": 2,
     "metadata": {},
     "output_type": "execute_result"
    }
   ],
   "source": [
    "%%sql \n",
    "sqlite:///CourseData.db\n"
   ]
  },
  {
   "cell_type": "markdown",
   "metadata": {},
   "source": [
    "# Domain Integrity Queries -- the allowed values of an attribute determin domain integrity, definitions include data type, length, range or constraints"
   ]
  },
  {
   "cell_type": "markdown",
   "metadata": {},
   "source": [
    "# -query checks that CourseID, Catalog_ID, Title are correct when provided Program_Code and Program_Name"
   ]
  },
  {
   "cell_type": "code",
   "execution_count": 4,
   "metadata": {},
   "outputs": [
    {
     "name": "stdout",
     "output_type": "stream",
     "text": [
      " * sqlite:///CourseData.db\n",
      "Done.\n"
     ]
    },
    {
     "data": {
      "text/html": [
       "<table>\n",
       "    <tr>\n",
       "        <th>Course_id</th>\n",
       "        <th>Catalog_id</th>\n",
       "        <th>Course_title</th>\n",
       "        <th>program_code</th>\n",
       "        <th>program_name</th>\n",
       "    </tr>\n",
       "    <tr>\n",
       "        <td>1</td>\n",
       "        <td>AN 0301</td>\n",
       "        <td>Independent Study</td>\n",
       "        <td>AN</td>\n",
       "        <td>Asian Studies</td>\n",
       "    </tr>\n",
       "    <tr>\n",
       "        <td>2</td>\n",
       "        <td>AN 0310</td>\n",
       "        <td>Asian Studies Seminar</td>\n",
       "        <td>AN</td>\n",
       "        <td>Asian Studies</td>\n",
       "    </tr>\n",
       "    <tr>\n",
       "        <td>3</td>\n",
       "        <td>BU 0211</td>\n",
       "        <td>Legal Environment of Business</td>\n",
       "        <td>BU</td>\n",
       "        <td>Business</td>\n",
       "    </tr>\n",
       "    <tr>\n",
       "        <td>4</td>\n",
       "        <td>BU 0220</td>\n",
       "        <td>Environmental Law and Policy</td>\n",
       "        <td>BU</td>\n",
       "        <td>Business</td>\n",
       "    </tr>\n",
       "    <tr>\n",
       "        <td>5</td>\n",
       "        <td>BU 0311</td>\n",
       "        <td>The Law of Contracts, Sales, and Property</td>\n",
       "        <td>BU</td>\n",
       "        <td>Business</td>\n",
       "    </tr>\n",
       "    <tr>\n",
       "        <td>6</td>\n",
       "        <td>BU 0312</td>\n",
       "        <td>The Law of Business Organizations and Financial Transactions</td>\n",
       "        <td>BU</td>\n",
       "        <td>Business</td>\n",
       "    </tr>\n",
       "    <tr>\n",
       "        <td>7</td>\n",
       "        <td>BU 0320</td>\n",
       "        <td>Employment Law and Discrimination in the Workplace</td>\n",
       "        <td>BU</td>\n",
       "        <td>Business</td>\n",
       "    </tr>\n",
       "    <tr>\n",
       "        <td>8</td>\n",
       "        <td>BU 0391</td>\n",
       "        <td>Seminar in Business Law and Ethics</td>\n",
       "        <td>BU</td>\n",
       "        <td>Business</td>\n",
       "    </tr>\n",
       "    <tr>\n",
       "        <td>9</td>\n",
       "        <td>BL 0101</td>\n",
       "        <td>Black Lives Matter</td>\n",
       "        <td>BL</td>\n",
       "        <td>Black Studies</td>\n",
       "    </tr>\n",
       "    <tr>\n",
       "        <td>10</td>\n",
       "        <td>BL 0398</td>\n",
       "        <td>Independent Study</td>\n",
       "        <td>BL</td>\n",
       "        <td>Black Studies</td>\n",
       "    </tr>\n",
       "</table>"
      ],
      "text/plain": [
       "[(1, 'AN 0301', 'Independent Study', 'AN', 'Asian Studies'),\n",
       " (2, 'AN 0310', 'Asian Studies Seminar', 'AN', 'Asian Studies'),\n",
       " (3, 'BU 0211', 'Legal Environment of Business', 'BU', 'Business'),\n",
       " (4, 'BU 0220', 'Environmental Law and Policy', 'BU', 'Business'),\n",
       " (5, 'BU 0311', 'The Law of Contracts, Sales, and Property', 'BU', 'Business'),\n",
       " (6, 'BU 0312', 'The Law of Business Organizations and Financial Transactions', 'BU', 'Business'),\n",
       " (7, 'BU 0320', 'Employment Law and Discrimination in the Workplace', 'BU', 'Business'),\n",
       " (8, 'BU 0391', 'Seminar in Business Law and Ethics', 'BU', 'Business'),\n",
       " (9, 'BL 0101', 'Black Lives Matter', 'BL', 'Black Studies'),\n",
       " (10, 'BL 0398', 'Independent Study', 'BL', 'Black Studies')]"
      ]
     },
     "execution_count": 4,
     "metadata": {},
     "output_type": "execute_result"
    }
   ],
   "source": [
    "%%sql\n",
    "SELECT course_ID, catalog_ID,Course_Title,program_code,program_name\n",
    "FROM COURSES\n",
    "    LEFT JOIN PROGRAMS USING (program_id)\n",
    "    LIMIT 10;"
   ]
  },
  {
   "cell_type": "markdown",
   "metadata": {},
   "source": [
    "# Entity Integrity Queries -- testing to ensure that each object represented by a row in the table should be distiguishable from any other object (unique entity or do the # of records in each table look right)"
   ]
  },
  {
   "cell_type": "code",
   "execution_count": 9,
   "metadata": {},
   "outputs": [
    {
     "name": "stdout",
     "output_type": "stream",
     "text": [
      " * sqlite:///CourseData.db\n",
      "Done.\n"
     ]
    },
    {
     "data": {
      "text/html": [
       "<table>\n",
       "    <tr>\n",
       "        <th>count(Catalog_ID)</th>\n",
       "    </tr>\n",
       "    <tr>\n",
       "        <td>4440</td>\n",
       "    </tr>\n",
       "</table>"
      ],
      "text/plain": [
       "[(4440,)]"
      ]
     },
     "execution_count": 9,
     "metadata": {},
     "output_type": "execute_result"
    }
   ],
   "source": [
    "%%sql\n",
    "SELECT count(Catalog_ID)\n",
    "FROM COURSES;"
   ]
  },
  {
   "cell_type": "code",
   "execution_count": 10,
   "metadata": {},
   "outputs": [
    {
     "name": "stdout",
     "output_type": "stream",
     "text": [
      " * sqlite:///CourseData.db\n",
      "Done.\n"
     ]
    },
    {
     "data": {
      "text/html": [
       "<table>\n",
       "    <tr>\n",
       "        <th>count (Catalog_ID)</th>\n",
       "    </tr>\n",
       "    <tr>\n",
       "        <td>4440</td>\n",
       "    </tr>\n",
       "</table>"
      ],
      "text/plain": [
       "[(4440,)]"
      ]
     },
     "execution_count": 10,
     "metadata": {},
     "output_type": "execute_result"
    }
   ],
   "source": [
    "%%sql\n",
    "SELECT DISTINCT count (Catalog_ID)\n",
    "FROM COURSES;"
   ]
  },
  {
   "cell_type": "code",
   "execution_count": 7,
   "metadata": {},
   "outputs": [
    {
     "name": "stdout",
     "output_type": "stream",
     "text": [
      " * sqlite:///CourseData.db\n",
      "Done.\n"
     ]
    },
    {
     "data": {
      "text/html": [
       "<table>\n",
       "    <tr>\n",
       "        <th>count (Program_name)</th>\n",
       "    </tr>\n",
       "    <tr>\n",
       "        <td>83</td>\n",
       "    </tr>\n",
       "</table>"
      ],
      "text/plain": [
       "[(83,)]"
      ]
     },
     "execution_count": 7,
     "metadata": {},
     "output_type": "execute_result"
    }
   ],
   "source": [
    "%%sql\n",
    "SELECT count (Program_name)\n",
    "FROM PROGRAMS;"
   ]
  },
  {
   "cell_type": "code",
   "execution_count": 8,
   "metadata": {},
   "outputs": [
    {
     "name": "stdout",
     "output_type": "stream",
     "text": [
      " * sqlite:///CourseData.db\n",
      "Done.\n"
     ]
    },
    {
     "data": {
      "text/html": [
       "<table>\n",
       "    <tr>\n",
       "        <th>count(Program_name)</th>\n",
       "    </tr>\n",
       "    <tr>\n",
       "        <td>83</td>\n",
       "    </tr>\n",
       "</table>"
      ],
      "text/plain": [
       "[(83,)]"
      ]
     },
     "execution_count": 8,
     "metadata": {},
     "output_type": "execute_result"
    }
   ],
   "source": [
    "%%sql\n",
    "SELECT DISTINCT count(Program_name)\n",
    "FROM PROGRAMS;"
   ]
  },
  {
   "cell_type": "code",
   "execution_count": 11,
   "metadata": {},
   "outputs": [
    {
     "name": "stdout",
     "output_type": "stream",
     "text": [
      " * sqlite:///CourseData.db\n",
      "Done.\n"
     ]
    },
    {
     "data": {
      "text/html": [
       "<table>\n",
       "    <tr>\n",
       "        <th>count (crn)</th>\n",
       "    </tr>\n",
       "    <tr>\n",
       "        <td>15937</td>\n",
       "    </tr>\n",
       "</table>"
      ],
      "text/plain": [
       "[(15937,)]"
      ]
     },
     "execution_count": 11,
     "metadata": {},
     "output_type": "execute_result"
    }
   ],
   "source": [
    "%%sql\n",
    "SELECT count (crn)\n",
    "FROM COURSE_OFFERINGS;"
   ]
  },
  {
   "cell_type": "code",
   "execution_count": 13,
   "metadata": {},
   "outputs": [
    {
     "name": "stdout",
     "output_type": "stream",
     "text": [
      " * sqlite:///CourseData.db\n",
      "Done.\n"
     ]
    },
    {
     "data": {
      "text/html": [
       "<table>\n",
       "    <tr>\n",
       "        <th>count (Meetings)</th>\n",
       "    </tr>\n",
       "    <tr>\n",
       "        <td>15937</td>\n",
       "    </tr>\n",
       "</table>"
      ],
      "text/plain": [
       "[(15937,)]"
      ]
     },
     "execution_count": 13,
     "metadata": {},
     "output_type": "execute_result"
    }
   ],
   "source": [
    "%%sql\n",
    "SELECT count (Meetings)\n",
    "FROM COURSE_OFFERINGS;"
   ]
  },
  {
   "cell_type": "code",
   "execution_count": 5,
   "metadata": {},
   "outputs": [
    {
     "name": "stdout",
     "output_type": "stream",
     "text": [
      " * sqlite:///CourseData.db\n",
      "Done.\n"
     ]
    },
    {
     "data": {
      "text/html": [
       "<table>\n",
       "    <tr>\n",
       "        <th>count (name)</th>\n",
       "    </tr>\n",
       "    <tr>\n",
       "        <td>1104</td>\n",
       "    </tr>\n",
       "</table>"
      ],
      "text/plain": [
       "[(1104,)]"
      ]
     },
     "execution_count": 5,
     "metadata": {},
     "output_type": "execute_result"
    }
   ],
   "source": [
    "%%sql\n",
    "SELECT count (name)\n",
    "FROM PROFESSORS;"
   ]
  },
  {
   "cell_type": "code",
   "execution_count": 6,
   "metadata": {},
   "outputs": [
    {
     "name": "stdout",
     "output_type": "stream",
     "text": [
      " * sqlite:///CourseData.db\n",
      "Done.\n"
     ]
    },
    {
     "data": {
      "text/html": [
       "<table>\n",
       "    <tr>\n",
       "        <th>count (name)</th>\n",
       "    </tr>\n",
       "    <tr>\n",
       "        <td>1104</td>\n",
       "    </tr>\n",
       "</table>"
      ],
      "text/plain": [
       "[(1104,)]"
      ]
     },
     "execution_count": 6,
     "metadata": {},
     "output_type": "execute_result"
    }
   ],
   "source": [
    "%%sql\n",
    "SELECT DISTINCT count (name)\n",
    "FROM PROFESSORS;"
   ]
  },
  {
   "cell_type": "code",
   "execution_count": 14,
   "metadata": {},
   "outputs": [
    {
     "name": "stdout",
     "output_type": "stream",
     "text": [
      " * sqlite:///CourseData.db\n",
      "Done.\n"
     ]
    },
    {
     "data": {
      "text/html": [
       "<table>\n",
       "    <tr>\n",
       "        <th>count(start)</th>\n",
       "    </tr>\n",
       "    <tr>\n",
       "        <td>284847</td>\n",
       "    </tr>\n",
       "</table>"
      ],
      "text/plain": [
       "[(284847,)]"
      ]
     },
     "execution_count": 14,
     "metadata": {},
     "output_type": "execute_result"
    }
   ],
   "source": [
    "%%sql\n",
    "SELECT count(start)\n",
    "FROM MEETINGS;"
   ]
  },
  {
   "cell_type": "code",
   "execution_count": 15,
   "metadata": {},
   "outputs": [
    {
     "name": "stdout",
     "output_type": "stream",
     "text": [
      " * sqlite:///CourseData.db\n",
      "Done.\n"
     ]
    },
    {
     "data": {
      "text/html": [
       "<table>\n",
       "    <tr>\n",
       "        <th>count (end)</th>\n",
       "    </tr>\n",
       "    <tr>\n",
       "        <td>284847</td>\n",
       "    </tr>\n",
       "</table>"
      ],
      "text/plain": [
       "[(284847,)]"
      ]
     },
     "execution_count": 15,
     "metadata": {},
     "output_type": "execute_result"
    }
   ],
   "source": [
    "%%sql\n",
    "SELECT count (end)\n",
    "FROM MEETINGS;"
   ]
  },
  {
   "cell_type": "code",
   "execution_count": 16,
   "metadata": {},
   "outputs": [
    {
     "name": "stdout",
     "output_type": "stream",
     "text": [
      " * sqlite:///CourseData.db\n",
      "Done.\n"
     ]
    },
    {
     "data": {
      "text/html": [
       "<table>\n",
       "    <tr>\n",
       "        <th>count (location)</th>\n",
       "    </tr>\n",
       "    <tr>\n",
       "        <td>207</td>\n",
       "    </tr>\n",
       "</table>"
      ],
      "text/plain": [
       "[(207,)]"
      ]
     },
     "execution_count": 16,
     "metadata": {},
     "output_type": "execute_result"
    }
   ],
   "source": [
    "%%sql\n",
    "SELECT count (location)\n",
    "FROM LOCATIONS;"
   ]
  },
  {
   "cell_type": "code",
   "execution_count": 17,
   "metadata": {},
   "outputs": [
    {
     "name": "stdout",
     "output_type": "stream",
     "text": [
      " * sqlite:///CourseData.db\n",
      "Done.\n"
     ]
    },
    {
     "data": {
      "text/html": [
       "<table>\n",
       "    <tr>\n",
       "        <th>count (location)</th>\n",
       "    </tr>\n",
       "    <tr>\n",
       "        <td>207</td>\n",
       "    </tr>\n",
       "</table>"
      ],
      "text/plain": [
       "[(207,)]"
      ]
     },
     "execution_count": 17,
     "metadata": {},
     "output_type": "execute_result"
    }
   ],
   "source": [
    "%%sql\n",
    "SELECT DISTINCT count (location)\n",
    "FROM LOCATIONS;"
   ]
  },
  {
   "cell_type": "markdown",
   "metadata": {},
   "source": [
    "# Relational Integrity Queries -- testing to ensure that etabel relationships are consistent, or that any foreign key field must agree with the primary key that is referenced by the foreign key"
   ]
  },
  {
   "cell_type": "code",
   "execution_count": null,
   "metadata": {},
   "outputs": [],
   "source": []
  }
 ],
 "metadata": {
  "kernelspec": {
   "display_name": "Python 3",
   "language": "python",
   "name": "python3"
  },
  "language_info": {
   "codemirror_mode": {
    "name": "ipython",
    "version": 3
   },
   "file_extension": ".py",
   "mimetype": "text/x-python",
   "name": "python",
   "nbconvert_exporter": "python",
   "pygments_lexer": "ipython3",
   "version": "3.6.7"
  }
 },
 "nbformat": 4,
 "nbformat_minor": 4
}
