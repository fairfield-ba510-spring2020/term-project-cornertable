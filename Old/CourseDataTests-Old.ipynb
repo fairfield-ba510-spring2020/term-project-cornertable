{
 "cells": [
  {
   "cell_type": "markdown",
   "metadata": {},
   "source": [
    "# CourseData Tests"
   ]
  },
  {
   "cell_type": "code",
   "execution_count": 1,
   "metadata": {},
   "outputs": [],
   "source": [
    "%load_ext sql"
   ]
  },
  {
   "cell_type": "code",
   "execution_count": 2,
   "metadata": {},
   "outputs": [
    {
     "data": {
      "text/plain": [
       "'Connected: @CourseData.db'"
      ]
     },
     "execution_count": 2,
     "metadata": {},
     "output_type": "execute_result"
    }
   ],
   "source": [
    "%%sql \n",
    "sqlite:///CourseData.db\n"
   ]
  },
  {
   "cell_type": "markdown",
   "metadata": {},
   "source": [
    "# Domain Integrity Queries -- the allowed values of an attribute determin domain integrity, definitions include data type, length, range or constraints"
   ]
  },
  {
   "cell_type": "markdown",
   "metadata": {},
   "source": [
    "# -query checks that CourseID, Catalog_ID, Title are correct when provided Program_Code and Program_Name"
   ]
  },
  {
   "cell_type": "code",
   "execution_count": 4,
   "metadata": {},
   "outputs": [
    {
     "name": "stdout",
     "output_type": "stream",
     "text": [
      " * sqlite:///CourseData.db\n",
      "Done.\n"
     ]
    },
    {
     "data": {
      "text/html": [
       "<table>\n",
       "    <tr>\n",
       "        <th>Course_id</th>\n",
       "        <th>Catalog_id</th>\n",
       "        <th>Course_title</th>\n",
       "        <th>program_code</th>\n",
       "        <th>program_name</th>\n",
       "    </tr>\n",
       "    <tr>\n",
       "        <td>1</td>\n",
       "        <td>AN 0301</td>\n",
       "        <td>Independent Study</td>\n",
       "        <td>AN</td>\n",
       "        <td>Asian Studies</td>\n",
       "    </tr>\n",
       "    <tr>\n",
       "        <td>2</td>\n",
       "        <td>AN 0310</td>\n",
       "        <td>Asian Studies Seminar</td>\n",
       "        <td>AN</td>\n",
       "        <td>Asian Studies</td>\n",
       "    </tr>\n",
       "    <tr>\n",
       "        <td>3</td>\n",
       "        <td>BU 0211</td>\n",
       "        <td>Legal Environment of Business</td>\n",
       "        <td>BU</td>\n",
       "        <td>Business</td>\n",
       "    </tr>\n",
       "    <tr>\n",
       "        <td>4</td>\n",
       "        <td>BU 0220</td>\n",
       "        <td>Environmental Law and Policy</td>\n",
       "        <td>BU</td>\n",
       "        <td>Business</td>\n",
       "    </tr>\n",
       "    <tr>\n",
       "        <td>5</td>\n",
       "        <td>BU 0311</td>\n",
       "        <td>The Law of Contracts, Sales, and Property</td>\n",
       "        <td>BU</td>\n",
       "        <td>Business</td>\n",
       "    </tr>\n",
       "    <tr>\n",
       "        <td>6</td>\n",
       "        <td>BU 0312</td>\n",
       "        <td>The Law of Business Organizations and Financial Transactions</td>\n",
       "        <td>BU</td>\n",
       "        <td>Business</td>\n",
       "    </tr>\n",
       "    <tr>\n",
       "        <td>7</td>\n",
       "        <td>BU 0320</td>\n",
       "        <td>Employment Law and Discrimination in the Workplace</td>\n",
       "        <td>BU</td>\n",
       "        <td>Business</td>\n",
       "    </tr>\n",
       "    <tr>\n",
       "        <td>8</td>\n",
       "        <td>BU 0391</td>\n",
       "        <td>Seminar in Business Law and Ethics</td>\n",
       "        <td>BU</td>\n",
       "        <td>Business</td>\n",
       "    </tr>\n",
       "    <tr>\n",
       "        <td>9</td>\n",
       "        <td>BL 0101</td>\n",
       "        <td>Black Lives Matter</td>\n",
       "        <td>BL</td>\n",
       "        <td>Black Studies</td>\n",
       "    </tr>\n",
       "    <tr>\n",
       "        <td>10</td>\n",
       "        <td>BL 0398</td>\n",
       "        <td>Independent Study</td>\n",
       "        <td>BL</td>\n",
       "        <td>Black Studies</td>\n",
       "    </tr>\n",
       "</table>"
      ],
      "text/plain": [
       "[(1, 'AN 0301', 'Independent Study', 'AN', 'Asian Studies'),\n",
       " (2, 'AN 0310', 'Asian Studies Seminar', 'AN', 'Asian Studies'),\n",
       " (3, 'BU 0211', 'Legal Environment of Business', 'BU', 'Business'),\n",
       " (4, 'BU 0220', 'Environmental Law and Policy', 'BU', 'Business'),\n",
       " (5, 'BU 0311', 'The Law of Contracts, Sales, and Property', 'BU', 'Business'),\n",
       " (6, 'BU 0312', 'The Law of Business Organizations and Financial Transactions', 'BU', 'Business'),\n",
       " (7, 'BU 0320', 'Employment Law and Discrimination in the Workplace', 'BU', 'Business'),\n",
       " (8, 'BU 0391', 'Seminar in Business Law and Ethics', 'BU', 'Business'),\n",
       " (9, 'BL 0101', 'Black Lives Matter', 'BL', 'Black Studies'),\n",
       " (10, 'BL 0398', 'Independent Study', 'BL', 'Black Studies')]"
      ]
     },
     "execution_count": 4,
     "metadata": {},
     "output_type": "execute_result"
    }
   ],
   "source": [
    "%%sql\n",
    "SELECT course_ID, catalog_ID,Course_Title,program_code,program_name\n",
    "FROM COURSES\n",
    "    LEFT JOIN PROGRAMS USING (program_id)\n",
    "    LIMIT 10;"
   ]
  },
  {
   "cell_type": "markdown",
   "metadata": {},
   "source": [
    "# Entity Integrity Queries -- testing to ensure that each object represented by a row in the table should be distiguishable from any other object (unique entity or do the # of records in each table look right)"
   ]
  },
  {
   "cell_type": "code",
   "execution_count": 9,
   "metadata": {},
   "outputs": [
    {
     "name": "stdout",
     "output_type": "stream",
     "text": [
      " * sqlite:///CourseData.db\n",
      "Done.\n"
     ]
    },
    {
     "data": {
      "text/html": [
       "<table>\n",
       "    <tr>\n",
       "        <th>count(Catalog_ID)</th>\n",
       "    </tr>\n",
       "    <tr>\n",
       "        <td>4440</td>\n",
       "    </tr>\n",
       "</table>"
      ],
      "text/plain": [
       "[(4440,)]"
      ]
     },
     "execution_count": 9,
     "metadata": {},
     "output_type": "execute_result"
    }
   ],
   "source": [
    "%%sql\n",
    "SELECT count(Catalog_ID)\n",
    "FROM COURSES;"
   ]
  },
  {
   "cell_type": "code",
   "execution_count": 10,
   "metadata": {},
   "outputs": [
    {
     "name": "stdout",
     "output_type": "stream",
     "text": [
      " * sqlite:///CourseData.db\n",
      "Done.\n"
     ]
    },
    {
     "data": {
      "text/html": [
       "<table>\n",
       "    <tr>\n",
       "        <th>count (Catalog_ID)</th>\n",
       "    </tr>\n",
       "    <tr>\n",
       "        <td>4440</td>\n",
       "    </tr>\n",
       "</table>"
      ],
      "text/plain": [
       "[(4440,)]"
      ]
     },
     "execution_count": 10,
     "metadata": {},
     "output_type": "execute_result"
    }
   ],
   "source": [
    "%%sql\n",
    "SELECT DISTINCT count (Catalog_ID)\n",
    "FROM COURSES;"
   ]
  },
  {
   "cell_type": "code",
   "execution_count": 7,
   "metadata": {},
   "outputs": [
    {
     "name": "stdout",
     "output_type": "stream",
     "text": [
      " * sqlite:///CourseData.db\n",
      "Done.\n"
     ]
    },
    {
     "data": {
      "text/html": [
       "<table>\n",
       "    <tr>\n",
       "        <th>count (Program_name)</th>\n",
       "    </tr>\n",
       "    <tr>\n",
       "        <td>83</td>\n",
       "    </tr>\n",
       "</table>"
      ],
      "text/plain": [
       "[(83,)]"
      ]
     },
     "execution_count": 7,
     "metadata": {},
     "output_type": "execute_result"
    }
   ],
   "source": [
    "%%sql\n",
    "SELECT count (Program_name)\n",
    "FROM PROGRAMS;"
   ]
  },
  {
   "cell_type": "code",
   "execution_count": 8,
   "metadata": {},
   "outputs": [
    {
     "name": "stdout",
     "output_type": "stream",
     "text": [
      " * sqlite:///CourseData.db\n",
      "Done.\n"
     ]
    },
    {
     "data": {
      "text/html": [
       "<table>\n",
       "    <tr>\n",
       "        <th>count(Program_name)</th>\n",
       "    </tr>\n",
       "    <tr>\n",
       "        <td>83</td>\n",
       "    </tr>\n",
       "</table>"
      ],
      "text/plain": [
       "[(83,)]"
      ]
     },
     "execution_count": 8,
     "metadata": {},
     "output_type": "execute_result"
    }
   ],
   "source": [
    "%%sql\n",
    "SELECT DISTINCT count(Program_name)\n",
    "FROM PROGRAMS;"
   ]
  },
  {
   "cell_type": "code",
   "execution_count": 11,
   "metadata": {},
   "outputs": [
    {
     "name": "stdout",
     "output_type": "stream",
     "text": [
      " * sqlite:///CourseData.db\n",
      "Done.\n"
     ]
    },
    {
     "data": {
      "text/html": [
       "<table>\n",
       "    <tr>\n",
       "        <th>count (crn)</th>\n",
       "    </tr>\n",
       "    <tr>\n",
       "        <td>15937</td>\n",
       "    </tr>\n",
       "</table>"
      ],
      "text/plain": [
       "[(15937,)]"
      ]
     },
     "execution_count": 11,
     "metadata": {},
     "output_type": "execute_result"
    }
   ],
   "source": [
    "%%sql\n",
    "SELECT count (crn)\n",
    "FROM COURSE_OFFERINGS;"
   ]
  },
  {
   "cell_type": "code",
   "execution_count": 13,
   "metadata": {},
   "outputs": [
    {
     "name": "stdout",
     "output_type": "stream",
     "text": [
      " * sqlite:///CourseData.db\n",
      "Done.\n"
     ]
    },
    {
     "data": {
      "text/html": [
       "<table>\n",
       "    <tr>\n",
       "        <th>count (Meetings)</th>\n",
       "    </tr>\n",
       "    <tr>\n",
       "        <td>15937</td>\n",
       "    </tr>\n",
       "</table>"
      ],
      "text/plain": [
       "[(15937,)]"
      ]
     },
     "execution_count": 13,
     "metadata": {},
     "output_type": "execute_result"
    }
   ],
   "source": [
    "%%sql\n",
    "SELECT count (Meetings)\n",
    "FROM COURSE_OFFERINGS;"
   ]
  },
  {
   "cell_type": "code",
   "execution_count": 5,
   "metadata": {},
   "outputs": [
    {
     "name": "stdout",
     "output_type": "stream",
     "text": [
      " * sqlite:///CourseData.db\n",
      "Done.\n"
     ]
    },
    {
     "data": {
      "text/html": [
       "<table>\n",
       "    <tr>\n",
       "        <th>count (name)</th>\n",
       "    </tr>\n",
       "    <tr>\n",
       "        <td>1104</td>\n",
       "    </tr>\n",
       "</table>"
      ],
      "text/plain": [
       "[(1104,)]"
      ]
     },
     "execution_count": 5,
     "metadata": {},
     "output_type": "execute_result"
    }
   ],
   "source": [
    "%%sql\n",
    "SELECT count (name)\n",
    "FROM PROFESSORS;"
   ]
  },
  {
   "cell_type": "code",
   "execution_count": 6,
   "metadata": {},
   "outputs": [
    {
     "name": "stdout",
     "output_type": "stream",
     "text": [
      " * sqlite:///CourseData.db\n",
      "Done.\n"
     ]
    },
    {
     "data": {
      "text/html": [
       "<table>\n",
       "    <tr>\n",
       "        <th>count (name)</th>\n",
       "    </tr>\n",
       "    <tr>\n",
       "        <td>1104</td>\n",
       "    </tr>\n",
       "</table>"
      ],
      "text/plain": [
       "[(1104,)]"
      ]
     },
     "execution_count": 6,
     "metadata": {},
     "output_type": "execute_result"
    }
   ],
   "source": [
    "%%sql\n",
    "SELECT DISTINCT count (name)\n",
    "FROM PROFESSORS;"
   ]
  },
  {
   "cell_type": "code",
   "execution_count": 14,
   "metadata": {},
   "outputs": [
    {
     "name": "stdout",
     "output_type": "stream",
     "text": [
      " * sqlite:///CourseData.db\n",
      "Done.\n"
     ]
    },
    {
     "data": {
      "text/html": [
       "<table>\n",
       "    <tr>\n",
       "        <th>count(start)</th>\n",
       "    </tr>\n",
       "    <tr>\n",
       "        <td>284847</td>\n",
       "    </tr>\n",
       "</table>"
      ],
      "text/plain": [
       "[(284847,)]"
      ]
     },
     "execution_count": 14,
     "metadata": {},
     "output_type": "execute_result"
    }
   ],
   "source": [
    "%%sql\n",
    "SELECT count(start)\n",
    "FROM MEETINGS;"
   ]
  },
  {
   "cell_type": "code",
   "execution_count": 15,
   "metadata": {},
   "outputs": [
    {
     "name": "stdout",
     "output_type": "stream",
     "text": [
      " * sqlite:///CourseData.db\n",
      "Done.\n"
     ]
    },
    {
     "data": {
      "text/html": [
       "<table>\n",
       "    <tr>\n",
       "        <th>count (end)</th>\n",
       "    </tr>\n",
       "    <tr>\n",
       "        <td>284847</td>\n",
       "    </tr>\n",
       "</table>"
      ],
      "text/plain": [
       "[(284847,)]"
      ]
     },
     "execution_count": 15,
     "metadata": {},
     "output_type": "execute_result"
    }
   ],
   "source": [
    "%%sql\n",
    "SELECT count (end)\n",
    "FROM MEETINGS;"
   ]
  },
  {
   "cell_type": "code",
   "execution_count": 16,
   "metadata": {},
   "outputs": [
    {
     "name": "stdout",
     "output_type": "stream",
     "text": [
      " * sqlite:///CourseData.db\n",
      "Done.\n"
     ]
    },
    {
     "data": {
      "text/html": [
       "<table>\n",
       "    <tr>\n",
       "        <th>count (location)</th>\n",
       "    </tr>\n",
       "    <tr>\n",
       "        <td>207</td>\n",
       "    </tr>\n",
       "</table>"
      ],
      "text/plain": [
       "[(207,)]"
      ]
     },
     "execution_count": 16,
     "metadata": {},
     "output_type": "execute_result"
    }
   ],
   "source": [
    "%%sql\n",
    "SELECT count (location)\n",
    "FROM LOCATIONS;"
   ]
  },
  {
   "cell_type": "code",
   "execution_count": 17,
   "metadata": {},
   "outputs": [
    {
     "name": "stdout",
     "output_type": "stream",
     "text": [
      " * sqlite:///CourseData.db\n",
      "Done.\n"
     ]
    },
    {
     "data": {
      "text/html": [
       "<table>\n",
       "    <tr>\n",
       "        <th>count (location)</th>\n",
       "    </tr>\n",
       "    <tr>\n",
       "        <td>207</td>\n",
       "    </tr>\n",
       "</table>"
      ],
      "text/plain": [
       "[(207,)]"
      ]
     },
     "execution_count": 17,
     "metadata": {},
     "output_type": "execute_result"
    }
   ],
   "source": [
    "%%sql\n",
    "SELECT DISTINCT count (location)\n",
    "FROM LOCATIONS;"
   ]
  },
  {
   "cell_type": "markdown",
   "metadata": {},
   "source": [
    "# Relational Integrity Queries -- testing to ensure that table relationships are consistent, or that any foreign key field must agree with the primary key that is referenced by the foreign key.  Are the FKs JOIN-compatible with the PKs? does each mandatory relationship have a corresponding NOT NULL constraint?"
   ]
  },
  {
   "cell_type": "code",
   "execution_count": 20,
   "metadata": {},
   "outputs": [
    {
     "name": "stdout",
     "output_type": "stream",
     "text": [
      " * sqlite:///CourseData.db\n",
      "Done.\n"
     ]
    },
    {
     "data": {
      "text/html": [
       "<table>\n",
       "    <tr>\n",
       "        <th>Catalog_id</th>\n",
       "        <th>Course_title</th>\n",
       "        <th>program_code</th>\n",
       "        <th>program_name</th>\n",
       "    </tr>\n",
       "    <tr>\n",
       "        <td>AN 0301</td>\n",
       "        <td>Independent Study</td>\n",
       "        <td>AN</td>\n",
       "        <td>Asian Studies</td>\n",
       "    </tr>\n",
       "    <tr>\n",
       "        <td>AN 0310</td>\n",
       "        <td>Asian Studies Seminar</td>\n",
       "        <td>AN</td>\n",
       "        <td>Asian Studies</td>\n",
       "    </tr>\n",
       "    <tr>\n",
       "        <td>BU 0211</td>\n",
       "        <td>Legal Environment of Business</td>\n",
       "        <td>BU</td>\n",
       "        <td>Business</td>\n",
       "    </tr>\n",
       "    <tr>\n",
       "        <td>BU 0220</td>\n",
       "        <td>Environmental Law and Policy</td>\n",
       "        <td>BU</td>\n",
       "        <td>Business</td>\n",
       "    </tr>\n",
       "    <tr>\n",
       "        <td>BU 0311</td>\n",
       "        <td>The Law of Contracts, Sales, and Property</td>\n",
       "        <td>BU</td>\n",
       "        <td>Business</td>\n",
       "    </tr>\n",
       "</table>"
      ],
      "text/plain": [
       "[('AN 0301', 'Independent Study', 'AN', 'Asian Studies'),\n",
       " ('AN 0310', 'Asian Studies Seminar', 'AN', 'Asian Studies'),\n",
       " ('BU 0211', 'Legal Environment of Business', 'BU', 'Business'),\n",
       " ('BU 0220', 'Environmental Law and Policy', 'BU', 'Business'),\n",
       " ('BU 0311', 'The Law of Contracts, Sales, and Property', 'BU', 'Business')]"
      ]
     },
     "execution_count": 20,
     "metadata": {},
     "output_type": "execute_result"
    }
   ],
   "source": [
    "%%sql\n",
    "--Does Catalog_ID make sense with Program_Code & Program_Name?\n",
    "SELECT catalog_ID,Course_Title,program_code,program_name\n",
    "FROM COURSES\n",
    "    LEFT JOIN PROGRAMS USING (program_id)\n",
    "    LIMIT 5;"
   ]
  },
  {
   "cell_type": "markdown",
   "metadata": {},
   "source": [
    "# Check that Professor Lane teaches Economics classes"
   ]
  },
  {
   "cell_type": "code",
   "execution_count": 49,
   "metadata": {},
   "outputs": [
    {
     "name": "stdout",
     "output_type": "stream",
     "text": [
      " * sqlite:///CourseData.db\n",
      "Done.\n"
     ]
    },
    {
     "data": {
      "text/html": [
       "<table>\n",
       "    <tr>\n",
       "        <th>Name</th>\n",
       "        <th>Title</th>\n",
       "        <th>Section</th>\n",
       "        <th>Term</th>\n",
       "    </tr>\n",
       "    <tr>\n",
       "        <td>Philip J.  Lane</td>\n",
       "        <td>Introduction to Microeconomics</td>\n",
       "        <td>C</td>\n",
       "        <td>Fall2014</td>\n",
       "    </tr>\n",
       "    <tr>\n",
       "        <td>Philip J.  Lane</td>\n",
       "        <td>Money and Banking</td>\n",
       "        <td>A</td>\n",
       "        <td>Fall2014</td>\n",
       "    </tr>\n",
       "    <tr>\n",
       "        <td>Philip J.  Lane</td>\n",
       "        <td>Independent Study-  201409</td>\n",
       "        <td>A</td>\n",
       "        <td>Fall2014</td>\n",
       "    </tr>\n",
       "    <tr>\n",
       "        <td>Philip J.  Lane</td>\n",
       "        <td>Internship-201409</td>\n",
       "        <td>A</td>\n",
       "        <td>Fall2014</td>\n",
       "    </tr>\n",
       "    <tr>\n",
       "        <td>Philip J.  Lane</td>\n",
       "        <td>Senior Seminar</td>\n",
       "        <td>A</td>\n",
       "        <td>Fall2014</td>\n",
       "    </tr>\n",
       "    <tr>\n",
       "        <td>Philip J.  Lane</td>\n",
       "        <td>Introduction to Microeconomics</td>\n",
       "        <td>C02</td>\n",
       "        <td>Fall2015</td>\n",
       "    </tr>\n",
       "    <tr>\n",
       "        <td>Philip J.  Lane</td>\n",
       "        <td>Money and Banking</td>\n",
       "        <td>A</td>\n",
       "        <td>Fall2015</td>\n",
       "    </tr>\n",
       "    <tr>\n",
       "        <td>Philip J.  Lane</td>\n",
       "        <td>Independent Study</td>\n",
       "        <td>PL</td>\n",
       "        <td>Fall2015</td>\n",
       "    </tr>\n",
       "    <tr>\n",
       "        <td>Philip J.  Lane</td>\n",
       "        <td>Internship</td>\n",
       "        <td>A</td>\n",
       "        <td>Fall2015</td>\n",
       "    </tr>\n",
       "    <tr>\n",
       "        <td>Philip J.  Lane</td>\n",
       "        <td>Senior Seminar</td>\n",
       "        <td>A</td>\n",
       "        <td>Fall2015</td>\n",
       "    </tr>\n",
       "    <tr>\n",
       "        <td>Philip J.  Lane</td>\n",
       "        <td>Introduction to Microeconomics</td>\n",
       "        <td>03C</td>\n",
       "        <td>Fall2016</td>\n",
       "    </tr>\n",
       "    <tr>\n",
       "        <td>Philip J.  Lane</td>\n",
       "        <td>Money and Banking</td>\n",
       "        <td>01</td>\n",
       "        <td>Fall2016</td>\n",
       "    </tr>\n",
       "    <tr>\n",
       "        <td>Philip J.  Lane</td>\n",
       "        <td>Independent Study</td>\n",
       "        <td>PL</td>\n",
       "        <td>Fall2016</td>\n",
       "    </tr>\n",
       "    <tr>\n",
       "        <td>Philip J.  Lane</td>\n",
       "        <td>Internship</td>\n",
       "        <td>01</td>\n",
       "        <td>Fall2016</td>\n",
       "    </tr>\n",
       "    <tr>\n",
       "        <td>Philip J.  Lane</td>\n",
       "        <td>Senior Seminar</td>\n",
       "        <td>01</td>\n",
       "        <td>Fall2016</td>\n",
       "    </tr>\n",
       "    <tr>\n",
       "        <td>Philip J.  Lane</td>\n",
       "        <td>Internship</td>\n",
       "        <td>PL</td>\n",
       "        <td>Fall2016</td>\n",
       "    </tr>\n",
       "    <tr>\n",
       "        <td>Philip J.  Lane</td>\n",
       "        <td>Introduction to Microeconomics</td>\n",
       "        <td>03C</td>\n",
       "        <td>Fall2017</td>\n",
       "    </tr>\n",
       "    <tr>\n",
       "        <td>Philip J.  Lane</td>\n",
       "        <td>Money and Banking</td>\n",
       "        <td>01</td>\n",
       "        <td>Fall2017</td>\n",
       "    </tr>\n",
       "    <tr>\n",
       "        <td>Philip J.  Lane</td>\n",
       "        <td>Independent Study</td>\n",
       "        <td>PL</td>\n",
       "        <td>Fall2017</td>\n",
       "    </tr>\n",
       "    <tr>\n",
       "        <td>Philip J.  Lane</td>\n",
       "        <td>Internship</td>\n",
       "        <td>01</td>\n",
       "        <td>Fall2017</td>\n",
       "    </tr>\n",
       "    <tr>\n",
       "        <td>Philip J.  Lane</td>\n",
       "        <td>Macroeconomics Seminar</td>\n",
       "        <td>01</td>\n",
       "        <td>Fall2017</td>\n",
       "    </tr>\n",
       "    <tr>\n",
       "        <td>Philip J.  Lane</td>\n",
       "        <td>Introduction to Microeconomics</td>\n",
       "        <td>03C</td>\n",
       "        <td>Fall2018</td>\n",
       "    </tr>\n",
       "    <tr>\n",
       "        <td>Philip J.  Lane</td>\n",
       "        <td>Money and Banking</td>\n",
       "        <td>01</td>\n",
       "        <td>Fall2018</td>\n",
       "    </tr>\n",
       "    <tr>\n",
       "        <td>Philip J.  Lane</td>\n",
       "        <td>Internship</td>\n",
       "        <td>01</td>\n",
       "        <td>Fall2018</td>\n",
       "    </tr>\n",
       "    <tr>\n",
       "        <td>Philip J.  Lane</td>\n",
       "        <td>Macroeconomics Seminar</td>\n",
       "        <td>01</td>\n",
       "        <td>Fall2018</td>\n",
       "    </tr>\n",
       "    <tr>\n",
       "        <td>Philip J.  Lane</td>\n",
       "        <td>Introduction to Macroeconomics</td>\n",
       "        <td>S</td>\n",
       "        <td>Spring2015</td>\n",
       "    </tr>\n",
       "    <tr>\n",
       "        <td>Philip J.  Lane</td>\n",
       "        <td>Intermediate Macroeconomic Theory</td>\n",
       "        <td>A</td>\n",
       "        <td>Spring2015</td>\n",
       "    </tr>\n",
       "    <tr>\n",
       "        <td>Philip J.  Lane</td>\n",
       "        <td>Intermediate Macroeconomic Theory</td>\n",
       "        <td>B</td>\n",
       "        <td>Spring2015</td>\n",
       "    </tr>\n",
       "    <tr>\n",
       "        <td>Philip J.  Lane</td>\n",
       "        <td>Intermediate Macroeconomic Theory Lab</td>\n",
       "        <td>C</td>\n",
       "        <td>Spring2015</td>\n",
       "    </tr>\n",
       "    <tr>\n",
       "        <td>Philip J.  Lane</td>\n",
       "        <td>Independent Study</td>\n",
       "        <td>PL</td>\n",
       "        <td>Spring2015</td>\n",
       "    </tr>\n",
       "    <tr>\n",
       "        <td>Philip J.  Lane</td>\n",
       "        <td>Internship</td>\n",
       "        <td>A</td>\n",
       "        <td>Spring2015</td>\n",
       "    </tr>\n",
       "    <tr>\n",
       "        <td>Philip J.  Lane</td>\n",
       "        <td>Financial Markets and Institutions</td>\n",
       "        <td>A</td>\n",
       "        <td>Spring2015</td>\n",
       "    </tr>\n",
       "    <tr>\n",
       "        <td>Philip J.  Lane</td>\n",
       "        <td>Independent Study</td>\n",
       "        <td>PL</td>\n",
       "        <td>Spring2016</td>\n",
       "    </tr>\n",
       "    <tr>\n",
       "        <td>Philip J.  Lane</td>\n",
       "        <td>Introduction to Macroeconomics</td>\n",
       "        <td>O</td>\n",
       "        <td>Spring2016</td>\n",
       "    </tr>\n",
       "    <tr>\n",
       "        <td>Philip J.  Lane</td>\n",
       "        <td>Intermediate Macroeconomic Theory</td>\n",
       "        <td>A</td>\n",
       "        <td>Spring2016</td>\n",
       "    </tr>\n",
       "    <tr>\n",
       "        <td>Philip J.  Lane</td>\n",
       "        <td>Intermediate Macroeconomic Theory</td>\n",
       "        <td>B</td>\n",
       "        <td>Spring2016</td>\n",
       "    </tr>\n",
       "    <tr>\n",
       "        <td>Philip J.  Lane</td>\n",
       "        <td>Intermediate Macroeconomic Theory Lab</td>\n",
       "        <td>A</td>\n",
       "        <td>Spring2016</td>\n",
       "    </tr>\n",
       "    <tr>\n",
       "        <td>Philip J.  Lane</td>\n",
       "        <td>Independent Study</td>\n",
       "        <td>PL</td>\n",
       "        <td>Spring2016</td>\n",
       "    </tr>\n",
       "    <tr>\n",
       "        <td>Philip J.  Lane</td>\n",
       "        <td>Internship</td>\n",
       "        <td>PL</td>\n",
       "        <td>Spring2016</td>\n",
       "    </tr>\n",
       "    <tr>\n",
       "        <td>Philip J.  Lane</td>\n",
       "        <td>Financial Markets and Institutions</td>\n",
       "        <td>A</td>\n",
       "        <td>Spring2016</td>\n",
       "    </tr>\n",
       "    <tr>\n",
       "        <td>Philip J.  Lane</td>\n",
       "        <td>Introduction to Macroeconomics</td>\n",
       "        <td>14</td>\n",
       "        <td>Spring2017</td>\n",
       "    </tr>\n",
       "    <tr>\n",
       "        <td>Philip J.  Lane</td>\n",
       "        <td>Introduction to Macroeconomics</td>\n",
       "        <td>17</td>\n",
       "        <td>Spring2017</td>\n",
       "    </tr>\n",
       "    <tr>\n",
       "        <td>Philip J.  Lane</td>\n",
       "        <td>Independent Study</td>\n",
       "        <td>PL</td>\n",
       "        <td>Spring2017</td>\n",
       "    </tr>\n",
       "    <tr>\n",
       "        <td>Philip J.  Lane</td>\n",
       "        <td>Internship</td>\n",
       "        <td>01</td>\n",
       "        <td>Spring2017</td>\n",
       "    </tr>\n",
       "    <tr>\n",
       "        <td>Philip J.  Lane</td>\n",
       "        <td>Financial Markets and Institutions</td>\n",
       "        <td>01</td>\n",
       "        <td>Spring2017</td>\n",
       "    </tr>\n",
       "    <tr>\n",
       "        <td>Philip J.  Lane</td>\n",
       "        <td>Introduction to Macroeconomics</td>\n",
       "        <td>11</td>\n",
       "        <td>Spring2018</td>\n",
       "    </tr>\n",
       "    <tr>\n",
       "        <td>Philip J.  Lane</td>\n",
       "        <td>Introduction to Macroeconomics</td>\n",
       "        <td>14</td>\n",
       "        <td>Spring2018</td>\n",
       "    </tr>\n",
       "    <tr>\n",
       "        <td>Philip J.  Lane</td>\n",
       "        <td>Introduction to Macroeconomics</td>\n",
       "        <td>15</td>\n",
       "        <td>Spring2018</td>\n",
       "    </tr>\n",
       "    <tr>\n",
       "        <td>Philip J.  Lane</td>\n",
       "        <td>Independent Study</td>\n",
       "        <td>PL</td>\n",
       "        <td>Spring2018</td>\n",
       "    </tr>\n",
       "    <tr>\n",
       "        <td>Philip J.  Lane</td>\n",
       "        <td>Financial Markets and Institutions</td>\n",
       "        <td>01</td>\n",
       "        <td>Spring2018</td>\n",
       "    </tr>\n",
       "    <tr>\n",
       "        <td>Philip J.  Lane</td>\n",
       "        <td>Independent Study</td>\n",
       "        <td>PL</td>\n",
       "        <td>Spring2019</td>\n",
       "    </tr>\n",
       "    <tr>\n",
       "        <td>Philip J.  Lane</td>\n",
       "        <td>Introduction to Microeconomics</td>\n",
       "        <td>A</td>\n",
       "        <td>Summer2015</td>\n",
       "    </tr>\n",
       "    <tr>\n",
       "        <td>Philip J.  Lane</td>\n",
       "        <td>Introduction to Macroeconomics</td>\n",
       "        <td>A</td>\n",
       "        <td>Summer2015</td>\n",
       "    </tr>\n",
       "    <tr>\n",
       "        <td>Philip J.  Lane</td>\n",
       "        <td>Money and Banking</td>\n",
       "        <td>A</td>\n",
       "        <td>Summer2015</td>\n",
       "    </tr>\n",
       "    <tr>\n",
       "        <td>Philip J.  Lane</td>\n",
       "        <td>Global Financial Markets and Institutions</td>\n",
       "        <td>01</td>\n",
       "        <td>Summer2015</td>\n",
       "    </tr>\n",
       "    <tr>\n",
       "        <td>Philip J.  Lane</td>\n",
       "        <td>Introduction to Macroeconomics</td>\n",
       "        <td>01</td>\n",
       "        <td>Summer2016</td>\n",
       "    </tr>\n",
       "    <tr>\n",
       "        <td>Philip J.  Lane</td>\n",
       "        <td>Global Financial Markets and Institutions</td>\n",
       "        <td>01</td>\n",
       "        <td>Summer2016</td>\n",
       "    </tr>\n",
       "    <tr>\n",
       "        <td>Philip J.  Lane</td>\n",
       "        <td>Introduction to Microeconomics</td>\n",
       "        <td>01</td>\n",
       "        <td>Summer2017</td>\n",
       "    </tr>\n",
       "    <tr>\n",
       "        <td>Philip J.  Lane</td>\n",
       "        <td>Global Financial Markets and Institutions</td>\n",
       "        <td>01</td>\n",
       "        <td>Summer2017</td>\n",
       "    </tr>\n",
       "    <tr>\n",
       "        <td>Philip J.  Lane</td>\n",
       "        <td>Introduction to Microeconomics</td>\n",
       "        <td>01</td>\n",
       "        <td>Summer2018</td>\n",
       "    </tr>\n",
       "    <tr>\n",
       "        <td>Philip J.  Lane</td>\n",
       "        <td>Global Financial Markets and Institutions</td>\n",
       "        <td>01</td>\n",
       "        <td>Summer2018</td>\n",
       "    </tr>\n",
       "</table>"
      ],
      "text/plain": [
       "[('Philip J.  Lane', 'Introduction to Microeconomics', 'C', 'Fall2014'),\n",
       " ('Philip J.  Lane', 'Money and Banking', 'A', 'Fall2014'),\n",
       " ('Philip J.  Lane', 'Independent Study-  201409', 'A', 'Fall2014'),\n",
       " ('Philip J.  Lane', 'Internship-201409', 'A', 'Fall2014'),\n",
       " ('Philip J.  Lane', 'Senior Seminar', 'A', 'Fall2014'),\n",
       " ('Philip J.  Lane', 'Introduction to Microeconomics', 'C02', 'Fall2015'),\n",
       " ('Philip J.  Lane', 'Money and Banking', 'A', 'Fall2015'),\n",
       " ('Philip J.  Lane', 'Independent Study', 'PL', 'Fall2015'),\n",
       " ('Philip J.  Lane', 'Internship', 'A', 'Fall2015'),\n",
       " ('Philip J.  Lane', 'Senior Seminar', 'A', 'Fall2015'),\n",
       " ('Philip J.  Lane', 'Introduction to Microeconomics', '03C', 'Fall2016'),\n",
       " ('Philip J.  Lane', 'Money and Banking', '01', 'Fall2016'),\n",
       " ('Philip J.  Lane', 'Independent Study', 'PL', 'Fall2016'),\n",
       " ('Philip J.  Lane', 'Internship', '01', 'Fall2016'),\n",
       " ('Philip J.  Lane', 'Senior Seminar', '01', 'Fall2016'),\n",
       " ('Philip J.  Lane', 'Internship', 'PL', 'Fall2016'),\n",
       " ('Philip J.  Lane', 'Introduction to Microeconomics', '03C', 'Fall2017'),\n",
       " ('Philip J.  Lane', 'Money and Banking', '01', 'Fall2017'),\n",
       " ('Philip J.  Lane', 'Independent Study', 'PL', 'Fall2017'),\n",
       " ('Philip J.  Lane', 'Internship', '01', 'Fall2017'),\n",
       " ('Philip J.  Lane', 'Macroeconomics Seminar', '01', 'Fall2017'),\n",
       " ('Philip J.  Lane', 'Introduction to Microeconomics', '03C', 'Fall2018'),\n",
       " ('Philip J.  Lane', 'Money and Banking', '01', 'Fall2018'),\n",
       " ('Philip J.  Lane', 'Internship', '01', 'Fall2018'),\n",
       " ('Philip J.  Lane', 'Macroeconomics Seminar', '01', 'Fall2018'),\n",
       " ('Philip J.  Lane', 'Introduction to Macroeconomics', 'S', 'Spring2015'),\n",
       " ('Philip J.  Lane', 'Intermediate Macroeconomic Theory', 'A', 'Spring2015'),\n",
       " ('Philip J.  Lane', 'Intermediate Macroeconomic Theory', 'B', 'Spring2015'),\n",
       " ('Philip J.  Lane', 'Intermediate Macroeconomic Theory Lab', 'C', 'Spring2015'),\n",
       " ('Philip J.  Lane', 'Independent Study', 'PL', 'Spring2015'),\n",
       " ('Philip J.  Lane', 'Internship', 'A', 'Spring2015'),\n",
       " ('Philip J.  Lane', 'Financial Markets and Institutions', 'A', 'Spring2015'),\n",
       " ('Philip J.  Lane', 'Independent Study', 'PL', 'Spring2016'),\n",
       " ('Philip J.  Lane', 'Introduction to Macroeconomics', 'O', 'Spring2016'),\n",
       " ('Philip J.  Lane', 'Intermediate Macroeconomic Theory', 'A', 'Spring2016'),\n",
       " ('Philip J.  Lane', 'Intermediate Macroeconomic Theory', 'B', 'Spring2016'),\n",
       " ('Philip J.  Lane', 'Intermediate Macroeconomic Theory Lab', 'A', 'Spring2016'),\n",
       " ('Philip J.  Lane', 'Independent Study', 'PL', 'Spring2016'),\n",
       " ('Philip J.  Lane', 'Internship', 'PL', 'Spring2016'),\n",
       " ('Philip J.  Lane', 'Financial Markets and Institutions', 'A', 'Spring2016'),\n",
       " ('Philip J.  Lane', 'Introduction to Macroeconomics', '14', 'Spring2017'),\n",
       " ('Philip J.  Lane', 'Introduction to Macroeconomics', '17', 'Spring2017'),\n",
       " ('Philip J.  Lane', 'Independent Study', 'PL', 'Spring2017'),\n",
       " ('Philip J.  Lane', 'Internship', '01', 'Spring2017'),\n",
       " ('Philip J.  Lane', 'Financial Markets and Institutions', '01', 'Spring2017'),\n",
       " ('Philip J.  Lane', 'Introduction to Macroeconomics', '11', 'Spring2018'),\n",
       " ('Philip J.  Lane', 'Introduction to Macroeconomics', '14', 'Spring2018'),\n",
       " ('Philip J.  Lane', 'Introduction to Macroeconomics', '15', 'Spring2018'),\n",
       " ('Philip J.  Lane', 'Independent Study', 'PL', 'Spring2018'),\n",
       " ('Philip J.  Lane', 'Financial Markets and Institutions', '01', 'Spring2018'),\n",
       " ('Philip J.  Lane', 'Independent Study', 'PL', 'Spring2019'),\n",
       " ('Philip J.  Lane', 'Introduction to Microeconomics', 'A', 'Summer2015'),\n",
       " ('Philip J.  Lane', 'Introduction to Macroeconomics', 'A', 'Summer2015'),\n",
       " ('Philip J.  Lane', 'Money and Banking', 'A', 'Summer2015'),\n",
       " ('Philip J.  Lane', 'Global Financial Markets and Institutions', '01', 'Summer2015'),\n",
       " ('Philip J.  Lane', 'Introduction to Macroeconomics', '01', 'Summer2016'),\n",
       " ('Philip J.  Lane', 'Global Financial Markets and Institutions', '01', 'Summer2016'),\n",
       " ('Philip J.  Lane', 'Introduction to Microeconomics', '01', 'Summer2017'),\n",
       " ('Philip J.  Lane', 'Global Financial Markets and Institutions', '01', 'Summer2017'),\n",
       " ('Philip J.  Lane', 'Introduction to Microeconomics', '01', 'Summer2018'),\n",
       " ('Philip J.  Lane', 'Global Financial Markets and Institutions', '01', 'Summer2018')]"
      ]
     },
     "execution_count": 49,
     "metadata": {},
     "output_type": "execute_result"
    }
   ],
   "source": [
    "%%sql\n",
    "SELECT Name,Title,Section,Term\n",
    "FROM PROFESSORS\n",
    "    JOIN COURSE_OFFERINGS USING (professor_ID)\n",
    "    WHERE Name LIKE '%Lane%'\n",
    "    ORDER BY Term;\n",
    "    "
   ]
  },
  {
   "cell_type": "markdown",
   "metadata": {},
   "source": [
    "# Check that Title and Course_Title are the same"
   ]
  },
  {
   "cell_type": "code",
   "execution_count": 50,
   "metadata": {},
   "outputs": [
    {
     "name": "stdout",
     "output_type": "stream",
     "text": [
      " * sqlite:///CourseData.db\n",
      "Done.\n"
     ]
    },
    {
     "data": {
      "text/html": [
       "<table>\n",
       "    <tr>\n",
       "        <th>Crn</th>\n",
       "        <th>Term</th>\n",
       "        <th>Title</th>\n",
       "        <th>Catalog_id</th>\n",
       "        <th>Course_title</th>\n",
       "    </tr>\n",
       "    <tr>\n",
       "        <td>71188</td>\n",
       "        <td>Fall2017</td>\n",
       "        <td>Introduction to Financial Accounting</td>\n",
       "        <td>AC 0011</td>\n",
       "        <td>Introduction to Financial Accounting</td>\n",
       "    </tr>\n",
       "    <tr>\n",
       "        <td>71205</td>\n",
       "        <td>Fall2017</td>\n",
       "        <td>Introduction to Financial Accounting</td>\n",
       "        <td>AC 0011</td>\n",
       "        <td>Introduction to Financial Accounting</td>\n",
       "    </tr>\n",
       "    <tr>\n",
       "        <td>71206</td>\n",
       "        <td>Fall2017</td>\n",
       "        <td>Introduction to Financial Accounting</td>\n",
       "        <td>AC 0011</td>\n",
       "        <td>Introduction to Financial Accounting</td>\n",
       "    </tr>\n",
       "    <tr>\n",
       "        <td>71207</td>\n",
       "        <td>Fall2017</td>\n",
       "        <td>Introduction to Financial Accounting</td>\n",
       "        <td>AC 0011</td>\n",
       "        <td>Introduction to Financial Accounting</td>\n",
       "    </tr>\n",
       "    <tr>\n",
       "        <td>71208</td>\n",
       "        <td>Fall2017</td>\n",
       "        <td>Introduction to Financial Accounting</td>\n",
       "        <td>AC 0011</td>\n",
       "        <td>Introduction to Financial Accounting</td>\n",
       "    </tr>\n",
       "    <tr>\n",
       "        <td>71209</td>\n",
       "        <td>Fall2017</td>\n",
       "        <td>Introduction to Financial Accounting</td>\n",
       "        <td>AC 0011</td>\n",
       "        <td>Introduction to Financial Accounting</td>\n",
       "    </tr>\n",
       "    <tr>\n",
       "        <td>71371</td>\n",
       "        <td>Fall2017</td>\n",
       "        <td>Introduction to Financial Accounting</td>\n",
       "        <td>AC 0011</td>\n",
       "        <td>Introduction to Financial Accounting</td>\n",
       "    </tr>\n",
       "    <tr>\n",
       "        <td>71384</td>\n",
       "        <td>Fall2017</td>\n",
       "        <td>Introduction to Financial Accounting</td>\n",
       "        <td>AC 0011</td>\n",
       "        <td>Introduction to Financial Accounting</td>\n",
       "    </tr>\n",
       "    <tr>\n",
       "        <td>71572</td>\n",
       "        <td>Fall2017</td>\n",
       "        <td>Introduction to Financial Accounting</td>\n",
       "        <td>AC 0011</td>\n",
       "        <td>Introduction to Financial Accounting</td>\n",
       "    </tr>\n",
       "    <tr>\n",
       "        <td>71804</td>\n",
       "        <td>Fall2017</td>\n",
       "        <td>Introduction to Financial Accounting</td>\n",
       "        <td>AC 0011</td>\n",
       "        <td>Introduction to Financial Accounting</td>\n",
       "    </tr>\n",
       "</table>"
      ],
      "text/plain": [
       "[('71188', 'Fall2017', 'Introduction to Financial Accounting', 'AC 0011', 'Introduction to Financial Accounting'),\n",
       " ('71205', 'Fall2017', 'Introduction to Financial Accounting', 'AC 0011', 'Introduction to Financial Accounting'),\n",
       " ('71206', 'Fall2017', 'Introduction to Financial Accounting', 'AC 0011', 'Introduction to Financial Accounting'),\n",
       " ('71207', 'Fall2017', 'Introduction to Financial Accounting', 'AC 0011', 'Introduction to Financial Accounting'),\n",
       " ('71208', 'Fall2017', 'Introduction to Financial Accounting', 'AC 0011', 'Introduction to Financial Accounting'),\n",
       " ('71209', 'Fall2017', 'Introduction to Financial Accounting', 'AC 0011', 'Introduction to Financial Accounting'),\n",
       " ('71371', 'Fall2017', 'Introduction to Financial Accounting', 'AC 0011', 'Introduction to Financial Accounting'),\n",
       " ('71384', 'Fall2017', 'Introduction to Financial Accounting', 'AC 0011', 'Introduction to Financial Accounting'),\n",
       " ('71572', 'Fall2017', 'Introduction to Financial Accounting', 'AC 0011', 'Introduction to Financial Accounting'),\n",
       " ('71804', 'Fall2017', 'Introduction to Financial Accounting', 'AC 0011', 'Introduction to Financial Accounting')]"
      ]
     },
     "execution_count": 50,
     "metadata": {},
     "output_type": "execute_result"
    }
   ],
   "source": [
    "%%sql\n",
    "SELECT Crn,Term,Title,COURSES.Catalog_ID,COURSES.Course_Title\n",
    "FROM COURSE_OFFERINGS\n",
    "     JOIN COURSES USING(course_ID)\n",
    "LIMIT 10;"
   ]
  },
  {
   "cell_type": "markdown",
   "metadata": {},
   "source": [
    "# Check that Day, Start, End match Meetings"
   ]
  },
  {
   "cell_type": "code",
   "execution_count": 52,
   "metadata": {},
   "outputs": [
    {
     "name": "stdout",
     "output_type": "stream",
     "text": [
      " * sqlite:///CourseData.db\n",
      "Done.\n"
     ]
    },
    {
     "data": {
      "text/html": [
       "<table>\n",
       "    <tr>\n",
       "        <th>Crn</th>\n",
       "        <th>Day</th>\n",
       "        <th>Start</th>\n",
       "        <th>End</th>\n",
       "        <th>Section</th>\n",
       "        <th>Meetings</th>\n",
       "    </tr>\n",
       "    <tr>\n",
       "        <td>70384</td>\n",
       "        <td>T</td>\n",
       "        <td>2014-09-02T08:00:00</td>\n",
       "        <td>2014-09-02T09:15:00</td>\n",
       "        <td>C01</td>\n",
       "        <td>[{&#x27;days&#x27;: &#x27;TF&#x27;, &#x27;times&#x27;: &#x27;0800am-0915am&#x27;, &#x27;dates&#x27;: &#x27;09/02-12/08&#x27;, &#x27;location&#x27;: &#x27;DSB 105&#x27;}]</td>\n",
       "    </tr>\n",
       "    <tr>\n",
       "        <td>70384</td>\n",
       "        <td>F</td>\n",
       "        <td>2014-09-05T08:00:00</td>\n",
       "        <td>2014-09-05T09:15:00</td>\n",
       "        <td>C01</td>\n",
       "        <td>[{&#x27;days&#x27;: &#x27;TF&#x27;, &#x27;times&#x27;: &#x27;0800am-0915am&#x27;, &#x27;dates&#x27;: &#x27;09/02-12/08&#x27;, &#x27;location&#x27;: &#x27;DSB 105&#x27;}]</td>\n",
       "    </tr>\n",
       "    <tr>\n",
       "        <td>70384</td>\n",
       "        <td>T</td>\n",
       "        <td>2014-09-09T08:00:00</td>\n",
       "        <td>2014-09-09T09:15:00</td>\n",
       "        <td>C01</td>\n",
       "        <td>[{&#x27;days&#x27;: &#x27;TF&#x27;, &#x27;times&#x27;: &#x27;0800am-0915am&#x27;, &#x27;dates&#x27;: &#x27;09/02-12/08&#x27;, &#x27;location&#x27;: &#x27;DSB 105&#x27;}]</td>\n",
       "    </tr>\n",
       "    <tr>\n",
       "        <td>70384</td>\n",
       "        <td>F</td>\n",
       "        <td>2014-09-12T08:00:00</td>\n",
       "        <td>2014-09-12T09:15:00</td>\n",
       "        <td>C01</td>\n",
       "        <td>[{&#x27;days&#x27;: &#x27;TF&#x27;, &#x27;times&#x27;: &#x27;0800am-0915am&#x27;, &#x27;dates&#x27;: &#x27;09/02-12/08&#x27;, &#x27;location&#x27;: &#x27;DSB 105&#x27;}]</td>\n",
       "    </tr>\n",
       "    <tr>\n",
       "        <td>70384</td>\n",
       "        <td>T</td>\n",
       "        <td>2014-09-16T08:00:00</td>\n",
       "        <td>2014-09-16T09:15:00</td>\n",
       "        <td>C01</td>\n",
       "        <td>[{&#x27;days&#x27;: &#x27;TF&#x27;, &#x27;times&#x27;: &#x27;0800am-0915am&#x27;, &#x27;dates&#x27;: &#x27;09/02-12/08&#x27;, &#x27;location&#x27;: &#x27;DSB 105&#x27;}]</td>\n",
       "    </tr>\n",
       "    <tr>\n",
       "        <td>70384</td>\n",
       "        <td>F</td>\n",
       "        <td>2014-09-19T08:00:00</td>\n",
       "        <td>2014-09-19T09:15:00</td>\n",
       "        <td>C01</td>\n",
       "        <td>[{&#x27;days&#x27;: &#x27;TF&#x27;, &#x27;times&#x27;: &#x27;0800am-0915am&#x27;, &#x27;dates&#x27;: &#x27;09/02-12/08&#x27;, &#x27;location&#x27;: &#x27;DSB 105&#x27;}]</td>\n",
       "    </tr>\n",
       "    <tr>\n",
       "        <td>70384</td>\n",
       "        <td>T</td>\n",
       "        <td>2014-09-23T08:00:00</td>\n",
       "        <td>2014-09-23T09:15:00</td>\n",
       "        <td>C01</td>\n",
       "        <td>[{&#x27;days&#x27;: &#x27;TF&#x27;, &#x27;times&#x27;: &#x27;0800am-0915am&#x27;, &#x27;dates&#x27;: &#x27;09/02-12/08&#x27;, &#x27;location&#x27;: &#x27;DSB 105&#x27;}]</td>\n",
       "    </tr>\n",
       "    <tr>\n",
       "        <td>70384</td>\n",
       "        <td>F</td>\n",
       "        <td>2014-09-26T08:00:00</td>\n",
       "        <td>2014-09-26T09:15:00</td>\n",
       "        <td>C01</td>\n",
       "        <td>[{&#x27;days&#x27;: &#x27;TF&#x27;, &#x27;times&#x27;: &#x27;0800am-0915am&#x27;, &#x27;dates&#x27;: &#x27;09/02-12/08&#x27;, &#x27;location&#x27;: &#x27;DSB 105&#x27;}]</td>\n",
       "    </tr>\n",
       "    <tr>\n",
       "        <td>70384</td>\n",
       "        <td>T</td>\n",
       "        <td>2014-09-30T08:00:00</td>\n",
       "        <td>2014-09-30T09:15:00</td>\n",
       "        <td>C01</td>\n",
       "        <td>[{&#x27;days&#x27;: &#x27;TF&#x27;, &#x27;times&#x27;: &#x27;0800am-0915am&#x27;, &#x27;dates&#x27;: &#x27;09/02-12/08&#x27;, &#x27;location&#x27;: &#x27;DSB 105&#x27;}]</td>\n",
       "    </tr>\n",
       "    <tr>\n",
       "        <td>70384</td>\n",
       "        <td>F</td>\n",
       "        <td>2014-10-03T08:00:00</td>\n",
       "        <td>2014-10-03T09:15:00</td>\n",
       "        <td>C01</td>\n",
       "        <td>[{&#x27;days&#x27;: &#x27;TF&#x27;, &#x27;times&#x27;: &#x27;0800am-0915am&#x27;, &#x27;dates&#x27;: &#x27;09/02-12/08&#x27;, &#x27;location&#x27;: &#x27;DSB 105&#x27;}]</td>\n",
       "    </tr>\n",
       "    <tr>\n",
       "        <td>70384</td>\n",
       "        <td>T</td>\n",
       "        <td>2014-10-07T08:00:00</td>\n",
       "        <td>2014-10-07T09:15:00</td>\n",
       "        <td>C01</td>\n",
       "        <td>[{&#x27;days&#x27;: &#x27;TF&#x27;, &#x27;times&#x27;: &#x27;0800am-0915am&#x27;, &#x27;dates&#x27;: &#x27;09/02-12/08&#x27;, &#x27;location&#x27;: &#x27;DSB 105&#x27;}]</td>\n",
       "    </tr>\n",
       "    <tr>\n",
       "        <td>70384</td>\n",
       "        <td>F</td>\n",
       "        <td>2014-10-10T08:00:00</td>\n",
       "        <td>2014-10-10T09:15:00</td>\n",
       "        <td>C01</td>\n",
       "        <td>[{&#x27;days&#x27;: &#x27;TF&#x27;, &#x27;times&#x27;: &#x27;0800am-0915am&#x27;, &#x27;dates&#x27;: &#x27;09/02-12/08&#x27;, &#x27;location&#x27;: &#x27;DSB 105&#x27;}]</td>\n",
       "    </tr>\n",
       "    <tr>\n",
       "        <td>70384</td>\n",
       "        <td>F</td>\n",
       "        <td>2014-10-17T08:00:00</td>\n",
       "        <td>2014-10-17T09:15:00</td>\n",
       "        <td>C01</td>\n",
       "        <td>[{&#x27;days&#x27;: &#x27;TF&#x27;, &#x27;times&#x27;: &#x27;0800am-0915am&#x27;, &#x27;dates&#x27;: &#x27;09/02-12/08&#x27;, &#x27;location&#x27;: &#x27;DSB 105&#x27;}]</td>\n",
       "    </tr>\n",
       "    <tr>\n",
       "        <td>70384</td>\n",
       "        <td>T</td>\n",
       "        <td>2014-10-21T08:00:00</td>\n",
       "        <td>2014-10-21T09:15:00</td>\n",
       "        <td>C01</td>\n",
       "        <td>[{&#x27;days&#x27;: &#x27;TF&#x27;, &#x27;times&#x27;: &#x27;0800am-0915am&#x27;, &#x27;dates&#x27;: &#x27;09/02-12/08&#x27;, &#x27;location&#x27;: &#x27;DSB 105&#x27;}]</td>\n",
       "    </tr>\n",
       "    <tr>\n",
       "        <td>70384</td>\n",
       "        <td>F</td>\n",
       "        <td>2014-10-24T08:00:00</td>\n",
       "        <td>2014-10-24T09:15:00</td>\n",
       "        <td>C01</td>\n",
       "        <td>[{&#x27;days&#x27;: &#x27;TF&#x27;, &#x27;times&#x27;: &#x27;0800am-0915am&#x27;, &#x27;dates&#x27;: &#x27;09/02-12/08&#x27;, &#x27;location&#x27;: &#x27;DSB 105&#x27;}]</td>\n",
       "    </tr>\n",
       "    <tr>\n",
       "        <td>70384</td>\n",
       "        <td>T</td>\n",
       "        <td>2014-10-28T08:00:00</td>\n",
       "        <td>2014-10-28T09:15:00</td>\n",
       "        <td>C01</td>\n",
       "        <td>[{&#x27;days&#x27;: &#x27;TF&#x27;, &#x27;times&#x27;: &#x27;0800am-0915am&#x27;, &#x27;dates&#x27;: &#x27;09/02-12/08&#x27;, &#x27;location&#x27;: &#x27;DSB 105&#x27;}]</td>\n",
       "    </tr>\n",
       "    <tr>\n",
       "        <td>70384</td>\n",
       "        <td>F</td>\n",
       "        <td>2014-10-31T08:00:00</td>\n",
       "        <td>2014-10-31T09:15:00</td>\n",
       "        <td>C01</td>\n",
       "        <td>[{&#x27;days&#x27;: &#x27;TF&#x27;, &#x27;times&#x27;: &#x27;0800am-0915am&#x27;, &#x27;dates&#x27;: &#x27;09/02-12/08&#x27;, &#x27;location&#x27;: &#x27;DSB 105&#x27;}]</td>\n",
       "    </tr>\n",
       "    <tr>\n",
       "        <td>70384</td>\n",
       "        <td>T</td>\n",
       "        <td>2014-11-04T08:00:00</td>\n",
       "        <td>2014-11-04T09:15:00</td>\n",
       "        <td>C01</td>\n",
       "        <td>[{&#x27;days&#x27;: &#x27;TF&#x27;, &#x27;times&#x27;: &#x27;0800am-0915am&#x27;, &#x27;dates&#x27;: &#x27;09/02-12/08&#x27;, &#x27;location&#x27;: &#x27;DSB 105&#x27;}]</td>\n",
       "    </tr>\n",
       "    <tr>\n",
       "        <td>70384</td>\n",
       "        <td>F</td>\n",
       "        <td>2014-11-07T08:00:00</td>\n",
       "        <td>2014-11-07T09:15:00</td>\n",
       "        <td>C01</td>\n",
       "        <td>[{&#x27;days&#x27;: &#x27;TF&#x27;, &#x27;times&#x27;: &#x27;0800am-0915am&#x27;, &#x27;dates&#x27;: &#x27;09/02-12/08&#x27;, &#x27;location&#x27;: &#x27;DSB 105&#x27;}]</td>\n",
       "    </tr>\n",
       "    <tr>\n",
       "        <td>70384</td>\n",
       "        <td>T</td>\n",
       "        <td>2014-11-11T08:00:00</td>\n",
       "        <td>2014-11-11T09:15:00</td>\n",
       "        <td>C01</td>\n",
       "        <td>[{&#x27;days&#x27;: &#x27;TF&#x27;, &#x27;times&#x27;: &#x27;0800am-0915am&#x27;, &#x27;dates&#x27;: &#x27;09/02-12/08&#x27;, &#x27;location&#x27;: &#x27;DSB 105&#x27;}]</td>\n",
       "    </tr>\n",
       "</table>"
      ],
      "text/plain": [
       "[('70384', 'T', '2014-09-02T08:00:00', '2014-09-02T09:15:00', 'C01', \"[{'days': 'TF', 'times': '0800am-0915am', 'dates': '09/02-12/08', 'location': 'DSB 105'}]\"),\n",
       " ('70384', 'F', '2014-09-05T08:00:00', '2014-09-05T09:15:00', 'C01', \"[{'days': 'TF', 'times': '0800am-0915am', 'dates': '09/02-12/08', 'location': 'DSB 105'}]\"),\n",
       " ('70384', 'T', '2014-09-09T08:00:00', '2014-09-09T09:15:00', 'C01', \"[{'days': 'TF', 'times': '0800am-0915am', 'dates': '09/02-12/08', 'location': 'DSB 105'}]\"),\n",
       " ('70384', 'F', '2014-09-12T08:00:00', '2014-09-12T09:15:00', 'C01', \"[{'days': 'TF', 'times': '0800am-0915am', 'dates': '09/02-12/08', 'location': 'DSB 105'}]\"),\n",
       " ('70384', 'T', '2014-09-16T08:00:00', '2014-09-16T09:15:00', 'C01', \"[{'days': 'TF', 'times': '0800am-0915am', 'dates': '09/02-12/08', 'location': 'DSB 105'}]\"),\n",
       " ('70384', 'F', '2014-09-19T08:00:00', '2014-09-19T09:15:00', 'C01', \"[{'days': 'TF', 'times': '0800am-0915am', 'dates': '09/02-12/08', 'location': 'DSB 105'}]\"),\n",
       " ('70384', 'T', '2014-09-23T08:00:00', '2014-09-23T09:15:00', 'C01', \"[{'days': 'TF', 'times': '0800am-0915am', 'dates': '09/02-12/08', 'location': 'DSB 105'}]\"),\n",
       " ('70384', 'F', '2014-09-26T08:00:00', '2014-09-26T09:15:00', 'C01', \"[{'days': 'TF', 'times': '0800am-0915am', 'dates': '09/02-12/08', 'location': 'DSB 105'}]\"),\n",
       " ('70384', 'T', '2014-09-30T08:00:00', '2014-09-30T09:15:00', 'C01', \"[{'days': 'TF', 'times': '0800am-0915am', 'dates': '09/02-12/08', 'location': 'DSB 105'}]\"),\n",
       " ('70384', 'F', '2014-10-03T08:00:00', '2014-10-03T09:15:00', 'C01', \"[{'days': 'TF', 'times': '0800am-0915am', 'dates': '09/02-12/08', 'location': 'DSB 105'}]\"),\n",
       " ('70384', 'T', '2014-10-07T08:00:00', '2014-10-07T09:15:00', 'C01', \"[{'days': 'TF', 'times': '0800am-0915am', 'dates': '09/02-12/08', 'location': 'DSB 105'}]\"),\n",
       " ('70384', 'F', '2014-10-10T08:00:00', '2014-10-10T09:15:00', 'C01', \"[{'days': 'TF', 'times': '0800am-0915am', 'dates': '09/02-12/08', 'location': 'DSB 105'}]\"),\n",
       " ('70384', 'F', '2014-10-17T08:00:00', '2014-10-17T09:15:00', 'C01', \"[{'days': 'TF', 'times': '0800am-0915am', 'dates': '09/02-12/08', 'location': 'DSB 105'}]\"),\n",
       " ('70384', 'T', '2014-10-21T08:00:00', '2014-10-21T09:15:00', 'C01', \"[{'days': 'TF', 'times': '0800am-0915am', 'dates': '09/02-12/08', 'location': 'DSB 105'}]\"),\n",
       " ('70384', 'F', '2014-10-24T08:00:00', '2014-10-24T09:15:00', 'C01', \"[{'days': 'TF', 'times': '0800am-0915am', 'dates': '09/02-12/08', 'location': 'DSB 105'}]\"),\n",
       " ('70384', 'T', '2014-10-28T08:00:00', '2014-10-28T09:15:00', 'C01', \"[{'days': 'TF', 'times': '0800am-0915am', 'dates': '09/02-12/08', 'location': 'DSB 105'}]\"),\n",
       " ('70384', 'F', '2014-10-31T08:00:00', '2014-10-31T09:15:00', 'C01', \"[{'days': 'TF', 'times': '0800am-0915am', 'dates': '09/02-12/08', 'location': 'DSB 105'}]\"),\n",
       " ('70384', 'T', '2014-11-04T08:00:00', '2014-11-04T09:15:00', 'C01', \"[{'days': 'TF', 'times': '0800am-0915am', 'dates': '09/02-12/08', 'location': 'DSB 105'}]\"),\n",
       " ('70384', 'F', '2014-11-07T08:00:00', '2014-11-07T09:15:00', 'C01', \"[{'days': 'TF', 'times': '0800am-0915am', 'dates': '09/02-12/08', 'location': 'DSB 105'}]\"),\n",
       " ('70384', 'T', '2014-11-11T08:00:00', '2014-11-11T09:15:00', 'C01', \"[{'days': 'TF', 'times': '0800am-0915am', 'dates': '09/02-12/08', 'location': 'DSB 105'}]\")]"
      ]
     },
     "execution_count": 52,
     "metadata": {},
     "output_type": "execute_result"
    }
   ],
   "source": [
    "%%sql\n",
    "SELECT COURSE_OFFERINGS.Crn,Day,Start,End,COURSE_OFFERINGS.Section,Meetings\n",
    "FROM MEETINGS\n",
    "    JOIN COURSE_OFFERINGS USING (Offering_ID)\n",
    "LIMIT 20;"
   ]
  },
  {
   "cell_type": "code",
   "execution_count": null,
   "metadata": {},
   "outputs": [],
   "source": []
  }
 ],
 "metadata": {
  "kernelspec": {
   "display_name": "Python 3",
   "language": "python",
   "name": "python3"
  },
  "language_info": {
   "codemirror_mode": {
    "name": "ipython",
    "version": 3
   },
   "file_extension": ".py",
   "mimetype": "text/x-python",
   "name": "python",
   "nbconvert_exporter": "python",
   "pygments_lexer": "ipython3",
   "version": "3.6.7"
  }
 },
 "nbformat": 4,
 "nbformat_minor": 4
}
