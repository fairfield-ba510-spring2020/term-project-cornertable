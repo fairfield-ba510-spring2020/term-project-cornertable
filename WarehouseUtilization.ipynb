{
 "cells": [
  {
   "cell_type": "markdown",
   "metadata": {},
   "source": [
    "# Data Warehouse Utilization"
   ]
  },
  {
   "cell_type": "code",
   "execution_count": 1,
   "metadata": {},
   "outputs": [],
   "source": [
    "%load_ext sql"
   ]
  },
  {
   "cell_type": "code",
   "execution_count": 2,
   "metadata": {},
   "outputs": [
    {
     "data": {
      "text/plain": [
       "'Connected: @CourseDataWarehouse.db'"
      ]
     },
     "execution_count": 2,
     "metadata": {},
     "output_type": "execute_result"
    }
   ],
   "source": [
    "%%sql\n",
    "sqlite:///CourseDataWarehouse.db"
   ]
  },
  {
   "cell_type": "markdown",
   "metadata": {},
   "source": [
    "## Which classroom is the most utilized?"
   ]
  },
  {
   "cell_type": "markdown",
   "metadata": {},
   "source": [
    "Problem- each location is only counted once... we can't count popularity with distinct values in our database.... ask Huntley or rework Q?"
   ]
  },
  {
   "cell_type": "code",
   "execution_count": 22,
   "metadata": {},
   "outputs": [
    {
     "name": "stdout",
     "output_type": "stream",
     "text": [
      " * sqlite:///CourseDataWarehouse.db\n",
      "Done.\n"
     ]
    },
    {
     "data": {
      "text/html": [
       "<table>\n",
       "    <tr>\n",
       "        <th>location</th>\n",
       "        <th>count</th>\n",
       "    </tr>\n",
       "    <tr>\n",
       "        <td>BCC 200</td>\n",
       "        <td>1</td>\n",
       "    </tr>\n",
       "    <tr>\n",
       "        <td>BD </td>\n",
       "        <td>1</td>\n",
       "    </tr>\n",
       "    <tr>\n",
       "        <td>BH </td>\n",
       "        <td>1</td>\n",
       "    </tr>\n",
       "    <tr>\n",
       "        <td>BH BY ARR</td>\n",
       "        <td>1</td>\n",
       "    </tr>\n",
       "    <tr>\n",
       "        <td>BLM 112</td>\n",
       "        <td>1</td>\n",
       "    </tr>\n",
       "    <tr>\n",
       "        <td>BLM LL105</td>\n",
       "        <td>1</td>\n",
       "    </tr>\n",
       "    <tr>\n",
       "        <td>BNW 124</td>\n",
       "        <td>1</td>\n",
       "    </tr>\n",
       "    <tr>\n",
       "        <td>BNW 127</td>\n",
       "        <td>1</td>\n",
       "    </tr>\n",
       "    <tr>\n",
       "        <td>BNW 128</td>\n",
       "        <td>1</td>\n",
       "    </tr>\n",
       "    <tr>\n",
       "        <td>BNW 129B</td>\n",
       "        <td>1</td>\n",
       "    </tr>\n",
       "</table>"
      ],
      "text/plain": [
       "[('BCC 200', 1),\n",
       " ('BD ', 1),\n",
       " ('BH ', 1),\n",
       " ('BH BY ARR', 1),\n",
       " ('BLM 112', 1),\n",
       " ('BLM LL105', 1),\n",
       " ('BNW 124', 1),\n",
       " ('BNW 127', 1),\n",
       " ('BNW 128', 1),\n",
       " ('BNW 129B', 1)]"
      ]
     },
     "execution_count": 22,
     "metadata": {},
     "output_type": "execute_result"
    }
   ],
   "source": [
    "%%sql\n",
    "SELECT location,COUNT(*) as count \n",
    "FROM LOCATIONS_DW \n",
    "GROUP BY location \n",
    "ORDER BY count DESC\n",
    "LIMIT 10;"
   ]
  },
  {
   "cell_type": "markdown",
   "metadata": {},
   "source": [
    "## Which classes go over capacity the most frequently?"
   ]
  },
  {
   "cell_type": "markdown",
   "metadata": {},
   "source": [
    "Problem- why are some professors teaching multiple sections of the same course? 6 sections of AC 0012 by same prof? check if accurate..."
   ]
  },
  {
   "cell_type": "code",
   "execution_count": 36,
   "metadata": {},
   "outputs": [
    {
     "name": "stdout",
     "output_type": "stream",
     "text": [
      " * sqlite:///CourseDataWarehouse.db\n",
      "Done.\n"
     ]
    },
    {
     "data": {
      "text/html": [
       "<table>\n",
       "    <tr>\n",
       "        <th>CatalogYear</th>\n",
       "        <th>Professor_id</th>\n",
       "        <th>Course_id</th>\n",
       "        <th>Catalog_id</th>\n",
       "        <th>Course_title</th>\n",
       "        <th>Timecodes</th>\n",
       "        <th>Cap</th>\n",
       "        <th>Actual</th>\n",
       "        <th>Remaining</th>\n",
       "    </tr>\n",
       "    <tr>\n",
       "        <td>2017_2018</td>\n",
       "        <td>2</td>\n",
       "        <td>135</td>\n",
       "        <td>AC 0012</td>\n",
       "        <td>Introduction to Management Accounting</td>\n",
       "        <td>[&#x27;MR 1100am-1215pm 01/16-05/01 DSB 108&#x27;]</td>\n",
       "        <td>25</td>\n",
       "        <td>27</td>\n",
       "        <td>-2</td>\n",
       "    </tr>\n",
       "    <tr>\n",
       "        <td>2017_2018</td>\n",
       "        <td>2</td>\n",
       "        <td>135</td>\n",
       "        <td>AC 0012</td>\n",
       "        <td>Introduction to Management Accounting</td>\n",
       "        <td>[&#x27;MR 1100am-1215pm 01/16-05/01 DSB 108&#x27;]</td>\n",
       "        <td>25</td>\n",
       "        <td>27</td>\n",
       "        <td>-2</td>\n",
       "    </tr>\n",
       "    <tr>\n",
       "        <td>2017_2018</td>\n",
       "        <td>2</td>\n",
       "        <td>135</td>\n",
       "        <td>AC 0012</td>\n",
       "        <td>Introduction to Management Accounting</td>\n",
       "        <td>[&#x27;MR 1100am-1215pm 01/16-05/01 DSB 108&#x27;]</td>\n",
       "        <td>25</td>\n",
       "        <td>27</td>\n",
       "        <td>-2</td>\n",
       "    </tr>\n",
       "    <tr>\n",
       "        <td>2017_2018</td>\n",
       "        <td>2</td>\n",
       "        <td>135</td>\n",
       "        <td>AC 0012</td>\n",
       "        <td>Introduction to Management Accounting</td>\n",
       "        <td>[&#x27;MR 1230pm-0145pm 01/16-05/01 DSB 108&#x27;]</td>\n",
       "        <td>25</td>\n",
       "        <td>29</td>\n",
       "        <td>-4</td>\n",
       "    </tr>\n",
       "    <tr>\n",
       "        <td>2017_2018</td>\n",
       "        <td>2</td>\n",
       "        <td>135</td>\n",
       "        <td>AC 0012</td>\n",
       "        <td>Introduction to Management Accounting</td>\n",
       "        <td>[&#x27;MR 1230pm-0145pm 01/16-05/01 DSB 108&#x27;]</td>\n",
       "        <td>25</td>\n",
       "        <td>29</td>\n",
       "        <td>-4</td>\n",
       "    </tr>\n",
       "    <tr>\n",
       "        <td>2017_2018</td>\n",
       "        <td>2</td>\n",
       "        <td>135</td>\n",
       "        <td>AC 0012</td>\n",
       "        <td>Introduction to Management Accounting</td>\n",
       "        <td>[&#x27;MR 1230pm-0145pm 01/16-05/01 DSB 108&#x27;]</td>\n",
       "        <td>25</td>\n",
       "        <td>29</td>\n",
       "        <td>-4</td>\n",
       "    </tr>\n",
       "    <tr>\n",
       "        <td>2017_2018</td>\n",
       "        <td>3</td>\n",
       "        <td>161</td>\n",
       "        <td>AC 0330</td>\n",
       "        <td>Auditing</td>\n",
       "        <td>[&#x27;MR 0200pm-0315pm 09/05-12/11 DSB 112&#x27;]</td>\n",
       "        <td>26</td>\n",
       "        <td>27</td>\n",
       "        <td>-1</td>\n",
       "    </tr>\n",
       "    <tr>\n",
       "        <td>2017_2018</td>\n",
       "        <td>3</td>\n",
       "        <td>161</td>\n",
       "        <td>AC 0330</td>\n",
       "        <td>Auditing</td>\n",
       "        <td>[&#x27;MR 0200pm-0315pm 09/05-12/11 DSB 112&#x27;]</td>\n",
       "        <td>26</td>\n",
       "        <td>27</td>\n",
       "        <td>-1</td>\n",
       "    </tr>\n",
       "    <tr>\n",
       "        <td>2017_2018</td>\n",
       "        <td>3</td>\n",
       "        <td>161</td>\n",
       "        <td>AC 0330</td>\n",
       "        <td>Auditing</td>\n",
       "        <td>[&#x27;MR 0330pm-0445pm 09/05-12/11 DSB 112&#x27;]</td>\n",
       "        <td>26</td>\n",
       "        <td>27</td>\n",
       "        <td>-1</td>\n",
       "    </tr>\n",
       "    <tr>\n",
       "        <td>2017_2018</td>\n",
       "        <td>3</td>\n",
       "        <td>161</td>\n",
       "        <td>AC 0330</td>\n",
       "        <td>Auditing</td>\n",
       "        <td>[&#x27;MR 0330pm-0445pm 09/05-12/11 DSB 112&#x27;]</td>\n",
       "        <td>26</td>\n",
       "        <td>27</td>\n",
       "        <td>-1</td>\n",
       "    </tr>\n",
       "</table>"
      ],
      "text/plain": [
       "[('2017_2018', 2, 135, 'AC 0012', 'Introduction to Management Accounting', \"['MR 1100am-1215pm 01/16-05/01 DSB 108']\", 25, 27, -2),\n",
       " ('2017_2018', 2, 135, 'AC 0012', 'Introduction to Management Accounting', \"['MR 1100am-1215pm 01/16-05/01 DSB 108']\", 25, 27, -2),\n",
       " ('2017_2018', 2, 135, 'AC 0012', 'Introduction to Management Accounting', \"['MR 1100am-1215pm 01/16-05/01 DSB 108']\", 25, 27, -2),\n",
       " ('2017_2018', 2, 135, 'AC 0012', 'Introduction to Management Accounting', \"['MR 1230pm-0145pm 01/16-05/01 DSB 108']\", 25, 29, -4),\n",
       " ('2017_2018', 2, 135, 'AC 0012', 'Introduction to Management Accounting', \"['MR 1230pm-0145pm 01/16-05/01 DSB 108']\", 25, 29, -4),\n",
       " ('2017_2018', 2, 135, 'AC 0012', 'Introduction to Management Accounting', \"['MR 1230pm-0145pm 01/16-05/01 DSB 108']\", 25, 29, -4),\n",
       " ('2017_2018', 3, 161, 'AC 0330', 'Auditing', \"['MR 0200pm-0315pm 09/05-12/11 DSB 112']\", 26, 27, -1),\n",
       " ('2017_2018', 3, 161, 'AC 0330', 'Auditing', \"['MR 0200pm-0315pm 09/05-12/11 DSB 112']\", 26, 27, -1),\n",
       " ('2017_2018', 3, 161, 'AC 0330', 'Auditing', \"['MR 0330pm-0445pm 09/05-12/11 DSB 112']\", 26, 27, -1),\n",
       " ('2017_2018', 3, 161, 'AC 0330', 'Auditing', \"['MR 0330pm-0445pm 09/05-12/11 DSB 112']\", 26, 27, -1)]"
      ]
     },
     "execution_count": 36,
     "metadata": {},
     "output_type": "execute_result"
    }
   ],
   "source": [
    "%%sql\n",
    "SELECT COURSES_DW.CatalogYear, professor_id, COURSES_DW.Course_id, Catalog_id, Course_title, Timecodes, Cap, Actual, Remaining\n",
    "FROM COURSES_DW    \n",
    "    JOIN CLASS_FACTS_DW USING (course_id)\n",
    "    JOIN TIMECODES_DW USING(Timecode_id)\n",
    "    WHERE Remaining < 0 AND Cap != 0\n",
    "    --GROUP BY course_title\n",
    "    ORDER BY professor_id\n",
    "    LIMIT 10;"
   ]
  },
  {
   "cell_type": "code",
   "execution_count": null,
   "metadata": {},
   "outputs": [],
   "source": [
    "%%sql\n",
    "--do not delete: original code of previous cell, save for reference\n",
    "    \n",
    "SELECT COURSES_DW.Course_id, Catalog_id, Course_title, Cap, Actual, Remaining, COUNT(course_id) AS Overflow_count\n",
    "FROM COURSES_DW    \n",
    "    JOIN CLASS_FACTS_DW USING (course_id)\n",
    "    WHERE Remaining < 0 AND Cap != 0\n",
    "    --GROUP BY CLASS_FACTS_DW.Course_id\n",
    "    ORDER BY Overflow_count DESC\n",
    "    LIMIT 20;"
   ]
  },
  {
   "cell_type": "markdown",
   "metadata": {},
   "source": [
    "## Which professors have the most diverse courseload?"
   ]
  },
  {
   "cell_type": "code",
   "execution_count": null,
   "metadata": {},
   "outputs": [],
   "source": []
  },
  {
   "cell_type": "markdown",
   "metadata": {},
   "source": [
    "## On which day are the most/least classes held? (DONE)"
   ]
  },
  {
   "cell_type": "code",
   "execution_count": 8,
   "metadata": {},
   "outputs": [
    {
     "name": "stdout",
     "output_type": "stream",
     "text": [
      " * sqlite:///CourseDataWarehouse.db\n",
      "Done.\n"
     ]
    },
    {
     "data": {
      "text/html": [
       "<table>\n",
       "    <tr>\n",
       "        <th>Day</th>\n",
       "        <th>Count</th>\n",
       "    </tr>\n",
       "    <tr>\n",
       "        <td>T</td>\n",
       "        <td>249</td>\n",
       "    </tr>\n",
       "    <tr>\n",
       "        <td>W</td>\n",
       "        <td>243</td>\n",
       "    </tr>\n",
       "    <tr>\n",
       "        <td>R</td>\n",
       "        <td>206</td>\n",
       "    </tr>\n",
       "    <tr>\n",
       "        <td>M</td>\n",
       "        <td>196</td>\n",
       "    </tr>\n",
       "    <tr>\n",
       "        <td>F</td>\n",
       "        <td>137</td>\n",
       "    </tr>\n",
       "    <tr>\n",
       "        <td>S</td>\n",
       "        <td>45</td>\n",
       "    </tr>\n",
       "    <tr>\n",
       "        <td>U</td>\n",
       "        <td>14</td>\n",
       "    </tr>\n",
       "</table>"
      ],
      "text/plain": [
       "[('T', 249),\n",
       " ('W', 243),\n",
       " ('R', 206),\n",
       " ('M', 196),\n",
       " ('F', 137),\n",
       " ('S', 45),\n",
       " ('U', 14)]"
      ]
     },
     "execution_count": 8,
     "metadata": {},
     "output_type": "execute_result"
    }
   ],
   "source": [
    "%%sql\n",
    "SELECT DISTINCT Day, count(Day) as Count\n",
    "FROM TIMECODES_DW\n",
    "GROUP BY Day\n",
    "ORDER BY Count DESC;"
   ]
  },
  {
   "cell_type": "code",
   "execution_count": 11,
   "metadata": {},
   "outputs": [
    {
     "name": "stdout",
     "output_type": "stream",
     "text": [
      " * sqlite:///CourseDataWarehouse.db\n",
      "Done.\n"
     ]
    },
    {
     "data": {
      "text/html": [
       "<table>\n",
       "    <tr>\n",
       "        <th>COUNT(*)</th>\n",
       "    </tr>\n",
       "    <tr>\n",
       "        <td>49</td>\n",
       "    </tr>\n",
       "</table>"
      ],
      "text/plain": [
       "[(49,)]"
      ]
     },
     "execution_count": 11,
     "metadata": {},
     "output_type": "execute_result"
    }
   ],
   "source": [
    "%%sql\n",
    "SELECT COUNT(*)\n",
    "FROM TIMECODES_DW\n",
    "WHERE Start = '12:30:00';"
   ]
  },
  {
   "cell_type": "markdown",
   "metadata": {},
   "source": [
    "## Which professor has taught the most classes? students? (use actual, not cap)"
   ]
  },
  {
   "cell_type": "markdown",
   "metadata": {},
   "source": [
    "Comment- double check if this is right. Might be over counting bc of same problem as first question"
   ]
  },
  {
   "cell_type": "code",
   "execution_count": 23,
   "metadata": {},
   "outputs": [
    {
     "name": "stdout",
     "output_type": "stream",
     "text": [
      " * sqlite:///CourseDataWarehouse.db\n",
      "Done.\n"
     ]
    },
    {
     "data": {
      "text/html": [
       "<table>\n",
       "    <tr>\n",
       "        <th>ID</th>\n",
       "        <th>Program</th>\n",
       "        <th>Name</th>\n",
       "        <th>Courses_Taught</th>\n",
       "    </tr>\n",
       "    <tr>\n",
       "        <td>984</td>\n",
       "        <td>Accounting</td>\n",
       "        <td>Victor E.  Hartman</td>\n",
       "        <td>72</td>\n",
       "    </tr>\n",
       "    <tr>\n",
       "        <td>374</td>\n",
       "        <td>Nursing</td>\n",
       "        <td>Mary M  Murphy</td>\n",
       "        <td>67</td>\n",
       "    </tr>\n",
       "    <tr>\n",
       "        <td>9</td>\n",
       "        <td>Accounting</td>\n",
       "        <td>Milo W.  Peck</td>\n",
       "        <td>63</td>\n",
       "    </tr>\n",
       "    <tr>\n",
       "        <td>457</td>\n",
       "        <td>Physics</td>\n",
       "        <td>Bidyut B.  Das</td>\n",
       "        <td>57</td>\n",
       "    </tr>\n",
       "    <tr>\n",
       "        <td>842</td>\n",
       "        <td>Spanish</td>\n",
       "        <td>Lauren S.  Gaskill</td>\n",
       "        <td>56</td>\n",
       "    </tr>\n",
       "    <tr>\n",
       "        <td>383</td>\n",
       "        <td>Nursing</td>\n",
       "        <td>Laura A.  Conklin</td>\n",
       "        <td>54</td>\n",
       "    </tr>\n",
       "    <tr>\n",
       "        <td>379</td>\n",
       "        <td>Nursing</td>\n",
       "        <td>Kelly Ann  Sullivan</td>\n",
       "        <td>51</td>\n",
       "    </tr>\n",
       "    <tr>\n",
       "        <td>14</td>\n",
       "        <td>Accounting</td>\n",
       "        <td>Patricia M.  Poli</td>\n",
       "        <td>47</td>\n",
       "    </tr>\n",
       "    <tr>\n",
       "        <td>251</td>\n",
       "        <td>Sociology</td>\n",
       "        <td>Rose P.  Rodrigues</td>\n",
       "        <td>46</td>\n",
       "    </tr>\n",
       "    <tr>\n",
       "        <td>398</td>\n",
       "        <td>Nursing</td>\n",
       "        <td>Martha Ann  Boulton</td>\n",
       "        <td>46</td>\n",
       "    </tr>\n",
       "</table>"
      ],
      "text/plain": [
       "[(984, 'Accounting', 'Victor E.  Hartman', 72),\n",
       " (374, 'Nursing', 'Mary M  Murphy', 67),\n",
       " (9, 'Accounting', 'Milo W.  Peck', 63),\n",
       " (457, 'Physics', 'Bidyut B.  Das', 57),\n",
       " (842, 'Spanish', 'Lauren S.  Gaskill', 56),\n",
       " (383, 'Nursing', 'Laura A.  Conklin', 54),\n",
       " (379, 'Nursing', 'Kelly Ann  Sullivan', 51),\n",
       " (14, 'Accounting', 'Patricia M.  Poli', 47),\n",
       " (251, 'Sociology', 'Rose P.  Rodrigues', 46),\n",
       " (398, 'Nursing', 'Martha Ann  Boulton', 46)]"
      ]
     },
     "execution_count": 23,
     "metadata": {},
     "output_type": "execute_result"
    }
   ],
   "source": [
    "%%sql\n",
    "SELECT Professor_id AS ID, program_name AS Program, Name, COUNT(Course_title) AS Courses_Taught\n",
    "FROM PROFESSORS_DW    \n",
    "    JOIN CLASS_FACTS_DW USING (professor_id)\n",
    "    JOIN PROGRAMS_DW USING (program_id)\n",
    "    JOIN COURSES_DW USING (course_id)\n",
    "    GROUP BY ID\n",
    "    ORDER BY Courses_Taught DESC\n",
    "    LIMIT 10;"
   ]
  },
  {
   "cell_type": "code",
   "execution_count": 27,
   "metadata": {},
   "outputs": [
    {
     "name": "stdout",
     "output_type": "stream",
     "text": [
      " * sqlite:///CourseDataWarehouse.db\n",
      "Done.\n"
     ]
    },
    {
     "data": {
      "text/html": [
       "<table>\n",
       "    <tr>\n",
       "        <th>ID</th>\n",
       "        <th>Program</th>\n",
       "        <th>Name</th>\n",
       "        <th>Students_Taught</th>\n",
       "    </tr>\n",
       "    <tr>\n",
       "        <td>374</td>\n",
       "        <td>Nursing</td>\n",
       "        <td>Mary M  Murphy</td>\n",
       "        <td>3249</td>\n",
       "    </tr>\n",
       "    <tr>\n",
       "        <td>380</td>\n",
       "        <td>Nursing</td>\n",
       "        <td>Katherine Marie  Saracino</td>\n",
       "        <td>1611</td>\n",
       "    </tr>\n",
       "    <tr>\n",
       "        <td>9</td>\n",
       "        <td>Accounting</td>\n",
       "        <td>Milo W.  Peck</td>\n",
       "        <td>1598</td>\n",
       "    </tr>\n",
       "    <tr>\n",
       "        <td>51</td>\n",
       "        <td>Biology</td>\n",
       "        <td>Christine   Earls</td>\n",
       "        <td>1319</td>\n",
       "    </tr>\n",
       "    <tr>\n",
       "        <td>52</td>\n",
       "        <td>Biology</td>\n",
       "        <td>Anthony J.  DeCristofaro</td>\n",
       "        <td>1190</td>\n",
       "    </tr>\n",
       "    <tr>\n",
       "        <td>457</td>\n",
       "        <td>Physics</td>\n",
       "        <td>Bidyut B.  Das</td>\n",
       "        <td>1121</td>\n",
       "    </tr>\n",
       "    <tr>\n",
       "        <td>307</td>\n",
       "        <td>Marketing</td>\n",
       "        <td>John E.  Neal</td>\n",
       "        <td>1110</td>\n",
       "    </tr>\n",
       "    <tr>\n",
       "        <td>984</td>\n",
       "        <td>Accounting</td>\n",
       "        <td>Victor E.  Hartman</td>\n",
       "        <td>1077</td>\n",
       "    </tr>\n",
       "    <tr>\n",
       "        <td>297</td>\n",
       "        <td>Management</td>\n",
       "        <td>Paul P.  Daulerio</td>\n",
       "        <td>1058</td>\n",
       "    </tr>\n",
       "    <tr>\n",
       "        <td>496</td>\n",
       "        <td>Religious Studies</td>\n",
       "        <td>John E.  Thiel</td>\n",
       "        <td>1008</td>\n",
       "    </tr>\n",
       "</table>"
      ],
      "text/plain": [
       "[(374, 'Nursing', 'Mary M  Murphy', 3249),\n",
       " (380, 'Nursing', 'Katherine Marie  Saracino', 1611),\n",
       " (9, 'Accounting', 'Milo W.  Peck', 1598),\n",
       " (51, 'Biology', 'Christine   Earls', 1319),\n",
       " (52, 'Biology', 'Anthony J.  DeCristofaro', 1190),\n",
       " (457, 'Physics', 'Bidyut B.  Das', 1121),\n",
       " (307, 'Marketing', 'John E.  Neal', 1110),\n",
       " (984, 'Accounting', 'Victor E.  Hartman', 1077),\n",
       " (297, 'Management', 'Paul P.  Daulerio', 1058),\n",
       " (496, 'Religious Studies', 'John E.  Thiel', 1008)]"
      ]
     },
     "execution_count": 27,
     "metadata": {},
     "output_type": "execute_result"
    }
   ],
   "source": [
    "%%sql\n",
    "SELECT Professor_id AS ID, program_name AS Program, Name, SUM(actual) AS Students_Taught\n",
    "FROM PROFESSORS_DW    \n",
    "    JOIN CLASS_FACTS_DW USING (professor_id)\n",
    "    JOIN PROGRAMS_DW USING (program_id)\n",
    "    JOIN COURSES_DW USING (course_id)\n",
    "    GROUP BY ID\n",
    "    ORDER BY Students_Taught DESC\n",
    "    LIMIT 10;"
   ]
  },
  {
   "cell_type": "markdown",
   "metadata": {},
   "source": [
    "## Which classes are attracting >10 students? (which classes are the least popular--- ratio?)"
   ]
  },
  {
   "cell_type": "code",
   "execution_count": null,
   "metadata": {},
   "outputs": [],
   "source": []
  }
 ],
 "metadata": {
  "kernelspec": {
   "display_name": "Python 3",
   "language": "python",
   "name": "python3"
  },
  "language_info": {
   "codemirror_mode": {
    "name": "ipython",
    "version": 3
   },
   "file_extension": ".py",
   "mimetype": "text/x-python",
   "name": "python",
   "nbconvert_exporter": "python",
   "pygments_lexer": "ipython3",
   "version": "3.6.7"
  }
 },
 "nbformat": 4,
 "nbformat_minor": 4
}
